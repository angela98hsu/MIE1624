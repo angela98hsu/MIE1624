{
 "cells": [
  {
   "cell_type": "markdown",
   "metadata": {},
   "source": [
    "## Assignment 3"
   ]
  },
  {
   "cell_type": "markdown",
   "metadata": {},
   "source": [
    "### Import libraries"
   ]
  },
  {
   "cell_type": "code",
   "execution_count": 222,
   "metadata": {},
   "outputs": [
    {
     "name": "stderr",
     "output_type": "stream",
     "text": [
      "[nltk_data] Downloading package stopwords to\n",
      "[nltk_data]     /Users/angelahsu/nltk_data...\n",
      "[nltk_data]   Package stopwords is already up-to-date!\n",
      "[nltk_data] Downloading package wordnet to\n",
      "[nltk_data]     /Users/angelahsu/nltk_data...\n",
      "[nltk_data]   Package wordnet is already up-to-date!\n"
     ]
    }
   ],
   "source": [
    "import pandas as pd\n",
    "import numpy as np\n",
    "\n",
    "import nltk\n",
    "import html\n",
    "nltk.download(\"stopwords\")\n",
    "nltk.download('wordnet')\n",
    "from nltk.corpus import stopwords\n",
    "from nltk.tokenize import RegexpTokenizer\n",
    "from nltk.stem import PorterStemmer,WordNetLemmatizer\n",
    "import re\n",
    "import unicodedata\n",
    "from bs4 import BeautifulSoup\n",
    "from sklearn.feature_extraction.text import CountVectorizer\n",
    "from sklearn.feature_extraction.text import TfidfVectorizer\n",
    "from collections import Counter \n",
    "import seaborn as sns\n",
    "import matplotlib.pyplot as plt\n",
    "from wordcloud import WordCloud\n",
    "from sklearn.preprocessing import LabelEncoder\n",
    "from statistics import mean\n",
    "from sklearn.model_selection import train_test_split, StratifiedKFold\n",
    "from sklearn.metrics import accuracy_score,classification_report, confusion_matrix\n",
    "from sklearn.model_selection import GridSearchCV\n",
    "\n",
    "from sklearn.naive_bayes import GaussianNB\n",
    "from sklearn.naive_bayes import MultinomialNB\n",
    "from sklearn.tree import DecisionTreeClassifier\n",
    "from sklearn.neighbors import KNeighborsClassifier\n",
    "from sklearn import svm\n",
    "from sklearn.ensemble import RandomForestClassifier,AdaBoostClassifier\n",
    "from sklearn.linear_model import LogisticRegression\n",
    "from sklearn.multiclass import OneVsRestClassifier\n",
    "import warnings\n",
    "warnings.filterwarnings('ignore')"
   ]
  },
  {
   "cell_type": "markdown",
   "metadata": {},
   "source": [
    "## 1. Data cleaning\n",
    "\n",
    "1. All html tags and attributes are removed. I imported BeautifulSoup package, an HTML-parsing libraries, and used 'html.parser' as an implementation of HTML-parsing.\n",
    "\n",
    "2. Html character codes are replaced with an ASCII equivalent. \n",
    "\n",
    "3. All URLs and @ are removed.\n",
    "\n",
    "4. All characters in the text are in lowercase.\n",
    "\n",
    "5. All stop words are removed. I imported stopwords package from nltk.corpus which contains all the stopwords.\n",
    "\n",
    "6. If a tweet is empty after pre-processing, it should be preserved as such.\n",
    "\n",
    "7. Lemmatization is the process of converting a word to its base form. Wordnet is an large, freely and publicly available lexical database for the English language aiming to establish structured semantic relationships between words. In order to lemmatize, you need to download Wordnet, create an instance of the WordNetLemmatizer() and call the lemmatize() function on a single word."
   ]
  },
  {
   "cell_type": "markdown",
   "metadata": {},
   "source": [
    "### (a) Clean sentiment data"
   ]
  },
  {
   "cell_type": "code",
   "execution_count": 223,
   "metadata": {},
   "outputs": [
    {
     "data": {
      "text/html": [
       "<div>\n",
       "<style scoped>\n",
       "    .dataframe tbody tr th:only-of-type {\n",
       "        vertical-align: middle;\n",
       "    }\n",
       "\n",
       "    .dataframe tbody tr th {\n",
       "        vertical-align: top;\n",
       "    }\n",
       "\n",
       "    .dataframe thead th {\n",
       "        text-align: right;\n",
       "    }\n",
       "</style>\n",
       "<table border=\"1\" class=\"dataframe\">\n",
       "  <thead>\n",
       "    <tr style=\"text-align: right;\">\n",
       "      <th></th>\n",
       "      <th>ID</th>\n",
       "      <th>text</th>\n",
       "      <th>label</th>\n",
       "    </tr>\n",
       "  </thead>\n",
       "  <tbody>\n",
       "    <tr>\n",
       "      <th>0</th>\n",
       "      <td>7.680980e+17</td>\n",
       "      <td>Josh Jenkins is looking forward to TAB Breeder...</td>\n",
       "      <td>1</td>\n",
       "    </tr>\n",
       "    <tr>\n",
       "      <th>1</th>\n",
       "      <td>7.680980e+17</td>\n",
       "      <td>RT @MianUsmanJaved: Congratulations Pakistan o...</td>\n",
       "      <td>1</td>\n",
       "    </tr>\n",
       "    <tr>\n",
       "      <th>2</th>\n",
       "      <td>7.680980e+17</td>\n",
       "      <td>RT @PEPalerts: This September, @YESmag is taki...</td>\n",
       "      <td>1</td>\n",
       "    </tr>\n",
       "    <tr>\n",
       "      <th>3</th>\n",
       "      <td>7.680980e+17</td>\n",
       "      <td>RT @david_gaibis: Newly painted walls, thanks ...</td>\n",
       "      <td>1</td>\n",
       "    </tr>\n",
       "    <tr>\n",
       "      <th>4</th>\n",
       "      <td>7.680980e+17</td>\n",
       "      <td>RT @CedricFeschotte: Excited to announce: as o...</td>\n",
       "      <td>1</td>\n",
       "    </tr>\n",
       "    <tr>\n",
       "      <th>...</th>\n",
       "      <td>...</td>\n",
       "      <td>...</td>\n",
       "      <td>...</td>\n",
       "    </tr>\n",
       "    <tr>\n",
       "      <th>550386</th>\n",
       "      <td>8.046170e+17</td>\n",
       "      <td>@goddesses_o I can't stop watching her...mm. M...</td>\n",
       "      <td>0</td>\n",
       "    </tr>\n",
       "    <tr>\n",
       "      <th>550387</th>\n",
       "      <td>8.046180e+17</td>\n",
       "      <td>Poor old Tom Odell doesn't look like he would ...</td>\n",
       "      <td>0</td>\n",
       "    </tr>\n",
       "    <tr>\n",
       "      <th>550388</th>\n",
       "      <td>8.046180e+17</td>\n",
       "      <td>#antsmasher I smashed  7 ants in this awesome ...</td>\n",
       "      <td>1</td>\n",
       "    </tr>\n",
       "    <tr>\n",
       "      <th>550389</th>\n",
       "      <td>8.046180e+17</td>\n",
       "      <td>@LizHudston @KymWyllie @Evasmiless @meanBok @l...</td>\n",
       "      <td>1</td>\n",
       "    </tr>\n",
       "    <tr>\n",
       "      <th>550390</th>\n",
       "      <td>8.046190e+17</td>\n",
       "      <td>Bixbeat Mixtape Vol.2 is here with great artis...</td>\n",
       "      <td>1</td>\n",
       "    </tr>\n",
       "  </tbody>\n",
       "</table>\n",
       "<p>550391 rows × 3 columns</p>\n",
       "</div>"
      ],
      "text/plain": [
       "                  ID                                               text  label\n",
       "0       7.680980e+17  Josh Jenkins is looking forward to TAB Breeder...      1\n",
       "1       7.680980e+17  RT @MianUsmanJaved: Congratulations Pakistan o...      1\n",
       "2       7.680980e+17  RT @PEPalerts: This September, @YESmag is taki...      1\n",
       "3       7.680980e+17  RT @david_gaibis: Newly painted walls, thanks ...      1\n",
       "4       7.680980e+17  RT @CedricFeschotte: Excited to announce: as o...      1\n",
       "...              ...                                                ...    ...\n",
       "550386  8.046170e+17  @goddesses_o I can't stop watching her...mm. M...      0\n",
       "550387  8.046180e+17  Poor old Tom Odell doesn't look like he would ...      0\n",
       "550388  8.046180e+17  #antsmasher I smashed  7 ants in this awesome ...      1\n",
       "550389  8.046180e+17  @LizHudston @KymWyllie @Evasmiless @meanBok @l...      1\n",
       "550390  8.046190e+17  Bixbeat Mixtape Vol.2 is here with great artis...      1\n",
       "\n",
       "[550391 rows x 3 columns]"
      ]
     },
     "execution_count": 223,
     "metadata": {},
     "output_type": "execute_result"
    }
   ],
   "source": [
    "df_sentiment = pd.read_csv('sentiment_analysis.csv')\n",
    "df_sentiment"
   ]
  },
  {
   "cell_type": "code",
   "execution_count": 3,
   "metadata": {},
   "outputs": [],
   "source": [
    "tokenizer = RegexpTokenizer(r'\\w+')\n",
    "lemmatizer = WordNetLemmatizer()\n",
    "def clean_data_1(text):\n",
    "\n",
    "    # convert 'RT @'' to '@' and Remove the word after @\n",
    "    rt = re.compile('RT @')\n",
    "    text = re.sub(rt, '@', str(text))\n",
    "    at = re.compile('@(?=\\w+)\\w+')\n",
    "    text = re.sub(at,'', str(text))\n",
    "    \n",
    "    #remove emoji\n",
    "    emoji = re.compile(r'\\\\[x][a-z\\d]{2}')\n",
    "    text = re.sub(emoji,'', text)\n",
    "    \n",
    "    #remove html tags and attributes\n",
    "    text = BeautifulSoup(text,'html.parser').get_text()\n",
    "\n",
    "    #replace ASCII\n",
    "    text = html.unescape(text)\n",
    "    text = unicodedata.normalize('NFKD',text).encode('ascii','ignore').decode('utf-8')\n",
    "\n",
    "    #remove URLs\n",
    "    text = re.sub(r'\\w+:\\/{2}[\\d\\w-]+(\\.[\\d\\w-]+)*(?:(?:\\/[^\\s/]*))*', '', text)\n",
    "\n",
    "    #lowercase\n",
    "    text = text.lower()\n",
    "\n",
    "    #remove stop words \n",
    "    text = [word for word in tokenizer.tokenize(text) if word not in stopwords.words('english')]\n",
    "    \n",
    "    #lemmatize words\n",
    "    text = [lemmatizer.lemmatize(word, pos='v') for word in text]\n",
    "    text = [lemmatizer.lemmatize(word, pos='n') for word in text]\n",
    "    return text"
   ]
  },
  {
   "cell_type": "code",
   "execution_count": 4,
   "metadata": {},
   "outputs": [
    {
     "name": "stdout",
     "output_type": "stream",
     "text": [
      "CPU times: user 13min 1s, sys: 3min 18s, total: 16min 20s\n",
      "Wall time: 17min 33s\n"
     ]
    }
   ],
   "source": [
    "%%time\n",
    "df_sentiment['text']=list(map(clean_data_1,df_sentiment['text']))"
   ]
  },
  {
   "cell_type": "code",
   "execution_count": 5,
   "metadata": {},
   "outputs": [
    {
     "data": {
      "text/html": [
       "<div>\n",
       "<style scoped>\n",
       "    .dataframe tbody tr th:only-of-type {\n",
       "        vertical-align: middle;\n",
       "    }\n",
       "\n",
       "    .dataframe tbody tr th {\n",
       "        vertical-align: top;\n",
       "    }\n",
       "\n",
       "    .dataframe thead th {\n",
       "        text-align: right;\n",
       "    }\n",
       "</style>\n",
       "<table border=\"1\" class=\"dataframe\">\n",
       "  <thead>\n",
       "    <tr style=\"text-align: right;\">\n",
       "      <th></th>\n",
       "      <th>ID</th>\n",
       "      <th>text</th>\n",
       "      <th>label</th>\n",
       "    </tr>\n",
       "  </thead>\n",
       "  <tbody>\n",
       "    <tr>\n",
       "      <th>0</th>\n",
       "      <td>7.680980e+17</td>\n",
       "      <td>[josh, jenkins, look, forward, tab, breeder, c...</td>\n",
       "      <td>1</td>\n",
       "    </tr>\n",
       "    <tr>\n",
       "      <th>1</th>\n",
       "      <td>7.680980e+17</td>\n",
       "      <td>[congratulation, pakistan, become, no1testteam...</td>\n",
       "      <td>1</td>\n",
       "    </tr>\n",
       "    <tr>\n",
       "      <th>2</th>\n",
       "      <td>7.680980e+17</td>\n",
       "      <td>[september, take, maine, mendozas, surprise, t...</td>\n",
       "      <td>1</td>\n",
       "    </tr>\n",
       "    <tr>\n",
       "      <th>3</th>\n",
       "      <td>7.680980e+17</td>\n",
       "      <td>[newly, paint, wall, thank, million, custodial...</td>\n",
       "      <td>1</td>\n",
       "    </tr>\n",
       "    <tr>\n",
       "      <th>4</th>\n",
       "      <td>7.680980e+17</td>\n",
       "      <td>[excite, announce, july, 2017, feschotte, lab,...</td>\n",
       "      <td>1</td>\n",
       "    </tr>\n",
       "    <tr>\n",
       "      <th>...</th>\n",
       "      <td>...</td>\n",
       "      <td>...</td>\n",
       "      <td>...</td>\n",
       "    </tr>\n",
       "    <tr>\n",
       "      <th>550386</th>\n",
       "      <td>8.046170e+17</td>\n",
       "      <td>[stop, watch, mm]</td>\n",
       "      <td>0</td>\n",
       "    </tr>\n",
       "    <tr>\n",
       "      <th>550387</th>\n",
       "      <td>8.046180e+17</td>\n",
       "      <td>[poor, old, tom, odell, look, like, would, kno...</td>\n",
       "      <td>0</td>\n",
       "    </tr>\n",
       "    <tr>\n",
       "      <th>550388</th>\n",
       "      <td>8.046180e+17</td>\n",
       "      <td>[antsmasher, smash, 7, ant, awesome, game, hjf...</td>\n",
       "      <td>1</td>\n",
       "    </tr>\n",
       "    <tr>\n",
       "      <th>550389</th>\n",
       "      <td>8.046180e+17</td>\n",
       "      <td>[morning, girl, wonderful, friday]</td>\n",
       "      <td>1</td>\n",
       "    </tr>\n",
       "    <tr>\n",
       "      <th>550390</th>\n",
       "      <td>8.046190e+17</td>\n",
       "      <td>[bixbeat, mixtape, vol, 2, great, artiste, joi...</td>\n",
       "      <td>1</td>\n",
       "    </tr>\n",
       "  </tbody>\n",
       "</table>\n",
       "<p>550391 rows × 3 columns</p>\n",
       "</div>"
      ],
      "text/plain": [
       "                  ID                                               text  label\n",
       "0       7.680980e+17  [josh, jenkins, look, forward, tab, breeder, c...      1\n",
       "1       7.680980e+17  [congratulation, pakistan, become, no1testteam...      1\n",
       "2       7.680980e+17  [september, take, maine, mendozas, surprise, t...      1\n",
       "3       7.680980e+17  [newly, paint, wall, thank, million, custodial...      1\n",
       "4       7.680980e+17  [excite, announce, july, 2017, feschotte, lab,...      1\n",
       "...              ...                                                ...    ...\n",
       "550386  8.046170e+17                                  [stop, watch, mm]      0\n",
       "550387  8.046180e+17  [poor, old, tom, odell, look, like, would, kno...      0\n",
       "550388  8.046180e+17  [antsmasher, smash, 7, ant, awesome, game, hjf...      1\n",
       "550389  8.046180e+17                 [morning, girl, wonderful, friday]      1\n",
       "550390  8.046190e+17  [bixbeat, mixtape, vol, 2, great, artiste, joi...      1\n",
       "\n",
       "[550391 rows x 3 columns]"
      ]
     },
     "execution_count": 5,
     "metadata": {},
     "output_type": "execute_result"
    }
   ],
   "source": [
    "df_sentiment"
   ]
  },
  {
   "cell_type": "markdown",
   "metadata": {},
   "source": [
    "### (b) Clean elections data"
   ]
  },
  {
   "cell_type": "markdown",
   "metadata": {},
   "source": [
    "For Canadian election data, I added one more cleaning which is to remove b'/b\" at the beginning of the tweets and the \\n in the tweets."
   ]
  },
  {
   "cell_type": "code",
   "execution_count": 6,
   "metadata": {},
   "outputs": [
    {
     "data": {
      "text/html": [
       "<div>\n",
       "<style scoped>\n",
       "    .dataframe tbody tr th:only-of-type {\n",
       "        vertical-align: middle;\n",
       "    }\n",
       "\n",
       "    .dataframe tbody tr th {\n",
       "        vertical-align: top;\n",
       "    }\n",
       "\n",
       "    .dataframe thead th {\n",
       "        text-align: right;\n",
       "    }\n",
       "</style>\n",
       "<table border=\"1\" class=\"dataframe\">\n",
       "  <thead>\n",
       "    <tr style=\"text-align: right;\">\n",
       "      <th></th>\n",
       "      <th>sentiment</th>\n",
       "      <th>negative_reason</th>\n",
       "      <th>text</th>\n",
       "    </tr>\n",
       "  </thead>\n",
       "  <tbody>\n",
       "    <tr>\n",
       "      <th>0</th>\n",
       "      <td>negative</td>\n",
       "      <td>Women Reproductive right and Racism</td>\n",
       "      <td>b\"@RosieBarton So instead of your suggestion, ...</td>\n",
       "    </tr>\n",
       "    <tr>\n",
       "      <th>1</th>\n",
       "      <td>positive</td>\n",
       "      <td>NaN</td>\n",
       "      <td>b\"#AllWomanSpacewalk it's real!\\n@Space_Statio...</td>\n",
       "    </tr>\n",
       "    <tr>\n",
       "      <th>2</th>\n",
       "      <td>negative</td>\n",
       "      <td>Economy</td>\n",
       "      <td>b\"#Brantford It's going to cost YOU $94 BILLIO...</td>\n",
       "    </tr>\n",
       "    <tr>\n",
       "      <th>3</th>\n",
       "      <td>positive</td>\n",
       "      <td>NaN</td>\n",
       "      <td>b\"#Canada #CanadaElection2019 #CanadaVotes \\n#...</td>\n",
       "    </tr>\n",
       "    <tr>\n",
       "      <th>4</th>\n",
       "      <td>negative</td>\n",
       "      <td>Economy</td>\n",
       "      <td>b\"#Canada #taxpayers are sick &amp;amp; tired of h...</td>\n",
       "    </tr>\n",
       "    <tr>\n",
       "      <th>...</th>\n",
       "      <td>...</td>\n",
       "      <td>...</td>\n",
       "      <td>...</td>\n",
       "    </tr>\n",
       "    <tr>\n",
       "      <th>2128</th>\n",
       "      <td>negative</td>\n",
       "      <td>Scandal</td>\n",
       "      <td>b'You know he was doing a good enough job smea...</td>\n",
       "    </tr>\n",
       "    <tr>\n",
       "      <th>2129</th>\n",
       "      <td>negative</td>\n",
       "      <td>Scandal</td>\n",
       "      <td>b'You missed the comment. Deflecting the issue...</td>\n",
       "    </tr>\n",
       "    <tr>\n",
       "      <th>2130</th>\n",
       "      <td>positive</td>\n",
       "      <td>NaN</td>\n",
       "      <td>b'Your daily reminder:\\n@theJagmeetSingh endor...</td>\n",
       "    </tr>\n",
       "    <tr>\n",
       "      <th>2131</th>\n",
       "      <td>negative</td>\n",
       "      <td>Women Reproductive right and Racism</td>\n",
       "      <td>b'Yup...not going to reopen the abortion debat...</td>\n",
       "    </tr>\n",
       "    <tr>\n",
       "      <th>2132</th>\n",
       "      <td>positive</td>\n",
       "      <td>NaN</td>\n",
       "      <td>b'Zing.\\n#NDP #elxn43 https://t.co/xo6Qe4jV3p'</td>\n",
       "    </tr>\n",
       "  </tbody>\n",
       "</table>\n",
       "<p>2133 rows × 3 columns</p>\n",
       "</div>"
      ],
      "text/plain": [
       "     sentiment                      negative_reason  \\\n",
       "0     negative  Women Reproductive right and Racism   \n",
       "1     positive                                  NaN   \n",
       "2     negative                              Economy   \n",
       "3     positive                                  NaN   \n",
       "4     negative                              Economy   \n",
       "...        ...                                  ...   \n",
       "2128  negative                              Scandal   \n",
       "2129  negative                              Scandal   \n",
       "2130  positive                                  NaN   \n",
       "2131  negative  Women Reproductive right and Racism   \n",
       "2132  positive                                  NaN   \n",
       "\n",
       "                                                   text  \n",
       "0     b\"@RosieBarton So instead of your suggestion, ...  \n",
       "1     b\"#AllWomanSpacewalk it's real!\\n@Space_Statio...  \n",
       "2     b\"#Brantford It's going to cost YOU $94 BILLIO...  \n",
       "3     b\"#Canada #CanadaElection2019 #CanadaVotes \\n#...  \n",
       "4     b\"#Canada #taxpayers are sick &amp; tired of h...  \n",
       "...                                                 ...  \n",
       "2128  b'You know he was doing a good enough job smea...  \n",
       "2129  b'You missed the comment. Deflecting the issue...  \n",
       "2130  b'Your daily reminder:\\n@theJagmeetSingh endor...  \n",
       "2131  b'Yup...not going to reopen the abortion debat...  \n",
       "2132     b'Zing.\\n#NDP #elxn43 https://t.co/xo6Qe4jV3p'  \n",
       "\n",
       "[2133 rows x 3 columns]"
      ]
     },
     "execution_count": 6,
     "metadata": {},
     "output_type": "execute_result"
    }
   ],
   "source": [
    "df_election = pd.read_csv('Canadian_elections_2019.csv')\n",
    "df_election"
   ]
  },
  {
   "cell_type": "code",
   "execution_count": 9,
   "metadata": {},
   "outputs": [],
   "source": [
    "def clean_data_2(text):\n",
    "    \n",
    "    #remove unknown characters b and \\\\n\n",
    "    text = text.replace('\\\\n','')\n",
    "    text = re.sub(r'[b]\\\"|[b]\\'', '', text)\n",
    "    \n",
    "    #remove emoji\n",
    "    emoji = re.compile(r'\\\\[x][a-z\\d]{2}')\n",
    "    text = re.sub(emoji,'', text)\n",
    "    \n",
    "    # Remove the word after @\n",
    "    text = re.compile('RT @').sub('@', str(text))\n",
    "    at = re.compile('@(?=\\w+)\\w+')\n",
    "    text = re.sub(at,'', str(text))\n",
    "    \n",
    "    #remove html tags and attributes\n",
    "    text = BeautifulSoup(text,'html.parser').get_text()\n",
    "\n",
    "    #replace ASCII\n",
    "    text = html.unescape(text)\n",
    "    text = unicodedata.normalize('NFKD',text).encode('ascii','ignore').decode('utf-8')\n",
    "\n",
    "    #remove URLs\n",
    "    text = re.sub(r'\\w+:\\/{2}[\\d\\w-]+(\\.[\\d\\w-]+)*(?:(?:\\/[^\\s/]*))*', '', text)\n",
    "\n",
    "    #lowercase\n",
    "    text = text.lower()\n",
    "\n",
    "    #remove stop words \n",
    "    text = [word for word in tokenizer.tokenize(text) if word not in stopwords.words('english')]\n",
    "    \n",
    "    #lemmatize words\n",
    "    text = [lemmatizer.lemmatize(word, pos='v') for word in text]\n",
    "    text = [lemmatizer.lemmatize(word, pos='n') for word in text]\n",
    "    \n",
    "    return text"
   ]
  },
  {
   "cell_type": "code",
   "execution_count": 10,
   "metadata": {},
   "outputs": [],
   "source": [
    "df_election['text']=list(map(clean_data_2,df_election['text']))"
   ]
  },
  {
   "cell_type": "code",
   "execution_count": 11,
   "metadata": {},
   "outputs": [
    {
     "data": {
      "text/html": [
       "<div>\n",
       "<style scoped>\n",
       "    .dataframe tbody tr th:only-of-type {\n",
       "        vertical-align: middle;\n",
       "    }\n",
       "\n",
       "    .dataframe tbody tr th {\n",
       "        vertical-align: top;\n",
       "    }\n",
       "\n",
       "    .dataframe thead th {\n",
       "        text-align: right;\n",
       "    }\n",
       "</style>\n",
       "<table border=\"1\" class=\"dataframe\">\n",
       "  <thead>\n",
       "    <tr style=\"text-align: right;\">\n",
       "      <th></th>\n",
       "      <th>sentiment</th>\n",
       "      <th>negative_reason</th>\n",
       "      <th>text</th>\n",
       "    </tr>\n",
       "  </thead>\n",
       "  <tbody>\n",
       "    <tr>\n",
       "      <th>0</th>\n",
       "      <td>negative</td>\n",
       "      <td>Women Reproductive right and Racism</td>\n",
       "      <td>[instead, suggestion, agree, canadian, woman, ...</td>\n",
       "    </tr>\n",
       "    <tr>\n",
       "      <th>1</th>\n",
       "      <td>positive</td>\n",
       "      <td>NaN</td>\n",
       "      <td>[allwomanspacewalk, real, etobicokenorth, city...</td>\n",
       "    </tr>\n",
       "    <tr>\n",
       "      <th>2</th>\n",
       "      <td>negative</td>\n",
       "      <td>Economy</td>\n",
       "      <td>[brantford, go, cost, 94, billion, next, 4, ye...</td>\n",
       "    </tr>\n",
       "    <tr>\n",
       "      <th>3</th>\n",
       "      <td>positive</td>\n",
       "      <td>NaN</td>\n",
       "      <td>[canada, canadaelection2019, canadavotes, elxn...</td>\n",
       "    </tr>\n",
       "    <tr>\n",
       "      <th>4</th>\n",
       "      <td>negative</td>\n",
       "      <td>Economy</td>\n",
       "      <td>[canada, taxpayer, sick, tire, hard, earn, don...</td>\n",
       "    </tr>\n",
       "    <tr>\n",
       "      <th>...</th>\n",
       "      <td>...</td>\n",
       "      <td>...</td>\n",
       "      <td>...</td>\n",
       "    </tr>\n",
       "    <tr>\n",
       "      <th>2128</th>\n",
       "      <td>negative</td>\n",
       "      <td>Scandal</td>\n",
       "      <td>[know, good, enough, job, smear, campaign, rig...</td>\n",
       "    </tr>\n",
       "    <tr>\n",
       "      <th>2129</th>\n",
       "      <td>negative</td>\n",
       "      <td>Scandal</td>\n",
       "      <td>[miss, comment, deflect, issue, answer, best, ...</td>\n",
       "    </tr>\n",
       "    <tr>\n",
       "      <th>2130</th>\n",
       "      <td>positive</td>\n",
       "      <td>NaN</td>\n",
       "      <td>[daily, reminder, endorse, strategic, vote, el...</td>\n",
       "    </tr>\n",
       "    <tr>\n",
       "      <th>2131</th>\n",
       "      <td>negative</td>\n",
       "      <td>Women Reproductive right and Racism</td>\n",
       "      <td>[yup, go, reopen, abortion, debate, elxn43, sc...</td>\n",
       "    </tr>\n",
       "    <tr>\n",
       "      <th>2132</th>\n",
       "      <td>positive</td>\n",
       "      <td>NaN</td>\n",
       "      <td>[zing, ndp, elxn43]</td>\n",
       "    </tr>\n",
       "  </tbody>\n",
       "</table>\n",
       "<p>2133 rows × 3 columns</p>\n",
       "</div>"
      ],
      "text/plain": [
       "     sentiment                      negative_reason  \\\n",
       "0     negative  Women Reproductive right and Racism   \n",
       "1     positive                                  NaN   \n",
       "2     negative                              Economy   \n",
       "3     positive                                  NaN   \n",
       "4     negative                              Economy   \n",
       "...        ...                                  ...   \n",
       "2128  negative                              Scandal   \n",
       "2129  negative                              Scandal   \n",
       "2130  positive                                  NaN   \n",
       "2131  negative  Women Reproductive right and Racism   \n",
       "2132  positive                                  NaN   \n",
       "\n",
       "                                                   text  \n",
       "0     [instead, suggestion, agree, canadian, woman, ...  \n",
       "1     [allwomanspacewalk, real, etobicokenorth, city...  \n",
       "2     [brantford, go, cost, 94, billion, next, 4, ye...  \n",
       "3     [canada, canadaelection2019, canadavotes, elxn...  \n",
       "4     [canada, taxpayer, sick, tire, hard, earn, don...  \n",
       "...                                                 ...  \n",
       "2128  [know, good, enough, job, smear, campaign, rig...  \n",
       "2129  [miss, comment, deflect, issue, answer, best, ...  \n",
       "2130  [daily, reminder, endorse, strategic, vote, el...  \n",
       "2131  [yup, go, reopen, abortion, debate, elxn43, sc...  \n",
       "2132                                [zing, ndp, elxn43]  \n",
       "\n",
       "[2133 rows x 3 columns]"
      ]
     },
     "execution_count": 11,
     "metadata": {},
     "output_type": "execute_result"
    }
   ],
   "source": [
    "df_election"
   ]
  },
  {
   "cell_type": "markdown",
   "metadata": {},
   "source": [
    "## 2. Exploratory data analysis\n",
    "\n",
    "There are three political parties in consideration which are Liberal, Conservative and NDP. To determine the political affiliation, chech whether the tweet contains any of these identifiers related to certain political parties or candidates. The identifiers are listed as below."
   ]
  },
  {
   "cell_type": "markdown",
   "metadata": {},
   "source": [
    "### (a) Create keywords lists for political parties\n",
    "For each political party, there is a list that contain the relevant keywords which can reflect political preference. The keywords are determined by leader, slogan, hashtag. "
   ]
  },
  {
   "cell_type": "markdown",
   "metadata": {},
   "source": [
    "Relevant Information for Different Politocal Parties:\n",
    "1. **Liberal**\n",
    "    - Leader: Justin Trudeau\n",
    "    - Twitter Account: @JustinTrudeau\n",
    "    - Slogan: 'chooseforward'\n",
    "    - Hashtag: #lpc\n",
    "    - Identifiers:    \"Justin Trudeau\" ;\n",
    "                      \"Trudeau\";\n",
    "                      \"Justin\"\n",
    "                      \"Choose forward\";\n",
    "                      \"Proven leadership for a strong Canada\";\n",
    "                      \"Safer Canada/Stronger Economy\";\n",
    "                      \"Protect our Economy\";\n",
    "                      \"liberal\";\n",
    "                      \"#LavScam\";\n",
    "                      \"Trudeau must go\";\n",
    "                      \"#TrudeauMustGo\";\n",
    "                      \"#LiberalsMustGo\"\n",
    "                      \"#TrudeauBlackface\";\n",
    "                      \"#NotAsAdvertised\";\n",
    "                      \"#LiberalLiesAndDeception\";\n",
    "    \n",
    "2. **Conservative**\n",
    "    - Leader: Andrew Scheer\n",
    "    - Twitter Account: @AndrewScheer\n",
    "    - Slogan: 'it's time for your to get ahead'\n",
    "    - Hashtag: #cpc\n",
    "    - Identifiers: \"Andrew Scheer\"; \n",
    "                    \"Andrew\";\n",
    "                    \"Scheer\";\n",
    "                    \"#Scheer4PM\";\n",
    "                    \"#ScheerMajority\";\n",
    "                    \"It's time for you to get ahead\";\n",
    "                    \"conservative\";\n",
    "                    \"Real Change (Now)\";\n",
    "                    \"#ScheerLies\";\n",
    "                    \"#ScheerStupidity\";\n",
    "                    \"#ScheerDelusion\";\n",
    "                    \"#Scheer2019\"\n",
    "\n",
    "3. **New Democratic**\n",
    "    - Leader: Jagmeet Singh\n",
    "    - Twitter Account: @theJagmeetSingh\n",
    "    - Slogan: 'in it for you'\n",
    "    - Hashtag: #ndp\n",
    "    - Identifiers: \"Jagmeet Singh\" ; \n",
    "                    \"Jagmeet\";\n",
    "                    \"Singh\";\n",
    "                    \"In it for you\" ; \n",
    "                    \"We fight for you\" ;\n",
    "                    \"Ready for Change\";\n",
    "                    \"#SinghUpSwing\";\n",
    "                    \"#Jaggernaut\";\n",
    "                    \"#UpRiSingh\"\n",
    "\n",
    "4. **None**\n",
    "    - Includes Bloc Quebecois and Green parties"
   ]
  },
  {
   "cell_type": "markdown",
   "metadata": {},
   "source": [
    "### (b) Return only one party or return none\n",
    "Since there may be cases that multiple parties are mentioned, I need to compare which party is mentioned most frequently and return only one political party. Also, there may be cases where tweet exhibits no political affiliation and thus return None to show no political interest."
   ]
  },
  {
   "cell_type": "code",
   "execution_count": 12,
   "metadata": {},
   "outputs": [],
   "source": [
    "def party(text):\n",
    "    \n",
    "    #define the words that show political inclination\n",
    "    l_ls = ['trudeau', \"justin\", \"justintrudeau\", \n",
    "               \"liberal\",\"liberals\",\"red\",\n",
    "               \"safercanada\",\"strongereconomy\",\"protectoureconomy\",\n",
    "               \"teamtrudeau\",\"lpc\",'voteliberal','chooseforward']\n",
    "    \n",
    "    c_ls = ['andrew scheer','conservatives', 'cpc','andrew',\n",
    "            'scheer','scheer2019','scheerMajority','scheer4PM',\n",
    "            'andrewscheer','conservative','voteconservative','getahead',\n",
    "            'it is time for you to get ahead']\n",
    "    \n",
    "    n_ls = ['new democratic party','ndp','ptndp','thejagmeet',\n",
    "            'jagmeet','singh','jagmeetsingh','democratic','democrats',\n",
    "            'initforyou','singhupswing','uprisingh','we fight for you','jaggernaut','ready for change']\n",
    "    \n",
    "    mention = []\n",
    "\n",
    "    #identify the political party based on lists of keywords\n",
    "    for word in text:\n",
    "        if word in l_ls:\n",
    "              mention.append('liberal')\n",
    "        if word in c_ls:\n",
    "              mention.append('conservatives')\n",
    "        if word in n_ls:\n",
    "              mention.append('new democratic party')\n",
    "                \n",
    "    # If there are multiple parties mentioned, return the party mentioned most frequently\n",
    "    if len(mention) > 1:\n",
    "        most_frequent = max(set(mention), key=mention.count)\n",
    "        mention = []\n",
    "        mention.append(most_frequent)\n",
    "        \n",
    "    # If there is no party mentioned in the list, return None \n",
    "    elif len(mention) == 0:\n",
    "        mention.append('None')\n",
    "    \n",
    "    #return value rather than list\n",
    "    return mention[0] "
   ]
  },
  {
   "cell_type": "code",
   "execution_count": 13,
   "metadata": {},
   "outputs": [
    {
     "data": {
      "text/html": [
       "<div>\n",
       "<style scoped>\n",
       "    .dataframe tbody tr th:only-of-type {\n",
       "        vertical-align: middle;\n",
       "    }\n",
       "\n",
       "    .dataframe tbody tr th {\n",
       "        vertical-align: top;\n",
       "    }\n",
       "\n",
       "    .dataframe thead th {\n",
       "        text-align: right;\n",
       "    }\n",
       "</style>\n",
       "<table border=\"1\" class=\"dataframe\">\n",
       "  <thead>\n",
       "    <tr style=\"text-align: right;\">\n",
       "      <th></th>\n",
       "      <th>sentiment</th>\n",
       "      <th>negative_reason</th>\n",
       "      <th>text</th>\n",
       "      <th>political_party</th>\n",
       "    </tr>\n",
       "  </thead>\n",
       "  <tbody>\n",
       "    <tr>\n",
       "      <th>0</th>\n",
       "      <td>negative</td>\n",
       "      <td>Women Reproductive right and Racism</td>\n",
       "      <td>[instead, suggestion, agree, canadian, woman, ...</td>\n",
       "      <td></td>\n",
       "    </tr>\n",
       "    <tr>\n",
       "      <th>1</th>\n",
       "      <td>positive</td>\n",
       "      <td>NaN</td>\n",
       "      <td>[allwomanspacewalk, real, etobicokenorth, city...</td>\n",
       "      <td></td>\n",
       "    </tr>\n",
       "    <tr>\n",
       "      <th>2</th>\n",
       "      <td>negative</td>\n",
       "      <td>Economy</td>\n",
       "      <td>[brantford, go, cost, 94, billion, next, 4, ye...</td>\n",
       "      <td></td>\n",
       "    </tr>\n",
       "    <tr>\n",
       "      <th>3</th>\n",
       "      <td>positive</td>\n",
       "      <td>NaN</td>\n",
       "      <td>[canada, canadaelection2019, canadavotes, elxn...</td>\n",
       "      <td></td>\n",
       "    </tr>\n",
       "    <tr>\n",
       "      <th>4</th>\n",
       "      <td>negative</td>\n",
       "      <td>Economy</td>\n",
       "      <td>[canada, taxpayer, sick, tire, hard, earn, don...</td>\n",
       "      <td></td>\n",
       "    </tr>\n",
       "    <tr>\n",
       "      <th>...</th>\n",
       "      <td>...</td>\n",
       "      <td>...</td>\n",
       "      <td>...</td>\n",
       "      <td>...</td>\n",
       "    </tr>\n",
       "    <tr>\n",
       "      <th>2128</th>\n",
       "      <td>negative</td>\n",
       "      <td>Scandal</td>\n",
       "      <td>[know, good, enough, job, smear, campaign, rig...</td>\n",
       "      <td></td>\n",
       "    </tr>\n",
       "    <tr>\n",
       "      <th>2129</th>\n",
       "      <td>negative</td>\n",
       "      <td>Scandal</td>\n",
       "      <td>[miss, comment, deflect, issue, answer, best, ...</td>\n",
       "      <td></td>\n",
       "    </tr>\n",
       "    <tr>\n",
       "      <th>2130</th>\n",
       "      <td>positive</td>\n",
       "      <td>NaN</td>\n",
       "      <td>[daily, reminder, endorse, strategic, vote, el...</td>\n",
       "      <td></td>\n",
       "    </tr>\n",
       "    <tr>\n",
       "      <th>2131</th>\n",
       "      <td>negative</td>\n",
       "      <td>Women Reproductive right and Racism</td>\n",
       "      <td>[yup, go, reopen, abortion, debate, elxn43, sc...</td>\n",
       "      <td></td>\n",
       "    </tr>\n",
       "    <tr>\n",
       "      <th>2132</th>\n",
       "      <td>positive</td>\n",
       "      <td>NaN</td>\n",
       "      <td>[zing, ndp, elxn43]</td>\n",
       "      <td></td>\n",
       "    </tr>\n",
       "  </tbody>\n",
       "</table>\n",
       "<p>2133 rows × 4 columns</p>\n",
       "</div>"
      ],
      "text/plain": [
       "     sentiment                      negative_reason  \\\n",
       "0     negative  Women Reproductive right and Racism   \n",
       "1     positive                                  NaN   \n",
       "2     negative                              Economy   \n",
       "3     positive                                  NaN   \n",
       "4     negative                              Economy   \n",
       "...        ...                                  ...   \n",
       "2128  negative                              Scandal   \n",
       "2129  negative                              Scandal   \n",
       "2130  positive                                  NaN   \n",
       "2131  negative  Women Reproductive right and Racism   \n",
       "2132  positive                                  NaN   \n",
       "\n",
       "                                                   text political_party  \n",
       "0     [instead, suggestion, agree, canadian, woman, ...                  \n",
       "1     [allwomanspacewalk, real, etobicokenorth, city...                  \n",
       "2     [brantford, go, cost, 94, billion, next, 4, ye...                  \n",
       "3     [canada, canadaelection2019, canadavotes, elxn...                  \n",
       "4     [canada, taxpayer, sick, tire, hard, earn, don...                  \n",
       "...                                                 ...             ...  \n",
       "2128  [know, good, enough, job, smear, campaign, rig...                  \n",
       "2129  [miss, comment, deflect, issue, answer, best, ...                  \n",
       "2130  [daily, reminder, endorse, strategic, vote, el...                  \n",
       "2131  [yup, go, reopen, abortion, debate, elxn43, sc...                  \n",
       "2132                                [zing, ndp, elxn43]                  \n",
       "\n",
       "[2133 rows x 4 columns]"
      ]
     },
     "execution_count": 13,
     "metadata": {},
     "output_type": "execute_result"
    }
   ],
   "source": [
    "# add a column to df_election to show political affiliation\n",
    "df_election['political_party'] = ''\n",
    "df_election"
   ]
  },
  {
   "cell_type": "code",
   "execution_count": 16,
   "metadata": {},
   "outputs": [
    {
     "data": {
      "text/html": [
       "<div>\n",
       "<style scoped>\n",
       "    .dataframe tbody tr th:only-of-type {\n",
       "        vertical-align: middle;\n",
       "    }\n",
       "\n",
       "    .dataframe tbody tr th {\n",
       "        vertical-align: top;\n",
       "    }\n",
       "\n",
       "    .dataframe thead th {\n",
       "        text-align: right;\n",
       "    }\n",
       "</style>\n",
       "<table border=\"1\" class=\"dataframe\">\n",
       "  <thead>\n",
       "    <tr style=\"text-align: right;\">\n",
       "      <th></th>\n",
       "      <th>sentiment</th>\n",
       "      <th>negative_reason</th>\n",
       "      <th>text</th>\n",
       "      <th>political_party</th>\n",
       "    </tr>\n",
       "  </thead>\n",
       "  <tbody>\n",
       "    <tr>\n",
       "      <th>0</th>\n",
       "      <td>negative</td>\n",
       "      <td>Women Reproductive right and Racism</td>\n",
       "      <td>[instead, suggestion, agree, canadian, woman, ...</td>\n",
       "      <td>conservatives</td>\n",
       "    </tr>\n",
       "    <tr>\n",
       "      <th>1</th>\n",
       "      <td>positive</td>\n",
       "      <td>NaN</td>\n",
       "      <td>[allwomanspacewalk, real, etobicokenorth, city...</td>\n",
       "      <td>None</td>\n",
       "    </tr>\n",
       "    <tr>\n",
       "      <th>2</th>\n",
       "      <td>negative</td>\n",
       "      <td>Economy</td>\n",
       "      <td>[brantford, go, cost, 94, billion, next, 4, ye...</td>\n",
       "      <td>liberal</td>\n",
       "    </tr>\n",
       "    <tr>\n",
       "      <th>3</th>\n",
       "      <td>positive</td>\n",
       "      <td>NaN</td>\n",
       "      <td>[canada, canadaelection2019, canadavotes, elxn...</td>\n",
       "      <td>None</td>\n",
       "    </tr>\n",
       "    <tr>\n",
       "      <th>4</th>\n",
       "      <td>negative</td>\n",
       "      <td>Economy</td>\n",
       "      <td>[canada, taxpayer, sick, tire, hard, earn, don...</td>\n",
       "      <td>None</td>\n",
       "    </tr>\n",
       "    <tr>\n",
       "      <th>...</th>\n",
       "      <td>...</td>\n",
       "      <td>...</td>\n",
       "      <td>...</td>\n",
       "      <td>...</td>\n",
       "    </tr>\n",
       "    <tr>\n",
       "      <th>2128</th>\n",
       "      <td>negative</td>\n",
       "      <td>Scandal</td>\n",
       "      <td>[know, good, enough, job, smear, campaign, rig...</td>\n",
       "      <td>None</td>\n",
       "    </tr>\n",
       "    <tr>\n",
       "      <th>2129</th>\n",
       "      <td>negative</td>\n",
       "      <td>Scandal</td>\n",
       "      <td>[miss, comment, deflect, issue, answer, best, ...</td>\n",
       "      <td>None</td>\n",
       "    </tr>\n",
       "    <tr>\n",
       "      <th>2130</th>\n",
       "      <td>positive</td>\n",
       "      <td>NaN</td>\n",
       "      <td>[daily, reminder, endorse, strategic, vote, el...</td>\n",
       "      <td>liberal</td>\n",
       "    </tr>\n",
       "    <tr>\n",
       "      <th>2131</th>\n",
       "      <td>negative</td>\n",
       "      <td>Women Reproductive right and Racism</td>\n",
       "      <td>[yup, go, reopen, abortion, debate, elxn43, sc...</td>\n",
       "      <td>None</td>\n",
       "    </tr>\n",
       "    <tr>\n",
       "      <th>2132</th>\n",
       "      <td>positive</td>\n",
       "      <td>NaN</td>\n",
       "      <td>[zing, ndp, elxn43]</td>\n",
       "      <td>new democratic party</td>\n",
       "    </tr>\n",
       "  </tbody>\n",
       "</table>\n",
       "<p>2133 rows × 4 columns</p>\n",
       "</div>"
      ],
      "text/plain": [
       "     sentiment                      negative_reason  \\\n",
       "0     negative  Women Reproductive right and Racism   \n",
       "1     positive                                  NaN   \n",
       "2     negative                              Economy   \n",
       "3     positive                                  NaN   \n",
       "4     negative                              Economy   \n",
       "...        ...                                  ...   \n",
       "2128  negative                              Scandal   \n",
       "2129  negative                              Scandal   \n",
       "2130  positive                                  NaN   \n",
       "2131  negative  Women Reproductive right and Racism   \n",
       "2132  positive                                  NaN   \n",
       "\n",
       "                                                   text       political_party  \n",
       "0     [instead, suggestion, agree, canadian, woman, ...         conservatives  \n",
       "1     [allwomanspacewalk, real, etobicokenorth, city...                  None  \n",
       "2     [brantford, go, cost, 94, billion, next, 4, ye...               liberal  \n",
       "3     [canada, canadaelection2019, canadavotes, elxn...                  None  \n",
       "4     [canada, taxpayer, sick, tire, hard, earn, don...                  None  \n",
       "...                                                 ...                   ...  \n",
       "2128  [know, good, enough, job, smear, campaign, rig...                  None  \n",
       "2129  [miss, comment, deflect, issue, answer, best, ...                  None  \n",
       "2130  [daily, reminder, endorse, strategic, vote, el...               liberal  \n",
       "2131  [yup, go, reopen, abortion, debate, elxn43, sc...                  None  \n",
       "2132                                [zing, ndp, elxn43]  new democratic party  \n",
       "\n",
       "[2133 rows x 4 columns]"
      ]
     },
     "execution_count": 16,
     "metadata": {},
     "output_type": "execute_result"
    }
   ],
   "source": [
    "#call the function to determine party affiliation\n",
    "df_election['political_party']=list(map(party,df_election['text']))\n",
    "df_election"
   ]
  },
  {
   "cell_type": "markdown",
   "metadata": {},
   "source": [
    "### (c) Present graphical figures for political parties\n",
    "By presenting the political parties in histogram, I surprisingly found that the dominating political party is \"None\". It may be that the keywords are not enough to classify political parties or people are more interested in other parties. Other than \"None\", liberal party and conservative party are two main portion in tweets, while NDP occupy only a little portion."
   ]
  },
  {
   "cell_type": "code",
   "execution_count": 206,
   "metadata": {},
   "outputs": [
    {
     "data": {
      "image/png": "[encoded data removed]",
      "text/plain": [
       "<Figure size 720x360 with 1 Axes>"
      ]
     },
     "metadata": {
      "needs_background": "light"
     },
     "output_type": "display_data"
    }
   ],
   "source": [
    "# Histogram of political parties\n",
    "plt.figure(figsize=(10,5))\n",
    "ax = sns.countplot(x='political_party',data=df_election)\n",
    "ax.axes.set_title('The distribution of the political affiliations of the tweets')\n",
    "ax.set_xlabel('Political Parties')\n",
    "ax.set_ylabel('Numbers')\n",
    "plt.show()"
   ]
  },
  {
   "cell_type": "markdown",
   "metadata": {},
   "source": [
    "### (d) Present graphical figures for sentiment\n",
    "By presenting the sentiment in histogram, I found that positive sentiment is about double more than the negative sentiment."
   ]
  },
  {
   "cell_type": "code",
   "execution_count": 208,
   "metadata": {},
   "outputs": [
    {
     "data": {
      "image/png": "[encoded data removed]",
      "text/plain": [
       "<Figure size 360x288 with 1 Axes>"
      ]
     },
     "metadata": {
      "needs_background": "light"
     },
     "output_type": "display_data"
    }
   ],
   "source": [
    "# Plot distribution of tweets with sentiment values for each party\n",
    "plt.figure(figsize=(5,4))\n",
    "ax = sns.countplot(x='label', data=df_sentiment)\n",
    "ax.axes.set_title('The distribution of the sentiment')\n",
    "ax.set_xlabel('Positive')\n",
    "ax.set_ylabel('Numbers')\n",
    "plt.show()"
   ]
  },
  {
   "cell_type": "markdown",
   "metadata": {},
   "source": [
    "### (e) Present distribution of negative reason for election \n",
    "To visualize some other aspects for election, I draw a piechart to show the distribution of negative reasons. From the piechart shown, it is obvious that \"scandal\", \"tell lies\" and \"others\" are three dominating categories in ten negative reasons. On the contrary, \"healthcare\" and \"marijuana\" are two least important factors. Therefore, people care more about leader's characteristics. "
   ]
  },
  {
   "cell_type": "code",
   "execution_count": 19,
   "metadata": {},
   "outputs": [
    {
     "data": {
      "text/plain": [
       "array(['Women Reproductive right and Racism', nan, 'Economy', 'Others',\n",
       "       'Scandal', 'Tell lies', 'Privilege', 'Climate Problem',\n",
       "       'Healthcare', 'Separation', 'Healthcare and Marijuana'],\n",
       "      dtype=object)"
      ]
     },
     "execution_count": 19,
     "metadata": {},
     "output_type": "execute_result"
    }
   ],
   "source": [
    "# There are ten negative resons\n",
    "df_election['negative_reason'].unique()"
   ]
  },
  {
   "cell_type": "code",
   "execution_count": 20,
   "metadata": {},
   "outputs": [],
   "source": [
    "# Obtain negative reasons\n",
    "neg_reasons = df_election['negative_reason'].tolist()\n",
    "# Remove Nans\n",
    "neg_reasons = [x for x in neg_reasons if str(x) != 'nan']\n",
    "neg_count = Counter(neg_reasons)"
   ]
  },
  {
   "cell_type": "code",
   "execution_count": 25,
   "metadata": {},
   "outputs": [
    {
     "data": {
      "image/png": "[encoded data removed]",
      "text/plain": [
       "<Figure size 720x720 with 1 Axes>"
      ]
     },
     "metadata": {},
     "output_type": "display_data"
    }
   ],
   "source": [
    "# draw the pie chart\n",
    "fig, ax = plt.subplots(figsize=[10, 10])\n",
    "ax.pie(neg_count.values(), labels=neg_count.keys(), rotatelabels=True,labeldistance=0.5, pctdistance=0.6, startangle=90)\n",
    "ax.axis('equal')  \n",
    "ax.set_title('Distribution of negative reasons')\n",
    "plt.legend(loc=\"upper left\")\n",
    "fig.tight_layout()\n",
    "plt.show()"
   ]
  },
  {
   "cell_type": "markdown",
   "metadata": {},
   "source": [
    "### Bonus: Wordcloud on Positive Sentiment for Liberal Party\n",
    "I used word cloud to show the most frequent words that appear in positive sentiments on liberal party, which is the winner party in 2019 election. As shown in the wordcloud, the most popular word is \"chooseforward\", \"liberal\", and \"trudeau\". However, \"elxn43\" and \"cdnpoli\" are not appropriate and cannot provide any useful information, which should be removed during the following prediction."
   ]
  },
  {
   "cell_type": "code",
   "execution_count": 28,
   "metadata": {},
   "outputs": [],
   "source": [
    "# Transform list of string into a master string to pass into wordcloud\n",
    "lib = df_election[df_election['political_party'] == 'liberal']\n",
    "lib_positive = lib[lib['sentiment'] == 'positive']\n",
    "\n",
    "lib_positive['text']=lib_positive['text'].map(lambda x: ' '.join(map(str, x)))\n",
    "lib_positive['text']=lib_positive['text'].map(lambda x: x+' ')\n",
    "positive_lib=lib_positive['text'].sum()"
   ]
  },
  {
   "cell_type": "code",
   "execution_count": 29,
   "metadata": {},
   "outputs": [
    {
     "data": {
      "image/png": "[encoded data removed]",
      "text/plain": [
       "<Figure size 864x720 with 1 Axes>"
      ]
     },
     "metadata": {
      "needs_background": "light"
     },
     "output_type": "display_data"
    }
   ],
   "source": [
    "# Generate the wordcloud \n",
    "wordcloud = WordCloud(width=2000, height=1000, max_font_size=200, collocations=False, background_color='white').generate(positive_lib)\n",
    "plt.figure(figsize=(12,10))\n",
    "plt.imshow(wordcloud, interpolation=\"bilinear\")\n",
    "plt.axis(\"off\")\n",
    "plt.title('Positive Tweets on Liberal Party')\n",
    "plt.show()"
   ]
  },
  {
   "cell_type": "markdown",
   "metadata": {},
   "source": [
    "## 3. Model Preparation\n",
    "\n",
    "Since machine learning can only deal with numbers, thus we need to convert our text into numbers. To prepare the data for text classification problem, I vectorize the data so that text data is transformed into numerical one. Different approaches exist to convert text into the corresponding numerical form. The Bag of Words Model and the TF-IDF are two of the most commonly used approaches."
   ]
  },
  {
   "cell_type": "markdown",
   "metadata": {},
   "source": [
    "### Bag of words\n",
    "\n",
    "I used CountVectorizer class from the sklearn.feature_extraction.text library. It converts a collection of text documents to a matrix of token counts. I set max_features parameter to 1000, which means I want 1000 most occurring words as features for training classifier. I also set max_df parameter to 0.8, which mean that we should include only those words that occur in a maximum of 80% of all the documents. Words that occur in almost every document are usually not suitable for classification because they do not provide any unique information about the document. Then, the fit_transform function of the CountVectorizer class converts text documents into corresponding numeric features."
   ]
  },
  {
   "cell_type": "code",
   "execution_count": 30,
   "metadata": {},
   "outputs": [
    {
     "data": {
      "text/html": [
       "<div>\n",
       "<style scoped>\n",
       "    .dataframe tbody tr th:only-of-type {\n",
       "        vertical-align: middle;\n",
       "    }\n",
       "\n",
       "    .dataframe tbody tr th {\n",
       "        vertical-align: top;\n",
       "    }\n",
       "\n",
       "    .dataframe thead th {\n",
       "        text-align: right;\n",
       "    }\n",
       "</style>\n",
       "<table border=\"1\" class=\"dataframe\">\n",
       "  <thead>\n",
       "    <tr style=\"text-align: right;\">\n",
       "      <th></th>\n",
       "      <th>ID</th>\n",
       "      <th>text</th>\n",
       "      <th>label</th>\n",
       "    </tr>\n",
       "  </thead>\n",
       "  <tbody>\n",
       "    <tr>\n",
       "      <th>0</th>\n",
       "      <td>7.680980e+17</td>\n",
       "      <td>josh jenkins look forward tab breeder crown su...</td>\n",
       "      <td>1</td>\n",
       "    </tr>\n",
       "    <tr>\n",
       "      <th>1</th>\n",
       "      <td>7.680980e+17</td>\n",
       "      <td>congratulation pakistan become no1testteam wor...</td>\n",
       "      <td>1</td>\n",
       "    </tr>\n",
       "    <tr>\n",
       "      <th>2</th>\n",
       "      <td>7.680980e+17</td>\n",
       "      <td>september take maine mendozas surprise thanksg...</td>\n",
       "      <td>1</td>\n",
       "    </tr>\n",
       "    <tr>\n",
       "      <th>3</th>\n",
       "      <td>7.680980e+17</td>\n",
       "      <td>newly paint wall thank million custodial paint...</td>\n",
       "      <td>1</td>\n",
       "    </tr>\n",
       "    <tr>\n",
       "      <th>4</th>\n",
       "      <td>7.680980e+17</td>\n",
       "      <td>excite announce july 2017 feschotte lab reloca...</td>\n",
       "      <td>1</td>\n",
       "    </tr>\n",
       "    <tr>\n",
       "      <th>...</th>\n",
       "      <td>...</td>\n",
       "      <td>...</td>\n",
       "      <td>...</td>\n",
       "    </tr>\n",
       "    <tr>\n",
       "      <th>550386</th>\n",
       "      <td>8.046170e+17</td>\n",
       "      <td>stop watch mm</td>\n",
       "      <td>0</td>\n",
       "    </tr>\n",
       "    <tr>\n",
       "      <th>550387</th>\n",
       "      <td>8.046180e+17</td>\n",
       "      <td>poor old tom odell look like would know wrong ...</td>\n",
       "      <td>0</td>\n",
       "    </tr>\n",
       "    <tr>\n",
       "      <th>550388</th>\n",
       "      <td>8.046180e+17</td>\n",
       "      <td>antsmasher smash 7 ant awesome game hjfjfi</td>\n",
       "      <td>1</td>\n",
       "    </tr>\n",
       "    <tr>\n",
       "      <th>550389</th>\n",
       "      <td>8.046180e+17</td>\n",
       "      <td>morning girl wonderful friday</td>\n",
       "      <td>1</td>\n",
       "    </tr>\n",
       "    <tr>\n",
       "      <th>550390</th>\n",
       "      <td>8.046190e+17</td>\n",
       "      <td>bixbeat mixtape vol 2 great artiste join movem...</td>\n",
       "      <td>1</td>\n",
       "    </tr>\n",
       "  </tbody>\n",
       "</table>\n",
       "<p>550391 rows × 3 columns</p>\n",
       "</div>"
      ],
      "text/plain": [
       "                  ID                                               text  label\n",
       "0       7.680980e+17  josh jenkins look forward tab breeder crown su...      1\n",
       "1       7.680980e+17  congratulation pakistan become no1testteam wor...      1\n",
       "2       7.680980e+17  september take maine mendozas surprise thanksg...      1\n",
       "3       7.680980e+17  newly paint wall thank million custodial paint...      1\n",
       "4       7.680980e+17  excite announce july 2017 feschotte lab reloca...      1\n",
       "...              ...                                                ...    ...\n",
       "550386  8.046170e+17                                      stop watch mm      0\n",
       "550387  8.046180e+17  poor old tom odell look like would know wrong ...      0\n",
       "550388  8.046180e+17         antsmasher smash 7 ant awesome game hjfjfi      1\n",
       "550389  8.046180e+17                      morning girl wonderful friday      1\n",
       "550390  8.046190e+17  bixbeat mixtape vol 2 great artiste join movem...      1\n",
       "\n",
       "[550391 rows x 3 columns]"
      ]
     },
     "execution_count": 30,
     "metadata": {},
     "output_type": "execute_result"
    }
   ],
   "source": [
    "df=df_sentiment.copy()\n",
    "# Convert list of words to string \n",
    "df['text'] = df['text'].map(lambda x: ' '.join(map(str, x)))\n",
    "df"
   ]
  },
  {
   "cell_type": "code",
   "execution_count": 31,
   "metadata": {},
   "outputs": [],
   "source": [
    "# Transform generic tweets and set max_features to be 1000\n",
    "vec_wf = CountVectorizer(max_features=1000, max_df = 0.8)\n",
    "array_wf = vec_wf.fit_transform(df['text'])"
   ]
  },
  {
   "cell_type": "code",
   "execution_count": 32,
   "metadata": {},
   "outputs": [],
   "source": [
    "# Split generic tweets randomly into train data and test data\n",
    "Xwf_train, Xwf_test, ywf_train, ywf_test = train_test_split(array_wf, df['label'],test_size=0.3,stratify=df['label'])"
   ]
  },
  {
   "cell_type": "markdown",
   "metadata": {},
   "source": [
    "### TF-IDF\n",
    "\n",
    "The TF stands for \"Term Frequency\" while IDF stands for \"Inverse Document Frequency\". TF-IDF is a statistical measure that evaluates how relevant a word is to a document in a collection of documents. This is done by multiplying two metrics: how many times a word appears in a document, and the inverse document frequency of the word across a set of documents. The TFIDF value for a word in a particular document is higher if the frequency of occurrence of that word is higher in that specific document but lower in all the other documents."
   ]
  },
  {
   "cell_type": "code",
   "execution_count": 33,
   "metadata": {},
   "outputs": [],
   "source": [
    "# Transform generic tweets and set max_features to be 1000\n",
    "vec_tf = TfidfVectorizer(max_features=1000, max_df=0.8)\n",
    "array_tf = vec_tf.fit_transform(df['text'])"
   ]
  },
  {
   "cell_type": "code",
   "execution_count": 34,
   "metadata": {},
   "outputs": [],
   "source": [
    "# Split generic tweets randomly into train data and test data\n",
    "Xtf_train, Xtf_test, ytf_train, ytf_test = train_test_split(array_tf, df['label'],test_size=0.3,stratify=df['label'])"
   ]
  },
  {
   "cell_type": "markdown",
   "metadata": {},
   "source": [
    "# 4. Model Implementation"
   ]
  },
  {
   "cell_type": "markdown",
   "metadata": {},
   "source": [
    "### (a) Choose Optimal Model by Tuning Hyper-parameters\n",
    "\n",
    "Among seven models, logistic regression / k-NN / Naive Bayes / SVM / decision trees / Random Forest / XGBoost, I found that Logistic Regression is the best model in terms of accuracy in predictions, which is 94.29%."
   ]
  },
  {
   "cell_type": "code",
   "execution_count": 35,
   "metadata": {},
   "outputs": [],
   "source": [
    "#Best hyperparameters are recorded in this function for WF features\n",
    "def get_model_accuracy_wf(model, X_test,y_test):\n",
    "    \n",
    "    dic = {'lr':'Logistic Regression',\n",
    "          'knn':'K Nearest Neighbors',\n",
    "          'nb':'Naive Bayes',\n",
    "          'svm':'Support Vector Machine',\n",
    "          'dt':'Decision Tree',\n",
    "          'rf':'Random Forest',\n",
    "          'ab':'Ada Boosting',\n",
    "          'xgb': 'XGBClassifier'}\n",
    "    \n",
    "    train_acc, test_acc = [], []\n",
    "    # predict using test data\n",
    "    test_pred = clf.predict(X_test)\n",
    "    test_acc = accuracy_score(y_test, test_pred)   \n",
    " \n",
    "    print(\"Model: \", dic[model])\n",
    "    print(\"Test accuracy: {}\".format(test_acc))"
   ]
  },
  {
   "cell_type": "code",
   "execution_count": 36,
   "metadata": {},
   "outputs": [],
   "source": [
    "#Best hyperparameters are recorded in this function for WF features\n",
    "def get_model_accuracy_tf(model, X_test,y_test):\n",
    "    \n",
    "    dic = {'lr':'Logistic Regression',\n",
    "          'knn':'K Nearest Neighbors',\n",
    "          'nb':'Naive Bayes',\n",
    "          'svm':'Support Vector Machine',\n",
    "          'dt':'Decision Tree',\n",
    "          'rf':'Random Forest',\n",
    "          'ab':'Ada Boosting',\n",
    "          'xgb': 'XGBClassifier'}\n",
    "    \n",
    "    train_acc, test_acc = [], []\n",
    "    # predict using test data\n",
    "    test_pred = clf.predict(X_test)\n",
    "    test_acc = accuracy_score(y_test, test_pred)   \n",
    " \n",
    "    print(\"Model: \", dic[model])\n",
    "    print(\"Test accuracy: {}\".format(test_acc))"
   ]
  },
  {
   "cell_type": "markdown",
   "metadata": {},
   "source": [
    "### (1) Logistic Regression\n",
    "\n",
    "I chose a hyper-parameters for tunning, which are C. C is the inverse of regularization term. Small value of C means large regularization which penalizes more on large weights to reduce overfitting and vice versa. "
   ]
  },
  {
   "cell_type": "markdown",
   "metadata": {},
   "source": [
    "##### Hyper-Parameter Tuning by Cross-Validation"
   ]
  },
  {
   "cell_type": "code",
   "execution_count": 171,
   "metadata": {},
   "outputs": [
    {
     "name": "stdout",
     "output_type": "stream",
     "text": [
      "The best cross-validation score: 94.29%\n",
      "The best parameter:\n",
      " {'C': 1, 'solver': 'liblinear'}\n",
      "CPU times: user 1.81 s, sys: 316 ms, total: 2.13 s\n",
      "Wall time: 1min 56s\n"
     ]
    }
   ],
   "source": [
    "%%time\n",
    "parameters = {'C':[0.01, 0.1, 1, 10, 100], 'solver':('liblinear','lbfgs', 'newton-cg')}\n",
    "\n",
    "clf_lr = LogisticRegression(max_iter=10000)\n",
    "clf = GridSearchCV(clf_lr, parameters, cv=5, n_jobs=-1)\n",
    "clf.fit(Xwf_train, ywf_train)\n",
    "\n",
    "print('The best cross-validation score: {}%'.format(round(clf.best_score_*100,2)))\n",
    "print('The best parameter:\\n', clf.best_params_)"
   ]
  },
  {
   "cell_type": "markdown",
   "metadata": {},
   "source": [
    "##### Best Model of LR using WF"
   ]
  },
  {
   "cell_type": "code",
   "execution_count": 172,
   "metadata": {},
   "outputs": [
    {
     "name": "stdout",
     "output_type": "stream",
     "text": [
      "Model:  Logistic Regression\n",
      "Test accuracy: 0.9427318644847927\n"
     ]
    }
   ],
   "source": [
    "get_model_accuracy_wf('lr',Xwf_test,ywf_test)"
   ]
  },
  {
   "cell_type": "markdown",
   "metadata": {},
   "source": [
    "##### Best Model of LR using TF-IDF"
   ]
  },
  {
   "cell_type": "code",
   "execution_count": 173,
   "metadata": {},
   "outputs": [
    {
     "name": "stdout",
     "output_type": "stream",
     "text": [
      "Model:  Logistic Regression\n",
      "Test accuracy: 0.9059642195278528\n"
     ]
    }
   ],
   "source": [
    "get_model_accuracy_tf('lr' , Xtf_test,ytf_test)"
   ]
  },
  {
   "cell_type": "markdown",
   "metadata": {},
   "source": [
    "### (2) K-NN\n",
    "\n",
    "The k-nearest neighbors (KNN) algorithm is a simple, easy-to-implement supervised machine learning algorithm that can be used to solve both classification and regression problems. KNN assumes similar things exist in close proximity."
   ]
  },
  {
   "cell_type": "markdown",
   "metadata": {},
   "source": [
    "##### Hyper-Parameter Tuning by Cross-Validation"
   ]
  },
  {
   "cell_type": "code",
   "execution_count": 174,
   "metadata": {},
   "outputs": [
    {
     "name": "stdout",
     "output_type": "stream",
     "text": [
      "The best cross-validation score: 91.3%\n",
      "The best parameter:\n",
      " {'n_neighbors': 5}\n",
      "CPU times: user 372 ms, sys: 1.44 s, total: 1.81 s\n",
      "Wall time: 2h 17min 30s\n"
     ]
    }
   ],
   "source": [
    "%%time\n",
    "parameters = {'n_neighbors':[5,10,15]}\n",
    "\n",
    "clf_knn = KNeighborsClassifier()\n",
    "clf = GridSearchCV(clf_knn, parameters, cv=5, n_jobs=-1)\n",
    "clf.fit(Xwf_train, ywf_train)\n",
    "\n",
    "print('The best cross-validation score: {}%'.format(round(clf.best_score_*100,2)))\n",
    "print('The best parameter:\\n', clf.best_params_)"
   ]
  },
  {
   "cell_type": "markdown",
   "metadata": {},
   "source": [
    "#### Best Model of KNN using WF"
   ]
  },
  {
   "cell_type": "code",
   "execution_count": 175,
   "metadata": {},
   "outputs": [
    {
     "name": "stdout",
     "output_type": "stream",
     "text": [
      "Model:  K Nearest Neighbors\n",
      "Test accuracy: 0.9150849695369372\n"
     ]
    }
   ],
   "source": [
    "get_model_accuracy_wf('knn',  Xwf_test,  ywf_test)"
   ]
  },
  {
   "cell_type": "markdown",
   "metadata": {},
   "source": [
    "##### Best Model of KNN using TFIDF"
   ]
  },
  {
   "cell_type": "code",
   "execution_count": 176,
   "metadata": {},
   "outputs": [
    {
     "name": "stdout",
     "output_type": "stream",
     "text": [
      "Model:  K Nearest Neighbors\n",
      "Test accuracy: 0.5747041509708208\n"
     ]
    }
   ],
   "source": [
    "get_model_accuracy_tf('knn',  Xtf_test,  ytf_test)"
   ]
  },
  {
   "cell_type": "markdown",
   "metadata": {},
   "source": [
    "### (3) XGBClassify\n",
    "\n",
    "XGBoost is a decision-tree-based ensemble Machine Learning algorithm that uses a gradient boosting framework. In prediction problems involving unstructured data (images, text, etc.) artificial neural networks tend to outperform all other algorithms or frameworks."
   ]
  },
  {
   "cell_type": "markdown",
   "metadata": {},
   "source": [
    "##### Hyper-Parameter Tuning by Cross-Validation"
   ]
  },
  {
   "cell_type": "code",
   "execution_count": 42,
   "metadata": {
    "scrolled": true
   },
   "outputs": [
    {
     "name": "stdout",
     "output_type": "stream",
     "text": [
      "The best cross-validation score: 93.0%\n",
      "The best parameter:\n",
      " {'max_depth': 8}\n"
     ]
    }
   ],
   "source": [
    "# !pip3 install xgboost\n",
    "from xgboost import XGBClassifier\n",
    "parameters = {'max_depth': [6, 7, 8]}\n",
    "clf_xgb = XGBClassifier()\n",
    "clf = GridSearchCV(clf_xgb, parameters, cv=5, n_jobs=-1)\n",
    "clf.fit(Xwf_train, ywf_train)\n",
    "print('The best cross-validation score: {}%'.format(round(clf.best_score_*100,2)))\n",
    "print('The best parameter:\\n', clf.best_params_)"
   ]
  },
  {
   "cell_type": "markdown",
   "metadata": {},
   "source": [
    "#### Best Model of XGBClassify using WF"
   ]
  },
  {
   "cell_type": "code",
   "execution_count": 43,
   "metadata": {},
   "outputs": [
    {
     "name": "stdout",
     "output_type": "stream",
     "text": [
      "Model:  XGBClassifier\n",
      "Test accuracy: 0.9302377693528264\n"
     ]
    }
   ],
   "source": [
    "get_model_accuracy_wf('xgb',  Xwf_test,ywf_test)"
   ]
  },
  {
   "cell_type": "markdown",
   "metadata": {},
   "source": [
    "#### Best Model of XGBClassify using TFIDF"
   ]
  },
  {
   "cell_type": "code",
   "execution_count": 44,
   "metadata": {},
   "outputs": [
    {
     "name": "stdout",
     "output_type": "stream",
     "text": [
      "Model:  XGBClassifier\n",
      "Test accuracy: 0.9321697210479778\n"
     ]
    }
   ],
   "source": [
    "get_model_accuracy_tf('xgb',  Xtf_test,ytf_test)"
   ]
  },
  {
   "cell_type": "markdown",
   "metadata": {},
   "source": [
    "### (4) Support Vector Machine"
   ]
  },
  {
   "cell_type": "markdown",
   "metadata": {},
   "source": [
    "Support Vector machine is to maximize the margins of the hyperplane that separates two classes, in this model, I assumed the data is linearly separable. Similar to logistic regression, the hyperparameter in SVM is the inverse regularization term C to control the overfitting problem.\n"
   ]
  },
  {
   "cell_type": "markdown",
   "metadata": {},
   "source": [
    "##### Hyper-Parameter Tuning by Cross-Validation"
   ]
  },
  {
   "cell_type": "code",
   "execution_count": 45,
   "metadata": {},
   "outputs": [
    {
     "name": "stdout",
     "output_type": "stream",
     "text": [
      "The best cross-validation score: 94.18%\n",
      "The best parameter:\n",
      " {'C': 10}\n",
      "CPU times: user 39.5 s, sys: 672 ms, total: 40.1 s\n",
      "Wall time: 5min 53s\n"
     ]
    }
   ],
   "source": [
    "%%time\n",
    "parameters = {'C':[0.01, 0.1, 1, 10, 100]}\n",
    "\n",
    "clf_svm = svm.LinearSVC()\n",
    "clf = GridSearchCV(clf_svm, parameters, cv=5, n_jobs=-1)\n",
    "clf.fit(Xwf_train, ywf_train)\n",
    "\n",
    "print('The best cross-validation score: {}%'.format(round(clf.best_score_*100,2)))\n",
    "print('The best parameter:\\n', clf.best_params_)"
   ]
  },
  {
   "cell_type": "markdown",
   "metadata": {},
   "source": [
    "##### Best Model of SVM using WF"
   ]
  },
  {
   "cell_type": "code",
   "execution_count": 46,
   "metadata": {},
   "outputs": [
    {
     "name": "stdout",
     "output_type": "stream",
     "text": [
      "Model:  Support Vector Machine\n",
      "Test accuracy: 0.9421565183686818\n"
     ]
    }
   ],
   "source": [
    "get_model_accuracy_wf('svm', Xwf_test, ywf_test)"
   ]
  },
  {
   "cell_type": "markdown",
   "metadata": {},
   "source": [
    "##### Best Model of SVM using TFIDF"
   ]
  },
  {
   "cell_type": "code",
   "execution_count": 47,
   "metadata": {},
   "outputs": [
    {
     "name": "stdout",
     "output_type": "stream",
     "text": [
      "Model:  Support Vector Machine\n",
      "Test accuracy: 0.8801887135260844\n"
     ]
    }
   ],
   "source": [
    "get_model_accuracy_tf('svm', Xtf_test, ytf_test)"
   ]
  },
  {
   "cell_type": "markdown",
   "metadata": {},
   "source": [
    "### (5) Decision Tree"
   ]
  },
  {
   "cell_type": "markdown",
   "metadata": {},
   "source": [
    "Decision tree is a classic non-parametric supervised learning algorithm and it follows a tree structure to split nodes to perform classification. max_depth and min_samples_split are two important hyperparameters in this algorithm to control overfitting problem."
   ]
  },
  {
   "cell_type": "markdown",
   "metadata": {},
   "source": [
    "##### Hyper-Parameter Tuning by Cross-Validation"
   ]
  },
  {
   "cell_type": "code",
   "execution_count": 48,
   "metadata": {},
   "outputs": [
    {
     "name": "stdout",
     "output_type": "stream",
     "text": [
      "The best cross-validation score: 93.11%\n",
      "The best parameter:\n",
      " {'max_depth': 200, 'min_samples_split': 10}\n"
     ]
    }
   ],
   "source": [
    "parameters = {'max_depth':[1,10,50,100,200],\n",
    "             'min_samples_split':[2,5,10]}\n",
    "\n",
    "clf_dt = DecisionTreeClassifier()\n",
    "clf = GridSearchCV(clf_dt, parameters, cv=10, n_jobs=-1)\n",
    "clf.fit(Xwf_train, ywf_train)\n",
    "\n",
    "print('The best cross-validation score: {}%'.format(round(clf.best_score_*100,2)))\n",
    "print('The best parameter:\\n', clf.best_params_)"
   ]
  },
  {
   "cell_type": "markdown",
   "metadata": {},
   "source": [
    "##### Best Model of DT using WF"
   ]
  },
  {
   "cell_type": "code",
   "execution_count": 49,
   "metadata": {},
   "outputs": [
    {
     "name": "stdout",
     "output_type": "stream",
     "text": [
      "Model:  Decision Tree\n",
      "Test accuracy: 0.9313157862861711\n"
     ]
    }
   ],
   "source": [
    "get_model_accuracy_wf('dt', Xwf_test, ywf_test)"
   ]
  },
  {
   "cell_type": "markdown",
   "metadata": {},
   "source": [
    "##### Best Model of DT using TFIDF"
   ]
  },
  {
   "cell_type": "code",
   "execution_count": 50,
   "metadata": {},
   "outputs": [
    {
     "name": "stdout",
     "output_type": "stream",
     "text": [
      "Model:  Decision Tree\n",
      "Test accuracy: 0.5546518247556294\n"
     ]
    }
   ],
   "source": [
    "get_model_accuracy_tf('dt', Xtf_test, ytf_test)"
   ]
  },
  {
   "cell_type": "markdown",
   "metadata": {},
   "source": [
    "### (6) Naive Bayes"
   ]
  },
  {
   "cell_type": "markdown",
   "metadata": {},
   "source": [
    "##### Hyper-Parameter Tuning by Cross-Validation"
   ]
  },
  {
   "cell_type": "code",
   "execution_count": 114,
   "metadata": {},
   "outputs": [
    {
     "name": "stdout",
     "output_type": "stream",
     "text": [
      "The best cross-validation score: 90.79%\n",
      "The best parameter:\n",
      " {'alpha': 0.01}\n"
     ]
    }
   ],
   "source": [
    "parameters = {'alpha':[0.01,0.1,1,5,20,100]}\n",
    "\n",
    "clf_nb = MultinomialNB()\n",
    "clf = GridSearchCV(clf_nb, parameters, cv=10, n_jobs=-1)\n",
    "clf.fit(Xwf_train, ywf_train)\n",
    "\n",
    "print('The best cross-validation score: {}%'.format(round(clf.best_score_*100,2)))\n",
    "print('The best parameter:\\n', clf.best_params_)"
   ]
  },
  {
   "cell_type": "markdown",
   "metadata": {},
   "source": [
    "##### Best Model of NB using WF"
   ]
  },
  {
   "cell_type": "code",
   "execution_count": 115,
   "metadata": {},
   "outputs": [
    {
     "name": "stdout",
     "output_type": "stream",
     "text": [
      "Model:  Naive Bayes\n",
      "Test accuracy: 0.9072542060829225\n"
     ]
    }
   ],
   "source": [
    "get_model_accuracy_wf('nb', Xwf_test, ywf_test)"
   ]
  },
  {
   "cell_type": "markdown",
   "metadata": {},
   "source": [
    "##### Best Model of NB using TF"
   ]
  },
  {
   "cell_type": "code",
   "execution_count": 116,
   "metadata": {},
   "outputs": [
    {
     "name": "stdout",
     "output_type": "stream",
     "text": [
      "Model:  Naive Bayes\n",
      "Test accuracy: 0.8988178151382648\n"
     ]
    }
   ],
   "source": [
    "get_model_accuracy_tf('nb', Xtf_test, ytf_test)"
   ]
  },
  {
   "cell_type": "markdown",
   "metadata": {},
   "source": [
    "### (7) Random Forest"
   ]
  },
  {
   "cell_type": "markdown",
   "metadata": {},
   "source": [
    "##### Hyper-Parameter Tuning by Cross-Validation"
   ]
  },
  {
   "cell_type": "code",
   "execution_count": 131,
   "metadata": {},
   "outputs": [
    {
     "name": "stdout",
     "output_type": "stream",
     "text": [
      "The best cross-validation score: 94.04%\n",
      "The best parameter:\n",
      " {'max_depth': 200, 'min_samples_split': 5}\n",
      "CPU times: user 7min 22s, sys: 2.87 s, total: 7min 25s\n",
      "Wall time: 1h 54min 1s\n"
     ]
    }
   ],
   "source": [
    "%%time\n",
    "parameters = {'max_depth':[1,5,10,100,200],\n",
    "             'min_samples_split':[2,5,10,20]}\n",
    "\n",
    "clf_rf = RandomForestClassifier()\n",
    "clf = GridSearchCV(clf_rf, parameters, cv=5, n_jobs=-1)\n",
    "clf.fit(Xwf_train, ywf_train)\n",
    "\n",
    "print('The best cross-validation score: {}%'.format(round(clf.best_score_*100,2)))\n",
    "print('The best parameter:\\n', clf.best_params_)"
   ]
  },
  {
   "cell_type": "markdown",
   "metadata": {},
   "source": [
    "##### Best Model of RF using WF"
   ]
  },
  {
   "cell_type": "code",
   "execution_count": 134,
   "metadata": {},
   "outputs": [
    {
     "name": "stdout",
     "output_type": "stream",
     "text": [
      "Model:  Random Forest\n",
      "Test accuracy: 0.9410603326106178\n"
     ]
    }
   ],
   "source": [
    "get_model_accuracy_wf('rf', Xwf_test, ywf_test)"
   ]
  },
  {
   "cell_type": "markdown",
   "metadata": {},
   "source": [
    "##### Best Model of RF using TF"
   ]
  },
  {
   "cell_type": "code",
   "execution_count": 135,
   "metadata": {},
   "outputs": [
    {
     "name": "stdout",
     "output_type": "stream",
     "text": [
      "Model:  Random Forest\n",
      "Test accuracy: 0.5521142455698349\n"
     ]
    }
   ],
   "source": [
    "get_model_accuracy_tf('rf', Xtf_test, ytf_test)"
   ]
  },
  {
   "cell_type": "markdown",
   "metadata": {},
   "source": [
    "## Bonus \n",
    "\n",
    "**Multilayer Perceptron to Predict Negative Reasons**"
   ]
  },
  {
   "cell_type": "code",
   "execution_count": 178,
   "metadata": {},
   "outputs": [
    {
     "name": "stdout",
     "output_type": "stream",
     "text": [
      "The best cross-validation score: 62.36%\n",
      "The best parameter:\n",
      " {'activation': 'relu', 'alpha': 1, 'learning_rate': 'invscaling'}\n"
     ]
    }
   ],
   "source": [
    "from sklearn.neural_network import MLPClassifier\n",
    "clf_mlp = MLPClassifier()\n",
    "parameters = {'activation':['logistic', 'tanh', 'relu'],\n",
    "             'alpha':[0.0001,0.01,0.1,0.5,1],\n",
    "             'learning_rate':['constant', 'invscaling', 'adaptive']}\n",
    "\n",
    "clf = GridSearchCV(clf_mlp, parameters, cv=5, n_jobs=-1)\n",
    "clf.fit(Xidf_train_r, yidf_train_r)\n",
    "\n",
    "print('The best cross-validation score: {}%'.format(round(clf.best_score_*100,2)))\n",
    "print('The best parameter:\\n', clf.best_params_)"
   ]
  },
  {
   "cell_type": "code",
   "execution_count": 180,
   "metadata": {},
   "outputs": [
    {
     "name": "stdout",
     "output_type": "stream",
     "text": [
      "\n",
      "Test accuracy is: 59.6%\n"
     ]
    }
   ],
   "source": [
    "clf_mlp = MLPClassifier(activation='relu',alpha=1,learning_rate='invscaling')\n",
    "clf_mlp.fit(Xidf_train_r, yidf_train_r)\n",
    "pred_mlp = clf.predict(Xidf_test_r)\n",
    "test_acc = accuracy_score(yidf_test_r, pred_mlp)\n",
    "print(\"\\nTest accuracy is: {}%\".format(round(test_acc*100,2)))"
   ]
  },
  {
   "cell_type": "markdown",
   "metadata": {},
   "source": [
    "### (b) Sentiment Prediction on Canadian Elections data by Logistic Regression model"
   ]
  },
  {
   "cell_type": "markdown",
   "metadata": {},
   "source": [
    "**Prepare Data**\n",
    "\n",
    "To prepare for logistic regression model, I need to first transform sentiment lable in canadian elections data to numbers by encoding \"positive\" sentiment to 1 and \"negative\" sentiment to 0. Then, I vectorize the dataset into numerical features. Lastly, I apply the logistic regression model on election data."
   ]
  },
  {
   "cell_type": "code",
   "execution_count": 51,
   "metadata": {},
   "outputs": [
    {
     "data": {
      "text/html": [
       "<div>\n",
       "<style scoped>\n",
       "    .dataframe tbody tr th:only-of-type {\n",
       "        vertical-align: middle;\n",
       "    }\n",
       "\n",
       "    .dataframe tbody tr th {\n",
       "        vertical-align: top;\n",
       "    }\n",
       "\n",
       "    .dataframe thead th {\n",
       "        text-align: right;\n",
       "    }\n",
       "</style>\n",
       "<table border=\"1\" class=\"dataframe\">\n",
       "  <thead>\n",
       "    <tr style=\"text-align: right;\">\n",
       "      <th></th>\n",
       "      <th>sentiment</th>\n",
       "      <th>negative_reason</th>\n",
       "      <th>text</th>\n",
       "      <th>political_party</th>\n",
       "    </tr>\n",
       "  </thead>\n",
       "  <tbody>\n",
       "    <tr>\n",
       "      <th>0</th>\n",
       "      <td>0</td>\n",
       "      <td>Women Reproductive right and Racism</td>\n",
       "      <td>[instead, suggestion, agree, canadian, woman, ...</td>\n",
       "      <td>conservatives</td>\n",
       "    </tr>\n",
       "    <tr>\n",
       "      <th>1</th>\n",
       "      <td>1</td>\n",
       "      <td>NaN</td>\n",
       "      <td>[allwomanspacewalk, real, etobicokenorth, city...</td>\n",
       "      <td>None</td>\n",
       "    </tr>\n",
       "    <tr>\n",
       "      <th>2</th>\n",
       "      <td>0</td>\n",
       "      <td>Economy</td>\n",
       "      <td>[brantford, go, cost, 94, billion, next, 4, ye...</td>\n",
       "      <td>liberal</td>\n",
       "    </tr>\n",
       "    <tr>\n",
       "      <th>3</th>\n",
       "      <td>1</td>\n",
       "      <td>NaN</td>\n",
       "      <td>[canada, canadaelection2019, canadavotes, elxn...</td>\n",
       "      <td>None</td>\n",
       "    </tr>\n",
       "    <tr>\n",
       "      <th>4</th>\n",
       "      <td>0</td>\n",
       "      <td>Economy</td>\n",
       "      <td>[canada, taxpayer, sick, tire, hard, earn, don...</td>\n",
       "      <td>None</td>\n",
       "    </tr>\n",
       "    <tr>\n",
       "      <th>...</th>\n",
       "      <td>...</td>\n",
       "      <td>...</td>\n",
       "      <td>...</td>\n",
       "      <td>...</td>\n",
       "    </tr>\n",
       "    <tr>\n",
       "      <th>2128</th>\n",
       "      <td>0</td>\n",
       "      <td>Scandal</td>\n",
       "      <td>[know, good, enough, job, smear, campaign, rig...</td>\n",
       "      <td>None</td>\n",
       "    </tr>\n",
       "    <tr>\n",
       "      <th>2129</th>\n",
       "      <td>0</td>\n",
       "      <td>Scandal</td>\n",
       "      <td>[miss, comment, deflect, issue, answer, best, ...</td>\n",
       "      <td>None</td>\n",
       "    </tr>\n",
       "    <tr>\n",
       "      <th>2130</th>\n",
       "      <td>1</td>\n",
       "      <td>NaN</td>\n",
       "      <td>[daily, reminder, endorse, strategic, vote, el...</td>\n",
       "      <td>liberal</td>\n",
       "    </tr>\n",
       "    <tr>\n",
       "      <th>2131</th>\n",
       "      <td>0</td>\n",
       "      <td>Women Reproductive right and Racism</td>\n",
       "      <td>[yup, go, reopen, abortion, debate, elxn43, sc...</td>\n",
       "      <td>None</td>\n",
       "    </tr>\n",
       "    <tr>\n",
       "      <th>2132</th>\n",
       "      <td>1</td>\n",
       "      <td>NaN</td>\n",
       "      <td>[zing, ndp, elxn43]</td>\n",
       "      <td>new democratic party</td>\n",
       "    </tr>\n",
       "  </tbody>\n",
       "</table>\n",
       "<p>2133 rows × 4 columns</p>\n",
       "</div>"
      ],
      "text/plain": [
       "      sentiment                      negative_reason  \\\n",
       "0             0  Women Reproductive right and Racism   \n",
       "1             1                                  NaN   \n",
       "2             0                              Economy   \n",
       "3             1                                  NaN   \n",
       "4             0                              Economy   \n",
       "...         ...                                  ...   \n",
       "2128          0                              Scandal   \n",
       "2129          0                              Scandal   \n",
       "2130          1                                  NaN   \n",
       "2131          0  Women Reproductive right and Racism   \n",
       "2132          1                                  NaN   \n",
       "\n",
       "                                                   text       political_party  \n",
       "0     [instead, suggestion, agree, canadian, woman, ...         conservatives  \n",
       "1     [allwomanspacewalk, real, etobicokenorth, city...                  None  \n",
       "2     [brantford, go, cost, 94, billion, next, 4, ye...               liberal  \n",
       "3     [canada, canadaelection2019, canadavotes, elxn...                  None  \n",
       "4     [canada, taxpayer, sick, tire, hard, earn, don...                  None  \n",
       "...                                                 ...                   ...  \n",
       "2128  [know, good, enough, job, smear, campaign, rig...                  None  \n",
       "2129  [miss, comment, deflect, issue, answer, best, ...                  None  \n",
       "2130  [daily, reminder, endorse, strategic, vote, el...               liberal  \n",
       "2131  [yup, go, reopen, abortion, debate, elxn43, sc...                  None  \n",
       "2132                                [zing, ndp, elxn43]  new democratic party  \n",
       "\n",
       "[2133 rows x 4 columns]"
      ]
     },
     "execution_count": 51,
     "metadata": {},
     "output_type": "execute_result"
    }
   ],
   "source": [
    "# Transform 'Positive' to 1 and 'Negative' to 0, respectively\n",
    "df_election['sentiment'].unique()\n",
    "le = LabelEncoder()\n",
    "df_election['sentiment'] = le.fit_transform(df_election['sentiment']) \n",
    "df_election"
   ]
  },
  {
   "cell_type": "code",
   "execution_count": 52,
   "metadata": {},
   "outputs": [
    {
     "data": {
      "text/html": [
       "<div>\n",
       "<style scoped>\n",
       "    .dataframe tbody tr th:only-of-type {\n",
       "        vertical-align: middle;\n",
       "    }\n",
       "\n",
       "    .dataframe tbody tr th {\n",
       "        vertical-align: top;\n",
       "    }\n",
       "\n",
       "    .dataframe thead th {\n",
       "        text-align: right;\n",
       "    }\n",
       "</style>\n",
       "<table border=\"1\" class=\"dataframe\">\n",
       "  <thead>\n",
       "    <tr style=\"text-align: right;\">\n",
       "      <th></th>\n",
       "      <th>sentiment</th>\n",
       "      <th>negative_reason</th>\n",
       "      <th>text</th>\n",
       "      <th>political_party</th>\n",
       "    </tr>\n",
       "  </thead>\n",
       "  <tbody>\n",
       "    <tr>\n",
       "      <th>0</th>\n",
       "      <td>0</td>\n",
       "      <td>Women Reproductive right and Racism</td>\n",
       "      <td>instead suggestion agree canadian woman trust ...</td>\n",
       "      <td>conservatives</td>\n",
       "    </tr>\n",
       "    <tr>\n",
       "      <th>1</th>\n",
       "      <td>1</td>\n",
       "      <td>NaN</td>\n",
       "      <td>allwomanspacewalk real etobicokenorth cityofto...</td>\n",
       "      <td>None</td>\n",
       "    </tr>\n",
       "    <tr>\n",
       "      <th>2</th>\n",
       "      <td>0</td>\n",
       "      <td>Economy</td>\n",
       "      <td>brantford go cost 94 billion next 4 year ask j...</td>\n",
       "      <td>liberal</td>\n",
       "    </tr>\n",
       "    <tr>\n",
       "      <th>3</th>\n",
       "      <td>1</td>\n",
       "      <td>NaN</td>\n",
       "      <td>canada canadaelection2019 canadavotes elxn43 d...</td>\n",
       "      <td>None</td>\n",
       "    </tr>\n",
       "    <tr>\n",
       "      <th>4</th>\n",
       "      <td>0</td>\n",
       "      <td>Economy</td>\n",
       "      <td>canada taxpayer sick tire hard earn donate cor...</td>\n",
       "      <td>None</td>\n",
       "    </tr>\n",
       "    <tr>\n",
       "      <th>...</th>\n",
       "      <td>...</td>\n",
       "      <td>...</td>\n",
       "      <td>...</td>\n",
       "      <td>...</td>\n",
       "    </tr>\n",
       "    <tr>\n",
       "      <th>2128</th>\n",
       "      <td>0</td>\n",
       "      <td>Scandal</td>\n",
       "      <td>know good enough job smear campaign right cdnp...</td>\n",
       "      <td>None</td>\n",
       "    </tr>\n",
       "    <tr>\n",
       "      <th>2129</th>\n",
       "      <td>0</td>\n",
       "      <td>Scandal</td>\n",
       "      <td>miss comment deflect issue answer best respons...</td>\n",
       "      <td>None</td>\n",
       "    </tr>\n",
       "    <tr>\n",
       "      <th>2130</th>\n",
       "      <td>1</td>\n",
       "      <td>NaN</td>\n",
       "      <td>daily reminder endorse strategic vote elxn43 e...</td>\n",
       "      <td>liberal</td>\n",
       "    </tr>\n",
       "    <tr>\n",
       "      <th>2131</th>\n",
       "      <td>0</td>\n",
       "      <td>Women Reproductive right and Racism</td>\n",
       "      <td>yup go reopen abortion debate elxn43 scheerlie...</td>\n",
       "      <td>None</td>\n",
       "    </tr>\n",
       "    <tr>\n",
       "      <th>2132</th>\n",
       "      <td>1</td>\n",
       "      <td>NaN</td>\n",
       "      <td>zing ndp elxn43</td>\n",
       "      <td>new democratic party</td>\n",
       "    </tr>\n",
       "  </tbody>\n",
       "</table>\n",
       "<p>2133 rows × 4 columns</p>\n",
       "</div>"
      ],
      "text/plain": [
       "      sentiment                      negative_reason  \\\n",
       "0             0  Women Reproductive right and Racism   \n",
       "1             1                                  NaN   \n",
       "2             0                              Economy   \n",
       "3             1                                  NaN   \n",
       "4             0                              Economy   \n",
       "...         ...                                  ...   \n",
       "2128          0                              Scandal   \n",
       "2129          0                              Scandal   \n",
       "2130          1                                  NaN   \n",
       "2131          0  Women Reproductive right and Racism   \n",
       "2132          1                                  NaN   \n",
       "\n",
       "                                                   text       political_party  \n",
       "0     instead suggestion agree canadian woman trust ...         conservatives  \n",
       "1     allwomanspacewalk real etobicokenorth cityofto...                  None  \n",
       "2     brantford go cost 94 billion next 4 year ask j...               liberal  \n",
       "3     canada canadaelection2019 canadavotes elxn43 d...                  None  \n",
       "4     canada taxpayer sick tire hard earn donate cor...                  None  \n",
       "...                                                 ...                   ...  \n",
       "2128  know good enough job smear campaign right cdnp...                  None  \n",
       "2129  miss comment deflect issue answer best respons...                  None  \n",
       "2130  daily reminder endorse strategic vote elxn43 e...               liberal  \n",
       "2131  yup go reopen abortion debate elxn43 scheerlie...                  None  \n",
       "2132                                    zing ndp elxn43  new democratic party  \n",
       "\n",
       "[2133 rows x 4 columns]"
      ]
     },
     "execution_count": 52,
     "metadata": {},
     "output_type": "execute_result"
    }
   ],
   "source": [
    "# Convert list of words each row to a string\n",
    "df_election['text'] = df_election['text'].apply(lambda x: ' '.join(map(str, x)))\n",
    "df_election"
   ]
  },
  {
   "cell_type": "markdown",
   "metadata": {},
   "source": [
    "**Apply Logistic Regression Model to run Bag of Words and TF-IDF on Canadian Election**\n",
    "\n",
    "For Bag of Words model, I vectorize the data by CountVectorizer and set max_features parameter to 1000. Then, I used the Logistic Regression train model on the training data from generic tweets to evaluate Canadian Election data. The accuracy for predicting Word Frequency is 47.4%.\n",
    "\n",
    "For TFIDF model, I vectorize the data by TfidfVectorizer and set max_features parameter to 1000. The accuracy for predicting TF-IDF is 47.35%.\n",
    "\n",
    "The classification model predicts the generic tweets well with average accuracy 90%. However, when the same trained model applied to Canadian Election data, the accuracy drops to 50%. The reason may be that the Canadian Election data is much smaller than generic tweets data. Also, the model trained for generic tweets cannot directly apply to canadian election because the context are different in terms of topic; the text in generic tweets are more random while the text in canadian election are more political."
   ]
  },
  {
   "cell_type": "code",
   "execution_count": 65,
   "metadata": {},
   "outputs": [],
   "source": [
    "# Bag of Words\n",
    "vec_wf = CountVectorizer(max_features=1000, max_df=0.8)\n",
    "array_wf_elec = vec_wf.fit_transform(df_election['text'])\n",
    "\n",
    "# TF-IDF\n",
    "vec_tf = TfidfVectorizer(max_features=1000, max_df=0.8)\n",
    "array_tf_elec = vec_tf.fit_transform(df_election['text'])"
   ]
  },
  {
   "cell_type": "code",
   "execution_count": 101,
   "metadata": {},
   "outputs": [
    {
     "name": "stdout",
     "output_type": "stream",
     "text": [
      "\n",
      "Train accuracy on Word frequency of LogisticRegression model on the Canadian Elections data: 47.4%\n"
     ]
    }
   ],
   "source": [
    "# Predict Word Frequency\n",
    "clf = LogisticRegression(C=1, solver='liblinear')\n",
    "best_model1 = clf.fit(Xwf_train, ywf_train)\n",
    "pred_elec1 = best_model1.predict(array_wf_elec)\n",
    "\n",
    "accuracy_election = accuracy_score(df_election['sentiment'], pred_elec1)\n",
    "\n",
    "print(\"\\nTrain accuracy on Word frequency of LogisticRegression model on the Canadian Elections data: {}%\".format(round(accuracy_election*100,2)))"
   ]
  },
  {
   "cell_type": "code",
   "execution_count": 67,
   "metadata": {},
   "outputs": [
    {
     "data": {
      "text/html": [
       "<div>\n",
       "<style scoped>\n",
       "    .dataframe tbody tr th:only-of-type {\n",
       "        vertical-align: middle;\n",
       "    }\n",
       "\n",
       "    .dataframe tbody tr th {\n",
       "        vertical-align: top;\n",
       "    }\n",
       "\n",
       "    .dataframe thead th {\n",
       "        text-align: right;\n",
       "    }\n",
       "</style>\n",
       "<table border=\"1\" class=\"dataframe\">\n",
       "  <thead>\n",
       "    <tr style=\"text-align: right;\">\n",
       "      <th></th>\n",
       "      <th>sentiment</th>\n",
       "      <th>prediction</th>\n",
       "      <th>political_party</th>\n",
       "    </tr>\n",
       "  </thead>\n",
       "  <tbody>\n",
       "    <tr>\n",
       "      <th>0</th>\n",
       "      <td>0</td>\n",
       "      <td>1</td>\n",
       "      <td>conservatives</td>\n",
       "    </tr>\n",
       "    <tr>\n",
       "      <th>2</th>\n",
       "      <td>0</td>\n",
       "      <td>1</td>\n",
       "      <td>liberal</td>\n",
       "    </tr>\n",
       "    <tr>\n",
       "      <th>5</th>\n",
       "      <td>0</td>\n",
       "      <td>1</td>\n",
       "      <td>conservatives</td>\n",
       "    </tr>\n",
       "    <tr>\n",
       "      <th>7</th>\n",
       "      <td>1</td>\n",
       "      <td>1</td>\n",
       "      <td>liberal</td>\n",
       "    </tr>\n",
       "    <tr>\n",
       "      <th>8</th>\n",
       "      <td>0</td>\n",
       "      <td>0</td>\n",
       "      <td>liberal</td>\n",
       "    </tr>\n",
       "    <tr>\n",
       "      <th>...</th>\n",
       "      <td>...</td>\n",
       "      <td>...</td>\n",
       "      <td>...</td>\n",
       "    </tr>\n",
       "    <tr>\n",
       "      <th>2118</th>\n",
       "      <td>0</td>\n",
       "      <td>1</td>\n",
       "      <td>conservatives</td>\n",
       "    </tr>\n",
       "    <tr>\n",
       "      <th>2119</th>\n",
       "      <td>0</td>\n",
       "      <td>1</td>\n",
       "      <td>conservatives</td>\n",
       "    </tr>\n",
       "    <tr>\n",
       "      <th>2122</th>\n",
       "      <td>0</td>\n",
       "      <td>1</td>\n",
       "      <td>conservatives</td>\n",
       "    </tr>\n",
       "    <tr>\n",
       "      <th>2130</th>\n",
       "      <td>1</td>\n",
       "      <td>1</td>\n",
       "      <td>liberal</td>\n",
       "    </tr>\n",
       "    <tr>\n",
       "      <th>2132</th>\n",
       "      <td>1</td>\n",
       "      <td>0</td>\n",
       "      <td>new democratic party</td>\n",
       "    </tr>\n",
       "  </tbody>\n",
       "</table>\n",
       "<p>914 rows × 3 columns</p>\n",
       "</div>"
      ],
      "text/plain": [
       "      sentiment  prediction       political_party\n",
       "0             0           1         conservatives\n",
       "2             0           1               liberal\n",
       "5             0           1         conservatives\n",
       "7             1           1               liberal\n",
       "8             0           0               liberal\n",
       "...         ...         ...                   ...\n",
       "2118          0           1         conservatives\n",
       "2119          0           1         conservatives\n",
       "2122          0           1         conservatives\n",
       "2130          1           1               liberal\n",
       "2132          1           0  new democratic party\n",
       "\n",
       "[914 rows x 3 columns]"
      ]
     },
     "execution_count": 67,
     "metadata": {},
     "output_type": "execute_result"
    }
   ],
   "source": [
    "result_df = df_election[['sentiment']]\n",
    "result_df['prediction'] = pred_elec1\n",
    "result_df['political_party'] = df_election.loc[result_df.index,'political_party']\n",
    "result_df = result_df.loc[result_df['political_party'] != 'None']\n",
    "result_df"
   ]
  },
  {
   "cell_type": "code",
   "execution_count": 68,
   "metadata": {},
   "outputs": [
    {
     "name": "stdout",
     "output_type": "stream",
     "text": [
      "\n",
      "Train accuracy on TF-IDF of LogisticRegression model on the Canadian Elections data: 47.35%\n"
     ]
    }
   ],
   "source": [
    "# Predict TF-IDF\n",
    "clf = LogisticRegression(C=1, solver='liblinear')\n",
    "best_model = clf.fit(Xtf_train, ytf_train)\n",
    "pred_elec = best_model.predict(array_tf_elec)\n",
    "\n",
    "accuracy_election2 = accuracy_score(df_election['sentiment'], pred_elec)\n",
    "\n",
    "print(\"\\nTrain accuracy on TF-IDF of LogisticRegression model on the Canadian Elections data: {}%\".format(round(accuracy_election2*100,2)))"
   ]
  },
  {
   "cell_type": "code",
   "execution_count": 69,
   "metadata": {},
   "outputs": [
    {
     "data": {
      "text/html": [
       "<div>\n",
       "<style scoped>\n",
       "    .dataframe tbody tr th:only-of-type {\n",
       "        vertical-align: middle;\n",
       "    }\n",
       "\n",
       "    .dataframe tbody tr th {\n",
       "        vertical-align: top;\n",
       "    }\n",
       "\n",
       "    .dataframe thead th {\n",
       "        text-align: right;\n",
       "    }\n",
       "</style>\n",
       "<table border=\"1\" class=\"dataframe\">\n",
       "  <thead>\n",
       "    <tr style=\"text-align: right;\">\n",
       "      <th></th>\n",
       "      <th>sentiment</th>\n",
       "      <th>prediction</th>\n",
       "      <th>political_party</th>\n",
       "    </tr>\n",
       "  </thead>\n",
       "  <tbody>\n",
       "    <tr>\n",
       "      <th>0</th>\n",
       "      <td>0</td>\n",
       "      <td>1</td>\n",
       "      <td>conservatives</td>\n",
       "    </tr>\n",
       "    <tr>\n",
       "      <th>2</th>\n",
       "      <td>0</td>\n",
       "      <td>1</td>\n",
       "      <td>liberal</td>\n",
       "    </tr>\n",
       "    <tr>\n",
       "      <th>5</th>\n",
       "      <td>0</td>\n",
       "      <td>1</td>\n",
       "      <td>conservatives</td>\n",
       "    </tr>\n",
       "    <tr>\n",
       "      <th>7</th>\n",
       "      <td>1</td>\n",
       "      <td>1</td>\n",
       "      <td>liberal</td>\n",
       "    </tr>\n",
       "    <tr>\n",
       "      <th>8</th>\n",
       "      <td>0</td>\n",
       "      <td>0</td>\n",
       "      <td>liberal</td>\n",
       "    </tr>\n",
       "    <tr>\n",
       "      <th>...</th>\n",
       "      <td>...</td>\n",
       "      <td>...</td>\n",
       "      <td>...</td>\n",
       "    </tr>\n",
       "    <tr>\n",
       "      <th>2118</th>\n",
       "      <td>0</td>\n",
       "      <td>1</td>\n",
       "      <td>conservatives</td>\n",
       "    </tr>\n",
       "    <tr>\n",
       "      <th>2119</th>\n",
       "      <td>0</td>\n",
       "      <td>1</td>\n",
       "      <td>conservatives</td>\n",
       "    </tr>\n",
       "    <tr>\n",
       "      <th>2122</th>\n",
       "      <td>0</td>\n",
       "      <td>1</td>\n",
       "      <td>conservatives</td>\n",
       "    </tr>\n",
       "    <tr>\n",
       "      <th>2130</th>\n",
       "      <td>1</td>\n",
       "      <td>1</td>\n",
       "      <td>liberal</td>\n",
       "    </tr>\n",
       "    <tr>\n",
       "      <th>2132</th>\n",
       "      <td>1</td>\n",
       "      <td>0</td>\n",
       "      <td>new democratic party</td>\n",
       "    </tr>\n",
       "  </tbody>\n",
       "</table>\n",
       "<p>914 rows × 3 columns</p>\n",
       "</div>"
      ],
      "text/plain": [
       "      sentiment  prediction       political_party\n",
       "0             0           1         conservatives\n",
       "2             0           1               liberal\n",
       "5             0           1         conservatives\n",
       "7             1           1               liberal\n",
       "8             0           0               liberal\n",
       "...         ...         ...                   ...\n",
       "2118          0           1         conservatives\n",
       "2119          0           1         conservatives\n",
       "2122          0           1         conservatives\n",
       "2130          1           1               liberal\n",
       "2132          1           0  new democratic party\n",
       "\n",
       "[914 rows x 3 columns]"
      ]
     },
     "execution_count": 69,
     "metadata": {},
     "output_type": "execute_result"
    }
   ],
   "source": [
    "result_df1 = df_election[['sentiment']]\n",
    "result_df1['prediction'] = pred_elec\n",
    "result_df1['political_party'] = df_election.loc[result_df1.index,'political_party']\n",
    "result_df1 = result_df.loc[result_df['political_party'] != 'None']\n",
    "result_df1"
   ]
  },
  {
   "cell_type": "markdown",
   "metadata": {},
   "source": [
    "### (c) Visualization of Three Parties\n",
    "\n",
    "I chose the Logistic Regression model that has the best performance and visualize the sentiment prediction results and the true sentiment for each of the 3 parties/candidates.\n",
    "\n",
    "To visualize the results, I use confusion matrix and histogram. A confusion matrix is a summary of prediction results on a classification problem. The confusion matrix shows the ways in which classification model\n",
    "is confused when it makes predictions. Two histogram for true sentiment and prediction is also drawn. "
   ]
  },
  {
   "cell_type": "markdown",
   "metadata": {},
   "source": [
    "### Liberal Party\n",
    "\n",
    "The accuracy for word frequency prediction is 49.04%. Confusion matrix shows that the main prediction error is FN- false negatives, which means that we predict these sample to be negatives but they are actually positive. The histrogram shows that negative sentiment is overestimate while the positive sentiment is underestimate."
   ]
  },
  {
   "cell_type": "code",
   "execution_count": 79,
   "metadata": {},
   "outputs": [
    {
     "name": "stdout",
     "output_type": "stream",
     "text": [
      "Accuracy for Liberal Party: 49.04%\n"
     ]
    }
   ],
   "source": [
    "df_party = result_df.copy()\n",
    "df_party.index = range(len(df_party))\n",
    "df_liberal = df_party[df_party['political_party']=='liberal']\n",
    "acc_liberal = accuracy_score(df_liberal['sentiment'],df_liberal['prediction'])\n",
    "print(\"Accuracy for Liberal Party: {}%\".format(round(acc_liberal*100,2)))"
   ]
  },
  {
   "cell_type": "code",
   "execution_count": 80,
   "metadata": {},
   "outputs": [
    {
     "data": {
      "image/png": "[encoded data removed]",
      "text/plain": [
       "<Figure size 432x288 with 2 Axes>"
      ]
     },
     "metadata": {
      "needs_background": "light"
     },
     "output_type": "display_data"
    }
   ],
   "source": [
    "# confusion matrix\n",
    "cm_lib = confusion_matrix(df_liberal['sentiment'],df_liberal['prediction'])\n",
    "sns.heatmap(cm_lib,annot=True,fmt='d')\n",
    "plt.show()"
   ]
  },
  {
   "cell_type": "code",
   "execution_count": 81,
   "metadata": {},
   "outputs": [
    {
     "data": {
      "image/png": "[encoded data removed]",
      "text/plain": [
       "<Figure size 864x360 with 2 Axes>"
      ]
     },
     "metadata": {
      "needs_background": "light"
     },
     "output_type": "display_data"
    }
   ],
   "source": [
    "# True sentiment vs prediction for liberal party\n",
    "fig, (ax1, ax2) = plt.subplots(1,2,sharey=True, figsize=(12,5))\n",
    "fig.suptitle('Liberal Party \\nTrue Sentiment vs. Prediction', fontsize=12)\n",
    "\n",
    "sns.countplot(x='sentiment', data=df_liberal,ax=ax1).tick_params(labelsize=12)\n",
    "sns.countplot(x='prediction', data=df_liberal,ax=ax2).tick_params(labelsize=12)"
   ]
  },
  {
   "cell_type": "markdown",
   "metadata": {},
   "source": [
    "### Conservative Party\n",
    "\n",
    "The accuracy for word frequency prediction is 47.45%. Confusion matrix shows that the main prediction error is FP- false positives, which means that we predict these sample to be positive but they are actually negative. The histrogram shows that negative sentiment is underestimate while the positive sentiment is overestimate."
   ]
  },
  {
   "cell_type": "code",
   "execution_count": 73,
   "metadata": {
    "scrolled": true
   },
   "outputs": [
    {
     "name": "stdout",
     "output_type": "stream",
     "text": [
      "Accuracy of Conservative Party: 47.45%\n"
     ]
    }
   ],
   "source": [
    "df_conser = df_party[df_party['political_party']=='conservatives']\n",
    "acc_conser = accuracy_score(df_conser['sentiment'],df_conser['prediction'])\n",
    "print(\"Accuracy of Conservative Party: {}%\".format(round(acc_conser*100,2)))"
   ]
  },
  {
   "cell_type": "code",
   "execution_count": 74,
   "metadata": {},
   "outputs": [
    {
     "data": {
      "image/png": "[encoded data removed]",
      "text/plain": [
       "<Figure size 432x288 with 2 Axes>"
      ]
     },
     "metadata": {
      "needs_background": "light"
     },
     "output_type": "display_data"
    }
   ],
   "source": [
    "cm_conser = confusion_matrix(df_conser['sentiment'],df_conser['prediction'])\n",
    "sns.heatmap(cm_conser,annot=True,fmt='d')\n",
    "plt.show()"
   ]
  },
  {
   "cell_type": "code",
   "execution_count": 75,
   "metadata": {},
   "outputs": [
    {
     "data": {
      "image/png": "[encoded data removed]",
      "text/plain": [
       "<Figure size 1008x360 with 2 Axes>"
      ]
     },
     "metadata": {
      "needs_background": "light"
     },
     "output_type": "display_data"
    }
   ],
   "source": [
    "# Prediction VS True for Conservative\n",
    "fig, (ax1, ax2) = plt.subplots(1,2,sharey=True, figsize=(14,5))\n",
    "fig.suptitle('Conservative Party \\nTrue Sentiment vs. Prediction',fontsize=14)\n",
    "\n",
    "sns.countplot(x='sentiment', data=df_conser,ax=ax1).tick_params(labelsize=12)\n",
    "sns.countplot(x='prediction', data=df_conser,ax=ax2).tick_params(labelsize=12)"
   ]
  },
  {
   "cell_type": "markdown",
   "metadata": {},
   "source": [
    "### New Democratic Party\n",
    "\n",
    "The accuracy for word frequency prediction is 31.09%. Confusion matrix shows that the main prediction error is FN- false negatives, which means that we predict these sample to be negatives but they are actually positive. The histrogram shows that negative sentiment is overestimate while the positive sentiment is underestimate."
   ]
  },
  {
   "cell_type": "code",
   "execution_count": 76,
   "metadata": {},
   "outputs": [
    {
     "name": "stdout",
     "output_type": "stream",
     "text": [
      "Accuracy of Conservative Party: 31.09%\n"
     ]
    }
   ],
   "source": [
    "df_ndp = df_party[df_party['political_party']=='new democratic party']\n",
    "acc_ndp = accuracy_score(df_ndp['sentiment'],df_ndp['prediction'])\n",
    "print(\"Accuracy of Conservative Party: {}%\".format(round(acc_ndp*100,2)))"
   ]
  },
  {
   "cell_type": "code",
   "execution_count": 77,
   "metadata": {},
   "outputs": [
    {
     "data": {
      "image/png": "[encoded data removed]",
      "text/plain": [
       "<Figure size 432x288 with 2 Axes>"
      ]
     },
     "metadata": {
      "needs_background": "light"
     },
     "output_type": "display_data"
    }
   ],
   "source": [
    "cm_ndp = confusion_matrix(df_ndp['sentiment'],df_ndp['prediction'])\n",
    "sns.heatmap(cm_ndp,annot=True,fmt='d')\n",
    "plt.show()"
   ]
  },
  {
   "cell_type": "code",
   "execution_count": 78,
   "metadata": {},
   "outputs": [
    {
     "data": {
      "image/png": "[encoded data removed]",
      "text/plain": [
       "<Figure size 864x360 with 2 Axes>"
      ]
     },
     "metadata": {
      "needs_background": "light"
     },
     "output_type": "display_data"
    }
   ],
   "source": [
    "# Prediction VS True for NDP\n",
    "fig, (ax1, ax2) = plt.subplots(1,2,sharey=True, figsize=(12,5))\n",
    "fig.suptitle('NDP \\nTrue Sentiment vs. Prediction',fontsize=14)\n",
    "\n",
    "sns.countplot(x='sentiment', data=df_ndp,ax=ax1).tick_params(labelsize=12)\n",
    "sns.countplot(x='prediction', data=df_ndp,ax=ax2).tick_params(labelsize=12)"
   ]
  },
  {
   "cell_type": "markdown",
   "metadata": {},
   "source": [
    "### (d) Multiclass Classifications on Negative Reasons\n",
    "\n",
    "#### extract the tweets with negative sentiment"
   ]
  },
  {
   "cell_type": "code",
   "execution_count": 127,
   "metadata": {},
   "outputs": [
    {
     "data": {
      "text/html": [
       "<div>\n",
       "<style scoped>\n",
       "    .dataframe tbody tr th:only-of-type {\n",
       "        vertical-align: middle;\n",
       "    }\n",
       "\n",
       "    .dataframe tbody tr th {\n",
       "        vertical-align: top;\n",
       "    }\n",
       "\n",
       "    .dataframe thead th {\n",
       "        text-align: right;\n",
       "    }\n",
       "</style>\n",
       "<table border=\"1\" class=\"dataframe\">\n",
       "  <thead>\n",
       "    <tr style=\"text-align: right;\">\n",
       "      <th></th>\n",
       "      <th>negative_reason</th>\n",
       "      <th>text</th>\n",
       "    </tr>\n",
       "  </thead>\n",
       "  <tbody>\n",
       "    <tr>\n",
       "      <th>0</th>\n",
       "      <td>Women Reproductive right and Racism</td>\n",
       "      <td>instead suggestion agree canadian woman trust ...</td>\n",
       "    </tr>\n",
       "    <tr>\n",
       "      <th>1</th>\n",
       "      <td>Economy</td>\n",
       "      <td>brantford go cost 94 billion next 4 year ask j...</td>\n",
       "    </tr>\n",
       "    <tr>\n",
       "      <th>2</th>\n",
       "      <td>Economy</td>\n",
       "      <td>canada taxpayer sick tire hard earn donate cor...</td>\n",
       "    </tr>\n",
       "    <tr>\n",
       "      <th>3</th>\n",
       "      <td>Others</td>\n",
       "      <td>canadavotes2019 elxn43 cdnpoli fact blastfromt...</td>\n",
       "    </tr>\n",
       "    <tr>\n",
       "      <th>4</th>\n",
       "      <td>Others</td>\n",
       "      <td>chooseforward cdnpoli elxn43canada make americ...</td>\n",
       "    </tr>\n",
       "  </tbody>\n",
       "</table>\n",
       "</div>"
      ],
      "text/plain": [
       "                       negative_reason  \\\n",
       "0  Women Reproductive right and Racism   \n",
       "1                              Economy   \n",
       "2                              Economy   \n",
       "3                               Others   \n",
       "4                               Others   \n",
       "\n",
       "                                                text  \n",
       "0  instead suggestion agree canadian woman trust ...  \n",
       "1  brantford go cost 94 billion next 4 year ask j...  \n",
       "2  canada taxpayer sick tire hard earn donate cor...  \n",
       "3  canadavotes2019 elxn43 cdnpoli fact blastfromt...  \n",
       "4  chooseforward cdnpoli elxn43canada make americ...  "
      ]
     },
     "execution_count": 127,
     "metadata": {},
     "output_type": "execute_result"
    }
   ],
   "source": [
    "#extract negative sentiment\n",
    "df_reason = df_election[df_election['sentiment'] == 0]\n",
    "df_reason.index = range(len(df_reason))\n",
    "df_reason.drop(['sentiment','political_party'],axis=1,inplace=True)\n",
    "df_reason.head()"
   ]
  },
  {
   "cell_type": "code",
   "execution_count": 128,
   "metadata": {},
   "outputs": [
    {
     "data": {
      "text/plain": [
       "array(['Women Reproductive right and Racism', 'Economy', 'Others',\n",
       "       'Scandal', 'Tell lies', 'Privilege', 'Climate Problem',\n",
       "       'Healthcare', 'Separation', 'Healthcare and Marijuana'],\n",
       "      dtype=object)"
      ]
     },
     "execution_count": 128,
     "metadata": {},
     "output_type": "execute_result"
    }
   ],
   "source": [
    "df_reason['negative_reason'].unique()"
   ]
  },
  {
   "cell_type": "markdown",
   "metadata": {},
   "source": [
    "#### Categorize negative reasons"
   ]
  },
  {
   "cell_type": "markdown",
   "metadata": {},
   "source": [
    "I categorized all the reasons into four categories. \n",
    " \n",
    "   * Personal: Scandal, Tell lies, Privilege, Separation\n",
    "   * Economic: Economy\n",
    "   * Politics: Women Reproductive right and Racism, Climate Problem, Healthcare, Healthcare and Marijuana\n",
    "   * Others: others"
   ]
  },
  {
   "cell_type": "code",
   "execution_count": 129,
   "metadata": {},
   "outputs": [],
   "source": [
    "df_reason['negative_reason'].replace(['Scandal','Tell lies','Privilege','Separation',\n",
    "                                      'Economy',\n",
    "                                      'Women Reproductive right and Racism','Climate Problem','Healthcare','Healthcare and Marijuana',\n",
    "                                      'Others'],\n",
    "                                      [0,0,0,0,1,2,2,2,2,3],inplace=True)"
   ]
  },
  {
   "cell_type": "code",
   "execution_count": 130,
   "metadata": {},
   "outputs": [
    {
     "data": {
      "text/html": [
       "<div>\n",
       "<style scoped>\n",
       "    .dataframe tbody tr th:only-of-type {\n",
       "        vertical-align: middle;\n",
       "    }\n",
       "\n",
       "    .dataframe tbody tr th {\n",
       "        vertical-align: top;\n",
       "    }\n",
       "\n",
       "    .dataframe thead th {\n",
       "        text-align: right;\n",
       "    }\n",
       "</style>\n",
       "<table border=\"1\" class=\"dataframe\">\n",
       "  <thead>\n",
       "    <tr style=\"text-align: right;\">\n",
       "      <th></th>\n",
       "      <th>negative_reason</th>\n",
       "      <th>text</th>\n",
       "    </tr>\n",
       "  </thead>\n",
       "  <tbody>\n",
       "    <tr>\n",
       "      <th>0</th>\n",
       "      <td>2</td>\n",
       "      <td>instead suggestion agree canadian woman trust ...</td>\n",
       "    </tr>\n",
       "    <tr>\n",
       "      <th>1</th>\n",
       "      <td>1</td>\n",
       "      <td>brantford go cost 94 billion next 4 year ask j...</td>\n",
       "    </tr>\n",
       "    <tr>\n",
       "      <th>2</th>\n",
       "      <td>1</td>\n",
       "      <td>canada taxpayer sick tire hard earn donate cor...</td>\n",
       "    </tr>\n",
       "    <tr>\n",
       "      <th>3</th>\n",
       "      <td>3</td>\n",
       "      <td>canadavotes2019 elxn43 cdnpoli fact blastfromt...</td>\n",
       "    </tr>\n",
       "    <tr>\n",
       "      <th>4</th>\n",
       "      <td>3</td>\n",
       "      <td>chooseforward cdnpoli elxn43canada make americ...</td>\n",
       "    </tr>\n",
       "  </tbody>\n",
       "</table>\n",
       "</div>"
      ],
      "text/plain": [
       "   negative_reason                                               text\n",
       "0                2  instead suggestion agree canadian woman trust ...\n",
       "1                1  brantford go cost 94 billion next 4 year ask j...\n",
       "2                1  canada taxpayer sick tire hard earn donate cor...\n",
       "3                3  canadavotes2019 elxn43 cdnpoli fact blastfromt...\n",
       "4                3  chooseforward cdnpoli elxn43canada make americ..."
      ]
     },
     "execution_count": 130,
     "metadata": {},
     "output_type": "execute_result"
    }
   ],
   "source": [
    "df_reason.head()"
   ]
  },
  {
   "cell_type": "markdown",
   "metadata": {},
   "source": [
    "#### Prepare Dataset by transforming by TFIDF"
   ]
  },
  {
   "cell_type": "code",
   "execution_count": 107,
   "metadata": {},
   "outputs": [],
   "source": [
    "# Vectorize and fit model\n",
    "tfidf = TfidfVectorizer(max_features=1000, max_df=0.8)\n",
    "array_tf_reason = tfidf.fit_transform(df_reason['text'])"
   ]
  },
  {
   "cell_type": "code",
   "execution_count": 108,
   "metadata": {},
   "outputs": [],
   "source": [
    "# Split into train and test dataset\n",
    "Xidf_train_r, Xidf_test_r, yidf_train_r, yidf_test_r = train_test_split(array_tf_reason, \n",
    "                                                                        df_reason['negative_reason'],test_size=0.3,\n",
    "                                                                        stratify=df_reason['negative_reason'])"
   ]
  },
  {
   "cell_type": "markdown",
   "metadata": {},
   "source": [
    "#### Make Predictions and Visualize the Results"
   ]
  },
  {
   "cell_type": "code",
   "execution_count": 159,
   "metadata": {},
   "outputs": [],
   "source": [
    "#accuracy of TF-IDF model\n",
    "def get_reason_accuracy(model, X_train, X_test, y_train, y_test):\n",
    "    \n",
    "    dic = {'lr':'Logistic Regression',\n",
    "           'svm':'Support Vector Machine',\n",
    "           'rf':'Random Forest'}\n",
    "    \n",
    "    train_acc, test_acc = [], []\n",
    "    \n",
    "    if model == 'lr':\n",
    "        clf = OneVsRestClassifier(LogisticRegression(C=1, solver='liblinear',multi_class='ovr'))\n",
    "    elif model == 'svm':\n",
    "        clf = OneVsRestClassifier(svm.LinearSVC(C=10))\n",
    "    elif model == 'rf':\n",
    "        clf = OneVsRestClassifier(RandomForestClassifier(max_depth=200,min_samples_split=5))\n",
    "    else:\n",
    "        print('Model doesn\\'t exist')\n",
    "\n",
    "    clf.fit(X_train, y_train)\n",
    "\n",
    "    # predict using train data\n",
    "    train_pred = clf.predict(X_train)\n",
    "    train_acc = accuracy_score(y_train, train_pred)\n",
    "    \n",
    "    # predict using test data\n",
    "    test_pred = clf.predict(X_test)\n",
    "    test_acc = accuracy_score(y_test, test_pred)   \n",
    " \n",
    "    print(\"Model: \", dic[model])\n",
    "    print(\"\\nTraining accuracy is: {}%\".format(round(train_acc*100,2)))\n",
    "    print(\"\\nTest accuracy is: {}%\".format(round(test_acc*100,2)))\n",
    "    \n",
    "    return round(train_acc*100,2), round(test_acc*100,2)"
   ]
  },
  {
   "cell_type": "markdown",
   "metadata": {},
   "source": [
    "##### Logistic regression model with TF-IDF on Canadian Election data"
   ]
  },
  {
   "cell_type": "code",
   "execution_count": 160,
   "metadata": {},
   "outputs": [
    {
     "name": "stdout",
     "output_type": "stream",
     "text": [
      "Model:  Logistic Regression\n",
      "\n",
      "Training accuracy is: 100.0%\n",
      "\n",
      "Test accuracy is: 60.26%\n"
     ]
    }
   ],
   "source": [
    "train_acc_lr, test_acc_lr = get_reason_accuracy('lr',Xidf_train_r, Xidf_test_r, yidf_train_r, yidf_test_r)"
   ]
  },
  {
   "cell_type": "markdown",
   "metadata": {},
   "source": [
    "##### Support Vector Machine model with TF-IDF on Canadian Election data"
   ]
  },
  {
   "cell_type": "code",
   "execution_count": 161,
   "metadata": {},
   "outputs": [
    {
     "name": "stdout",
     "output_type": "stream",
     "text": [
      "Model:  Support Vector Machine\n",
      "\n",
      "Training accuracy is: 100.0%\n",
      "\n",
      "Test accuracy is: 60.26%\n"
     ]
    }
   ],
   "source": [
    "train_acc_nb, test_acc_nb = get_reason_accuracy('svm',Xidf_train_r, Xidf_test_r, yidf_train_r, yidf_test_r)"
   ]
  },
  {
   "cell_type": "markdown",
   "metadata": {},
   "source": [
    "##### Random Forest model with TF-IDF on Canadian Election data"
   ]
  },
  {
   "cell_type": "code",
   "execution_count": 162,
   "metadata": {},
   "outputs": [
    {
     "name": "stdout",
     "output_type": "stream",
     "text": [
      "Model:  Random Forest\n",
      "\n",
      "Training accuracy is: 99.72%\n",
      "\n",
      "Test accuracy is: 61.92%\n"
     ]
    }
   ],
   "source": [
    "train_acc_rf, test_acc_rf= get_reason_accuracy('rf',Xidf_train_r, Xidf_test_r, yidf_train_r, yidf_test_r)"
   ]
  },
  {
   "cell_type": "code",
   "execution_count": 163,
   "metadata": {},
   "outputs": [
    {
     "data": {
      "text/html": [
       "<div>\n",
       "<style scoped>\n",
       "    .dataframe tbody tr th:only-of-type {\n",
       "        vertical-align: middle;\n",
       "    }\n",
       "\n",
       "    .dataframe tbody tr th {\n",
       "        vertical-align: top;\n",
       "    }\n",
       "\n",
       "    .dataframe thead th {\n",
       "        text-align: right;\n",
       "    }\n",
       "</style>\n",
       "<table border=\"1\" class=\"dataframe\">\n",
       "  <thead>\n",
       "    <tr style=\"text-align: right;\">\n",
       "      <th></th>\n",
       "      <th>Logistic Regression</th>\n",
       "      <th>Support Vector Machine</th>\n",
       "      <th>Random Forest</th>\n",
       "    </tr>\n",
       "  </thead>\n",
       "  <tbody>\n",
       "    <tr>\n",
       "      <th>Training Accuracy</th>\n",
       "      <td>100.00</td>\n",
       "      <td>100.00</td>\n",
       "      <td>99.72</td>\n",
       "    </tr>\n",
       "    <tr>\n",
       "      <th>Test Accuracy</th>\n",
       "      <td>60.26</td>\n",
       "      <td>60.26</td>\n",
       "      <td>61.92</td>\n",
       "    </tr>\n",
       "  </tbody>\n",
       "</table>\n",
       "</div>"
      ],
      "text/plain": [
       "                   Logistic Regression  Support Vector Machine  Random Forest\n",
       "Training Accuracy               100.00                  100.00          99.72\n",
       "Test Accuracy                    60.26                   60.26          61.92"
      ]
     },
     "execution_count": 163,
     "metadata": {},
     "output_type": "execute_result"
    }
   ],
   "source": [
    "pd.DataFrame([[train_acc_lr,train_acc_nb,train_acc_rf],\n",
    "              [test_acc_lr,test_acc_nb,test_acc_rf]],index=['Training Accuracy','Test Accuracy'],\n",
    "              columns=['Logistic Regression','Support Vector Machine','Random Forest'])"
   ]
  },
  {
   "cell_type": "markdown",
   "metadata": {},
   "source": [
    "## 5 Discussion"
   ]
  },
  {
   "cell_type": "markdown",
   "metadata": {},
   "source": [
    "### (a) Sentiment Analysis Discussion\n",
    "\n",
    "1. By presenting the political parties in histogram, I surprisingly found that the dominating political party is \"None\". It may be that the keywords are not enough to classify political parties or people are more interested in other parties. Other than \"None\", liberal party and conservative party are two main portion in tweets, while NDP occupy only a little portion. By presenting the sentiment for generic tweets data in histogram, I found that positive sentiment is about double more than the negative sentiment. Also, by presenting the wordcloud regarding the positive sentiments on liberal party, which is the winner party in 2019 election, I found that the most popular word is \"chooseforward\", \"liberal\", and \"trudeau\". However, \"elxn43\" and \"cdnpoli\" are not appropriate and cannot provide any useful information, which should be removed during the following prediction.\n",
    "\n",
    "\n",
    "2. In the visualization of three parties' sentiment distribution, the negative sentiment and positive sentiment are fairly distributed for the liberal party, which means that the public views for liberal party is without bias toward any end; the number of negative sentiment is about double more than the number of positive sentiment for the conservative party, which means that conservative party is not welcomed for the majority; on the contrary, the number of positive sentiment is more than double than the number of negative sentiment for the NDP, which means that NDP receives many supporters. \n",
    "\n",
    "\n",
    "3. After training seven models on the training data from generic tweets and applying the model to the test data to obtain an accuracy value, the logistic regression model with hyperparameter C=1 turns out to the best model with the highest accuracy. However, it does not perform well when it comes to sentiment prediction of Canadian election data. The accuracy for liberal, conservative, and NDP party is 49.04%, 47.45%, and 31.09% respectively. For liberal party and NDP, the sentiment predictions exhibit false negatives error, which means that negative sentiment is overestimate while the positive sentiment is underestimate. On the contrary, for conservative party, the sentiment predictions exhibit false positive error, which means that negative sentiment is underestimate while the positive sentiment is overestimate. The potential reason for the prediction error may be that there are too many negative sentiments for conservative party and too many positive sentiments for NDP. Thus, the negative sentiments are predicted as positive for conservative party while the positive sentiments are predicted as negative for NDP.\n",
    "\n",
    "\n",
    "4. Logistic regression, support vector machine, and random forest, as the three best models for sentiment predictions on generic tweets, achieve nearly 100% accuracy in training data but achieve only about 60% in test data for Canadian election dataset. The potential reason for prediction error may be that there is insufficient data for modeling. "
   ]
  },
  {
   "cell_type": "markdown",
   "metadata": {},
   "source": [
    "### (b) Reasons for prediction error\n",
    "\n",
    "The Training accuracy for logistic regression and support vector machine model reaches 100% but test accuracy is 60%. The reason may be insufficient dataset and different distribution of training data and testing data. An recommendation is to apply some feature selection or feature reduction (like PCA) approaches to tackle the overfitting problem. Also, elaborate the \"Other\" type of negative reason. Third, drop the irrelevant words that may negatively impact the performance of the model on new data, such as \"elxn43\" and \"cdnpoli\" as shown in question 2."
   ]
  },
  {
   "cell_type": "markdown",
   "metadata": {},
   "source": [
    "##### Test dataset vs Prediction\n",
    "\n",
    "As shown from the test dataset vs prediction, it is obvious that category 0 (personal reasons) and category 3 (other reasons) dominate the prediction. Category 1 (economic reasons) and category 2 (politics reasons) may be predicted as category 0 or 3, because personal reasons and other reasons make up a large portion in negative reasons. Say number 168 and 218 and 143, which are category 1 and 2, they are predicted as category 0 and 3. It is because that the category 0 and 3 made up of 85% of the whole dataset. Thus, other type of reason should be elaborate more while personal reason may be seperate into several categories. "
   ]
  },
  {
   "cell_type": "code",
   "execution_count": 186,
   "metadata": {},
   "outputs": [
    {
     "data": {
      "text/html": [
       "<div>\n",
       "<style scoped>\n",
       "    .dataframe tbody tr th:only-of-type {\n",
       "        vertical-align: middle;\n",
       "    }\n",
       "\n",
       "    .dataframe tbody tr th {\n",
       "        vertical-align: top;\n",
       "    }\n",
       "\n",
       "    .dataframe thead th {\n",
       "        text-align: right;\n",
       "    }\n",
       "</style>\n",
       "<table border=\"1\" class=\"dataframe\">\n",
       "  <thead>\n",
       "    <tr style=\"text-align: right;\">\n",
       "      <th></th>\n",
       "      <th>168</th>\n",
       "      <th>708</th>\n",
       "      <th>451</th>\n",
       "      <th>754</th>\n",
       "      <th>777</th>\n",
       "      <th>90</th>\n",
       "      <th>189</th>\n",
       "      <th>458</th>\n",
       "      <th>387</th>\n",
       "      <th>574</th>\n",
       "      <th>218</th>\n",
       "      <th>819</th>\n",
       "      <th>242</th>\n",
       "      <th>15</th>\n",
       "      <th>13</th>\n",
       "      <th>100</th>\n",
       "      <th>208</th>\n",
       "      <th>194</th>\n",
       "      <th>112</th>\n",
       "      <th>413</th>\n",
       "      <th>605</th>\n",
       "      <th>322</th>\n",
       "      <th>921</th>\n",
       "      <th>104</th>\n",
       "      <th>594</th>\n",
       "      <th>180</th>\n",
       "      <th>626</th>\n",
       "      <th>0</th>\n",
       "      <th>532</th>\n",
       "      <th>162</th>\n",
       "      <th>19</th>\n",
       "      <th>483</th>\n",
       "      <th>254</th>\n",
       "      <th>757</th>\n",
       "      <th>140</th>\n",
       "      <th>606</th>\n",
       "      <th>602</th>\n",
       "      <th>644</th>\n",
       "      <th>473</th>\n",
       "      <th>909</th>\n",
       "      <th>1004</th>\n",
       "      <th>497</th>\n",
       "      <th>971</th>\n",
       "      <th>780</th>\n",
       "      <th>192</th>\n",
       "      <th>871</th>\n",
       "      <th>296</th>\n",
       "      <th>499</th>\n",
       "      <th>143</th>\n",
       "      <th>288</th>\n",
       "      <th>362</th>\n",
       "      <th>826</th>\n",
       "      <th>164</th>\n",
       "      <th>997</th>\n",
       "      <th>553</th>\n",
       "      <th>421</th>\n",
       "      <th>841</th>\n",
       "      <th>435</th>\n",
       "      <th>811</th>\n",
       "      <th>457</th>\n",
       "      <th>258</th>\n",
       "      <th>427</th>\n",
       "      <th>91</th>\n",
       "      <th>251</th>\n",
       "      <th>356</th>\n",
       "      <th>931</th>\n",
       "      <th>807</th>\n",
       "      <th>961</th>\n",
       "      <th>21</th>\n",
       "      <th>941</th>\n",
       "      <th>430</th>\n",
       "      <th>697</th>\n",
       "      <th>794</th>\n",
       "      <th>341</th>\n",
       "      <th>59</th>\n",
       "      <th>117</th>\n",
       "      <th>239</th>\n",
       "      <th>521</th>\n",
       "      <th>358</th>\n",
       "      <th>193</th>\n",
       "      <th>113</th>\n",
       "      <th>490</th>\n",
       "      <th>471</th>\n",
       "      <th>556</th>\n",
       "      <th>563</th>\n",
       "      <th>679</th>\n",
       "      <th>910</th>\n",
       "      <th>97</th>\n",
       "      <th>102</th>\n",
       "      <th>448</th>\n",
       "      <th>157</th>\n",
       "      <th>213</th>\n",
       "      <th>235</th>\n",
       "      <th>873</th>\n",
       "      <th>184</th>\n",
       "      <th>967</th>\n",
       "      <th>80</th>\n",
       "      <th>216</th>\n",
       "      <th>984</th>\n",
       "      <th>236</th>\n",
       "      <th>542</th>\n",
       "      <th>846</th>\n",
       "      <th>661</th>\n",
       "      <th>94</th>\n",
       "      <th>407</th>\n",
       "      <th>412</th>\n",
       "      <th>376</th>\n",
       "      <th>887</th>\n",
       "      <th>488</th>\n",
       "      <th>793</th>\n",
       "      <th>611</th>\n",
       "      <th>982</th>\n",
       "      <th>121</th>\n",
       "      <th>551</th>\n",
       "      <th>166</th>\n",
       "      <th>191</th>\n",
       "      <th>560</th>\n",
       "      <th>575</th>\n",
       "      <th>782</th>\n",
       "      <th>668</th>\n",
       "      <th>315</th>\n",
       "      <th>6</th>\n",
       "      <th>219</th>\n",
       "      <th>735</th>\n",
       "      <th>689</th>\n",
       "      <th>614</th>\n",
       "      <th>134</th>\n",
       "      <th>959</th>\n",
       "      <th>742</th>\n",
       "      <th>514</th>\n",
       "      <th>248</th>\n",
       "      <th>710</th>\n",
       "      <th>633</th>\n",
       "      <th>933</th>\n",
       "      <th>481</th>\n",
       "      <th>916</th>\n",
       "      <th>667</th>\n",
       "      <th>700</th>\n",
       "      <th>144</th>\n",
       "      <th>320</th>\n",
       "      <th>392</th>\n",
       "      <th>608</th>\n",
       "      <th>788</th>\n",
       "      <th>683</th>\n",
       "      <th>374</th>\n",
       "      <th>475</th>\n",
       "      <th>229</th>\n",
       "      <th>655</th>\n",
       "      <th>347</th>\n",
       "      <th>695</th>\n",
       "      <th>444</th>\n",
       "      <th>911</th>\n",
       "      <th>857</th>\n",
       "      <th>899</th>\n",
       "      <th>649</th>\n",
       "      <th>884</th>\n",
       "      <th>781</th>\n",
       "      <th>972</th>\n",
       "      <th>533</th>\n",
       "      <th>724</th>\n",
       "      <th>565</th>\n",
       "      <th>897</th>\n",
       "      <th>510</th>\n",
       "      <th>974</th>\n",
       "      <th>42</th>\n",
       "      <th>321</th>\n",
       "      <th>762</th>\n",
       "      <th>935</th>\n",
       "      <th>185</th>\n",
       "      <th>64</th>\n",
       "      <th>276</th>\n",
       "      <th>628</th>\n",
       "      <th>987</th>\n",
       "      <th>993</th>\n",
       "      <th>828</th>\n",
       "      <th>647</th>\n",
       "      <th>283</th>\n",
       "      <th>328</th>\n",
       "      <th>805</th>\n",
       "      <th>329</th>\n",
       "      <th>187</th>\n",
       "      <th>773</th>\n",
       "      <th>973</th>\n",
       "      <th>95</th>\n",
       "      <th>741</th>\n",
       "      <th>779</th>\n",
       "      <th>631</th>\n",
       "      <th>115</th>\n",
       "      <th>270</th>\n",
       "      <th>960</th>\n",
       "      <th>294</th>\n",
       "      <th>656</th>\n",
       "      <th>616</th>\n",
       "      <th>364</th>\n",
       "      <th>35</th>\n",
       "      <th>577</th>\n",
       "      <th>648</th>\n",
       "      <th>681</th>\n",
       "      <th>360</th>\n",
       "      <th>419</th>\n",
       "      <th>72</th>\n",
       "      <th>440</th>\n",
       "      <th>478</th>\n",
       "      <th>334</th>\n",
       "      <th>836</th>\n",
       "      <th>151</th>\n",
       "      <th>17</th>\n",
       "      <th>523</th>\n",
       "      <th>728</th>\n",
       "      <th>460</th>\n",
       "      <th>671</th>\n",
       "      <th>297</th>\n",
       "      <th>613</th>\n",
       "      <th>670</th>\n",
       "      <th>57</th>\n",
       "      <th>650</th>\n",
       "      <th>727</th>\n",
       "      <th>308</th>\n",
       "      <th>635</th>\n",
       "      <th>672</th>\n",
       "      <th>716</th>\n",
       "      <th>791</th>\n",
       "      <th>22</th>\n",
       "      <th>1001</th>\n",
       "      <th>892</th>\n",
       "      <th>927</th>\n",
       "      <th>544</th>\n",
       "      <th>45</th>\n",
       "      <th>761</th>\n",
       "      <th>953</th>\n",
       "      <th>678</th>\n",
       "      <th>692</th>\n",
       "      <th>699</th>\n",
       "      <th>711</th>\n",
       "      <th>175</th>\n",
       "      <th>950</th>\n",
       "      <th>731</th>\n",
       "      <th>443</th>\n",
       "      <th>247</th>\n",
       "      <th>702</th>\n",
       "      <th>856</th>\n",
       "      <th>548</th>\n",
       "      <th>415</th>\n",
       "      <th>920</th>\n",
       "      <th>954</th>\n",
       "      <th>862</th>\n",
       "      <th>747</th>\n",
       "      <th>323</th>\n",
       "      <th>998</th>\n",
       "      <th>146</th>\n",
       "      <th>231</th>\n",
       "      <th>621</th>\n",
       "      <th>255</th>\n",
       "      <th>569</th>\n",
       "      <th>531</th>\n",
       "      <th>77</th>\n",
       "      <th>528</th>\n",
       "      <th>18</th>\n",
       "      <th>970</th>\n",
       "      <th>343</th>\n",
       "      <th>167</th>\n",
       "      <th>150</th>\n",
       "      <th>74</th>\n",
       "      <th>590</th>\n",
       "      <th>977</th>\n",
       "      <th>706</th>\n",
       "      <th>835</th>\n",
       "      <th>876</th>\n",
       "      <th>763</th>\n",
       "      <th>232</th>\n",
       "      <th>243</th>\n",
       "      <th>737</th>\n",
       "      <th>641</th>\n",
       "      <th>177</th>\n",
       "      <th>119</th>\n",
       "      <th>331</th>\n",
       "      <th>359</th>\n",
       "      <th>44</th>\n",
       "      <th>746</th>\n",
       "      <th>583</th>\n",
       "      <th>785</th>\n",
       "      <th>303</th>\n",
       "      <th>262</th>\n",
       "      <th>67</th>\n",
       "      <th>850</th>\n",
       "      <th>745</th>\n",
       "      <th>250</th>\n",
       "      <th>944</th>\n",
       "      <th>582</th>\n",
       "      <th>914</th>\n",
       "      <th>378</th>\n",
       "      <th>937</th>\n",
       "      <th>915</th>\n",
       "      <th>406</th>\n",
       "      <th>217</th>\n",
       "      <th>253</th>\n",
       "      <th>401</th>\n",
       "      <th>203</th>\n",
       "      <th>617</th>\n",
       "      <th>206</th>\n",
       "      <th>371</th>\n",
       "      <th>567</th>\n",
       "    </tr>\n",
       "  </thead>\n",
       "  <tbody>\n",
       "    <tr>\n",
       "      <th>Prediction</th>\n",
       "      <td>0</td>\n",
       "      <td>3</td>\n",
       "      <td>0</td>\n",
       "      <td>0</td>\n",
       "      <td>3</td>\n",
       "      <td>3</td>\n",
       "      <td>0</td>\n",
       "      <td>0</td>\n",
       "      <td>3</td>\n",
       "      <td>3</td>\n",
       "      <td>3</td>\n",
       "      <td>0</td>\n",
       "      <td>0</td>\n",
       "      <td>0</td>\n",
       "      <td>3</td>\n",
       "      <td>0</td>\n",
       "      <td>3</td>\n",
       "      <td>0</td>\n",
       "      <td>3</td>\n",
       "      <td>3</td>\n",
       "      <td>3</td>\n",
       "      <td>3</td>\n",
       "      <td>3</td>\n",
       "      <td>0</td>\n",
       "      <td>0</td>\n",
       "      <td>3</td>\n",
       "      <td>3</td>\n",
       "      <td>2</td>\n",
       "      <td>0</td>\n",
       "      <td>2</td>\n",
       "      <td>0</td>\n",
       "      <td>0</td>\n",
       "      <td>2</td>\n",
       "      <td>3</td>\n",
       "      <td>3</td>\n",
       "      <td>3</td>\n",
       "      <td>0</td>\n",
       "      <td>0</td>\n",
       "      <td>0</td>\n",
       "      <td>3</td>\n",
       "      <td>0</td>\n",
       "      <td>3</td>\n",
       "      <td>0</td>\n",
       "      <td>3</td>\n",
       "      <td>3</td>\n",
       "      <td>0</td>\n",
       "      <td>0</td>\n",
       "      <td>0</td>\n",
       "      <td>0</td>\n",
       "      <td>3</td>\n",
       "      <td>3</td>\n",
       "      <td>3</td>\n",
       "      <td>0</td>\n",
       "      <td>0</td>\n",
       "      <td>3</td>\n",
       "      <td>0</td>\n",
       "      <td>0</td>\n",
       "      <td>0</td>\n",
       "      <td>0</td>\n",
       "      <td>3</td>\n",
       "      <td>0</td>\n",
       "      <td>3</td>\n",
       "      <td>0</td>\n",
       "      <td>3</td>\n",
       "      <td>0</td>\n",
       "      <td>2</td>\n",
       "      <td>3</td>\n",
       "      <td>0</td>\n",
       "      <td>0</td>\n",
       "      <td>3</td>\n",
       "      <td>3</td>\n",
       "      <td>3</td>\n",
       "      <td>2</td>\n",
       "      <td>0</td>\n",
       "      <td>0</td>\n",
       "      <td>0</td>\n",
       "      <td>0</td>\n",
       "      <td>0</td>\n",
       "      <td>3</td>\n",
       "      <td>3</td>\n",
       "      <td>2</td>\n",
       "      <td>0</td>\n",
       "      <td>3</td>\n",
       "      <td>2</td>\n",
       "      <td>0</td>\n",
       "      <td>3</td>\n",
       "      <td>3</td>\n",
       "      <td>3</td>\n",
       "      <td>0</td>\n",
       "      <td>3</td>\n",
       "      <td>2</td>\n",
       "      <td>3</td>\n",
       "      <td>3</td>\n",
       "      <td>0</td>\n",
       "      <td>3</td>\n",
       "      <td>0</td>\n",
       "      <td>3</td>\n",
       "      <td>3</td>\n",
       "      <td>3</td>\n",
       "      <td>0</td>\n",
       "      <td>3</td>\n",
       "      <td>3</td>\n",
       "      <td>3</td>\n",
       "      <td>0</td>\n",
       "      <td>3</td>\n",
       "      <td>3</td>\n",
       "      <td>0</td>\n",
       "      <td>3</td>\n",
       "      <td>0</td>\n",
       "      <td>0</td>\n",
       "      <td>0</td>\n",
       "      <td>0</td>\n",
       "      <td>0</td>\n",
       "      <td>0</td>\n",
       "      <td>0</td>\n",
       "      <td>0</td>\n",
       "      <td>3</td>\n",
       "      <td>0</td>\n",
       "      <td>0</td>\n",
       "      <td>0</td>\n",
       "      <td>3</td>\n",
       "      <td>3</td>\n",
       "      <td>0</td>\n",
       "      <td>0</td>\n",
       "      <td>0</td>\n",
       "      <td>3</td>\n",
       "      <td>0</td>\n",
       "      <td>3</td>\n",
       "      <td>0</td>\n",
       "      <td>0</td>\n",
       "      <td>0</td>\n",
       "      <td>3</td>\n",
       "      <td>0</td>\n",
       "      <td>0</td>\n",
       "      <td>3</td>\n",
       "      <td>0</td>\n",
       "      <td>0</td>\n",
       "      <td>3</td>\n",
       "      <td>3</td>\n",
       "      <td>3</td>\n",
       "      <td>3</td>\n",
       "      <td>2</td>\n",
       "      <td>3</td>\n",
       "      <td>3</td>\n",
       "      <td>0</td>\n",
       "      <td>3</td>\n",
       "      <td>0</td>\n",
       "      <td>0</td>\n",
       "      <td>3</td>\n",
       "      <td>3</td>\n",
       "      <td>3</td>\n",
       "      <td>3</td>\n",
       "      <td>0</td>\n",
       "      <td>0</td>\n",
       "      <td>3</td>\n",
       "      <td>3</td>\n",
       "      <td>3</td>\n",
       "      <td>0</td>\n",
       "      <td>3</td>\n",
       "      <td>0</td>\n",
       "      <td>0</td>\n",
       "      <td>3</td>\n",
       "      <td>0</td>\n",
       "      <td>0</td>\n",
       "      <td>0</td>\n",
       "      <td>0</td>\n",
       "      <td>3</td>\n",
       "      <td>2</td>\n",
       "      <td>3</td>\n",
       "      <td>3</td>\n",
       "      <td>3</td>\n",
       "      <td>3</td>\n",
       "      <td>3</td>\n",
       "      <td>0</td>\n",
       "      <td>0</td>\n",
       "      <td>0</td>\n",
       "      <td>3</td>\n",
       "      <td>0</td>\n",
       "      <td>0</td>\n",
       "      <td>3</td>\n",
       "      <td>3</td>\n",
       "      <td>3</td>\n",
       "      <td>0</td>\n",
       "      <td>2</td>\n",
       "      <td>0</td>\n",
       "      <td>0</td>\n",
       "      <td>0</td>\n",
       "      <td>3</td>\n",
       "      <td>0</td>\n",
       "      <td>0</td>\n",
       "      <td>3</td>\n",
       "      <td>0</td>\n",
       "      <td>0</td>\n",
       "      <td>3</td>\n",
       "      <td>3</td>\n",
       "      <td>0</td>\n",
       "      <td>0</td>\n",
       "      <td>0</td>\n",
       "      <td>3</td>\n",
       "      <td>0</td>\n",
       "      <td>3</td>\n",
       "      <td>0</td>\n",
       "      <td>3</td>\n",
       "      <td>3</td>\n",
       "      <td>0</td>\n",
       "      <td>0</td>\n",
       "      <td>1</td>\n",
       "      <td>3</td>\n",
       "      <td>0</td>\n",
       "      <td>3</td>\n",
       "      <td>0</td>\n",
       "      <td>2</td>\n",
       "      <td>3</td>\n",
       "      <td>0</td>\n",
       "      <td>0</td>\n",
       "      <td>3</td>\n",
       "      <td>0</td>\n",
       "      <td>3</td>\n",
       "      <td>0</td>\n",
       "      <td>0</td>\n",
       "      <td>0</td>\n",
       "      <td>0</td>\n",
       "      <td>0</td>\n",
       "      <td>3</td>\n",
       "      <td>3</td>\n",
       "      <td>0</td>\n",
       "      <td>0</td>\n",
       "      <td>3</td>\n",
       "      <td>3</td>\n",
       "      <td>3</td>\n",
       "      <td>0</td>\n",
       "      <td>0</td>\n",
       "      <td>3</td>\n",
       "      <td>0</td>\n",
       "      <td>3</td>\n",
       "      <td>3</td>\n",
       "      <td>3</td>\n",
       "      <td>3</td>\n",
       "      <td>0</td>\n",
       "      <td>3</td>\n",
       "      <td>0</td>\n",
       "      <td>0</td>\n",
       "      <td>2</td>\n",
       "      <td>3</td>\n",
       "      <td>0</td>\n",
       "      <td>3</td>\n",
       "      <td>0</td>\n",
       "      <td>3</td>\n",
       "      <td>2</td>\n",
       "      <td>3</td>\n",
       "      <td>0</td>\n",
       "      <td>0</td>\n",
       "      <td>3</td>\n",
       "      <td>3</td>\n",
       "      <td>0</td>\n",
       "      <td>0</td>\n",
       "      <td>2</td>\n",
       "      <td>0</td>\n",
       "      <td>3</td>\n",
       "      <td>0</td>\n",
       "      <td>0</td>\n",
       "      <td>0</td>\n",
       "      <td>3</td>\n",
       "      <td>3</td>\n",
       "      <td>3</td>\n",
       "      <td>3</td>\n",
       "      <td>0</td>\n",
       "      <td>3</td>\n",
       "      <td>3</td>\n",
       "      <td>3</td>\n",
       "      <td>0</td>\n",
       "      <td>0</td>\n",
       "      <td>3</td>\n",
       "      <td>2</td>\n",
       "      <td>3</td>\n",
       "      <td>0</td>\n",
       "      <td>0</td>\n",
       "      <td>0</td>\n",
       "      <td>3</td>\n",
       "      <td>0</td>\n",
       "      <td>3</td>\n",
       "      <td>0</td>\n",
       "      <td>0</td>\n",
       "      <td>0</td>\n",
       "      <td>0</td>\n",
       "      <td>2</td>\n",
       "      <td>0</td>\n",
       "      <td>3</td>\n",
       "      <td>0</td>\n",
       "      <td>0</td>\n",
       "      <td>0</td>\n",
       "      <td>3</td>\n",
       "      <td>3</td>\n",
       "      <td>3</td>\n",
       "      <td>0</td>\n",
       "      <td>0</td>\n",
       "      <td>2</td>\n",
       "      <td>0</td>\n",
       "      <td>3</td>\n",
       "      <td>0</td>\n",
       "      <td>3</td>\n",
       "      <td>3</td>\n",
       "    </tr>\n",
       "    <tr>\n",
       "      <th>True</th>\n",
       "      <td>2</td>\n",
       "      <td>0</td>\n",
       "      <td>0</td>\n",
       "      <td>0</td>\n",
       "      <td>0</td>\n",
       "      <td>3</td>\n",
       "      <td>0</td>\n",
       "      <td>3</td>\n",
       "      <td>3</td>\n",
       "      <td>3</td>\n",
       "      <td>2</td>\n",
       "      <td>0</td>\n",
       "      <td>0</td>\n",
       "      <td>0</td>\n",
       "      <td>3</td>\n",
       "      <td>0</td>\n",
       "      <td>0</td>\n",
       "      <td>3</td>\n",
       "      <td>2</td>\n",
       "      <td>3</td>\n",
       "      <td>3</td>\n",
       "      <td>3</td>\n",
       "      <td>0</td>\n",
       "      <td>0</td>\n",
       "      <td>0</td>\n",
       "      <td>0</td>\n",
       "      <td>0</td>\n",
       "      <td>2</td>\n",
       "      <td>0</td>\n",
       "      <td>0</td>\n",
       "      <td>3</td>\n",
       "      <td>0</td>\n",
       "      <td>2</td>\n",
       "      <td>0</td>\n",
       "      <td>0</td>\n",
       "      <td>3</td>\n",
       "      <td>0</td>\n",
       "      <td>3</td>\n",
       "      <td>0</td>\n",
       "      <td>3</td>\n",
       "      <td>0</td>\n",
       "      <td>0</td>\n",
       "      <td>0</td>\n",
       "      <td>0</td>\n",
       "      <td>3</td>\n",
       "      <td>0</td>\n",
       "      <td>0</td>\n",
       "      <td>0</td>\n",
       "      <td>1</td>\n",
       "      <td>0</td>\n",
       "      <td>2</td>\n",
       "      <td>0</td>\n",
       "      <td>0</td>\n",
       "      <td>2</td>\n",
       "      <td>3</td>\n",
       "      <td>0</td>\n",
       "      <td>3</td>\n",
       "      <td>0</td>\n",
       "      <td>1</td>\n",
       "      <td>3</td>\n",
       "      <td>0</td>\n",
       "      <td>0</td>\n",
       "      <td>3</td>\n",
       "      <td>3</td>\n",
       "      <td>3</td>\n",
       "      <td>2</td>\n",
       "      <td>2</td>\n",
       "      <td>3</td>\n",
       "      <td>0</td>\n",
       "      <td>3</td>\n",
       "      <td>3</td>\n",
       "      <td>3</td>\n",
       "      <td>2</td>\n",
       "      <td>0</td>\n",
       "      <td>0</td>\n",
       "      <td>0</td>\n",
       "      <td>0</td>\n",
       "      <td>0</td>\n",
       "      <td>3</td>\n",
       "      <td>3</td>\n",
       "      <td>2</td>\n",
       "      <td>3</td>\n",
       "      <td>0</td>\n",
       "      <td>2</td>\n",
       "      <td>0</td>\n",
       "      <td>3</td>\n",
       "      <td>3</td>\n",
       "      <td>3</td>\n",
       "      <td>3</td>\n",
       "      <td>3</td>\n",
       "      <td>2</td>\n",
       "      <td>0</td>\n",
       "      <td>3</td>\n",
       "      <td>0</td>\n",
       "      <td>0</td>\n",
       "      <td>0</td>\n",
       "      <td>1</td>\n",
       "      <td>3</td>\n",
       "      <td>0</td>\n",
       "      <td>0</td>\n",
       "      <td>3</td>\n",
       "      <td>0</td>\n",
       "      <td>0</td>\n",
       "      <td>0</td>\n",
       "      <td>0</td>\n",
       "      <td>2</td>\n",
       "      <td>0</td>\n",
       "      <td>2</td>\n",
       "      <td>0</td>\n",
       "      <td>0</td>\n",
       "      <td>3</td>\n",
       "      <td>0</td>\n",
       "      <td>0</td>\n",
       "      <td>1</td>\n",
       "      <td>3</td>\n",
       "      <td>3</td>\n",
       "      <td>1</td>\n",
       "      <td>0</td>\n",
       "      <td>3</td>\n",
       "      <td>3</td>\n",
       "      <td>3</td>\n",
       "      <td>3</td>\n",
       "      <td>3</td>\n",
       "      <td>3</td>\n",
       "      <td>0</td>\n",
       "      <td>3</td>\n",
       "      <td>0</td>\n",
       "      <td>3</td>\n",
       "      <td>0</td>\n",
       "      <td>0</td>\n",
       "      <td>3</td>\n",
       "      <td>3</td>\n",
       "      <td>0</td>\n",
       "      <td>0</td>\n",
       "      <td>3</td>\n",
       "      <td>0</td>\n",
       "      <td>0</td>\n",
       "      <td>0</td>\n",
       "      <td>0</td>\n",
       "      <td>3</td>\n",
       "      <td>0</td>\n",
       "      <td>3</td>\n",
       "      <td>3</td>\n",
       "      <td>0</td>\n",
       "      <td>0</td>\n",
       "      <td>2</td>\n",
       "      <td>0</td>\n",
       "      <td>0</td>\n",
       "      <td>3</td>\n",
       "      <td>3</td>\n",
       "      <td>3</td>\n",
       "      <td>3</td>\n",
       "      <td>0</td>\n",
       "      <td>0</td>\n",
       "      <td>3</td>\n",
       "      <td>0</td>\n",
       "      <td>3</td>\n",
       "      <td>1</td>\n",
       "      <td>0</td>\n",
       "      <td>0</td>\n",
       "      <td>2</td>\n",
       "      <td>1</td>\n",
       "      <td>1</td>\n",
       "      <td>0</td>\n",
       "      <td>0</td>\n",
       "      <td>0</td>\n",
       "      <td>2</td>\n",
       "      <td>0</td>\n",
       "      <td>3</td>\n",
       "      <td>2</td>\n",
       "      <td>0</td>\n",
       "      <td>0</td>\n",
       "      <td>0</td>\n",
       "      <td>0</td>\n",
       "      <td>0</td>\n",
       "      <td>3</td>\n",
       "      <td>1</td>\n",
       "      <td>0</td>\n",
       "      <td>3</td>\n",
       "      <td>3</td>\n",
       "      <td>3</td>\n",
       "      <td>0</td>\n",
       "      <td>2</td>\n",
       "      <td>2</td>\n",
       "      <td>0</td>\n",
       "      <td>3</td>\n",
       "      <td>0</td>\n",
       "      <td>0</td>\n",
       "      <td>0</td>\n",
       "      <td>0</td>\n",
       "      <td>3</td>\n",
       "      <td>1</td>\n",
       "      <td>0</td>\n",
       "      <td>3</td>\n",
       "      <td>0</td>\n",
       "      <td>0</td>\n",
       "      <td>0</td>\n",
       "      <td>0</td>\n",
       "      <td>3</td>\n",
       "      <td>0</td>\n",
       "      <td>3</td>\n",
       "      <td>0</td>\n",
       "      <td>3</td>\n",
       "      <td>0</td>\n",
       "      <td>0</td>\n",
       "      <td>0</td>\n",
       "      <td>0</td>\n",
       "      <td>3</td>\n",
       "      <td>1</td>\n",
       "      <td>2</td>\n",
       "      <td>0</td>\n",
       "      <td>2</td>\n",
       "      <td>3</td>\n",
       "      <td>0</td>\n",
       "      <td>0</td>\n",
       "      <td>0</td>\n",
       "      <td>3</td>\n",
       "      <td>3</td>\n",
       "      <td>0</td>\n",
       "      <td>0</td>\n",
       "      <td>3</td>\n",
       "      <td>3</td>\n",
       "      <td>1</td>\n",
       "      <td>3</td>\n",
       "      <td>3</td>\n",
       "      <td>3</td>\n",
       "      <td>3</td>\n",
       "      <td>0</td>\n",
       "      <td>3</td>\n",
       "      <td>3</td>\n",
       "      <td>0</td>\n",
       "      <td>3</td>\n",
       "      <td>0</td>\n",
       "      <td>0</td>\n",
       "      <td>3</td>\n",
       "      <td>3</td>\n",
       "      <td>0</td>\n",
       "      <td>3</td>\n",
       "      <td>0</td>\n",
       "      <td>0</td>\n",
       "      <td>3</td>\n",
       "      <td>0</td>\n",
       "      <td>2</td>\n",
       "      <td>3</td>\n",
       "      <td>0</td>\n",
       "      <td>0</td>\n",
       "      <td>0</td>\n",
       "      <td>0</td>\n",
       "      <td>3</td>\n",
       "      <td>1</td>\n",
       "      <td>0</td>\n",
       "      <td>0</td>\n",
       "      <td>1</td>\n",
       "      <td>3</td>\n",
       "      <td>2</td>\n",
       "      <td>3</td>\n",
       "      <td>2</td>\n",
       "      <td>3</td>\n",
       "      <td>3</td>\n",
       "      <td>3</td>\n",
       "      <td>3</td>\n",
       "      <td>0</td>\n",
       "      <td>0</td>\n",
       "      <td>3</td>\n",
       "      <td>3</td>\n",
       "      <td>3</td>\n",
       "      <td>3</td>\n",
       "      <td>3</td>\n",
       "      <td>0</td>\n",
       "      <td>3</td>\n",
       "      <td>2</td>\n",
       "      <td>0</td>\n",
       "      <td>0</td>\n",
       "      <td>3</td>\n",
       "      <td>3</td>\n",
       "      <td>0</td>\n",
       "      <td>0</td>\n",
       "      <td>0</td>\n",
       "      <td>0</td>\n",
       "      <td>0</td>\n",
       "      <td>3</td>\n",
       "      <td>3</td>\n",
       "      <td>3</td>\n",
       "      <td>0</td>\n",
       "      <td>3</td>\n",
       "      <td>2</td>\n",
       "      <td>0</td>\n",
       "      <td>3</td>\n",
       "      <td>0</td>\n",
       "      <td>0</td>\n",
       "      <td>0</td>\n",
       "      <td>3</td>\n",
       "      <td>0</td>\n",
       "      <td>3</td>\n",
       "      <td>0</td>\n",
       "      <td>0</td>\n",
       "      <td>2</td>\n",
       "      <td>0</td>\n",
       "      <td>0</td>\n",
       "      <td>0</td>\n",
       "      <td>0</td>\n",
       "      <td>1</td>\n",
       "    </tr>\n",
       "  </tbody>\n",
       "</table>\n",
       "</div>"
      ],
      "text/plain": [
       "            168   708   451   754   777   90    189   458   387   574   218   \\\n",
       "Prediction     0     3     0     0     3     3     0     0     3     3     3   \n",
       "True           2     0     0     0     0     3     0     3     3     3     2   \n",
       "\n",
       "            819   242   15    13    100   208   194   112   413   605   322   \\\n",
       "Prediction     0     0     0     3     0     3     0     3     3     3     3   \n",
       "True           0     0     0     3     0     0     3     2     3     3     3   \n",
       "\n",
       "            921   104   594   180   626   0     532   162   19    483   254   \\\n",
       "Prediction     3     0     0     3     3     2     0     2     0     0     2   \n",
       "True           0     0     0     0     0     2     0     0     3     0     2   \n",
       "\n",
       "            757   140   606   602   644   473   909   1004  497   971   780   \\\n",
       "Prediction     3     3     3     0     0     0     3     0     3     0     3   \n",
       "True           0     0     3     0     3     0     3     0     0     0     0   \n",
       "\n",
       "            192   871   296   499   143   288   362   826   164   997   553   \\\n",
       "Prediction     3     0     0     0     0     3     3     3     0     0     3   \n",
       "True           3     0     0     0     1     0     2     0     0     2     3   \n",
       "\n",
       "            421   841   435   811   457   258   427   91    251   356   931   \\\n",
       "Prediction     0     0     0     0     3     0     3     0     3     0     2   \n",
       "True           0     3     0     1     3     0     0     3     3     3     2   \n",
       "\n",
       "            807   961   21    941   430   697   794   341   59    117   239   \\\n",
       "Prediction     3     0     0     3     3     3     2     0     0     0     0   \n",
       "True           2     3     0     3     3     3     2     0     0     0     0   \n",
       "\n",
       "            521   358   193   113   490   471   556   563   679   910   97    \\\n",
       "Prediction     0     3     3     2     0     3     2     0     3     3     3   \n",
       "True           0     3     3     2     3     0     2     0     3     3     3   \n",
       "\n",
       "            102   448   157   213   235   873   184   967   80    216   984   \\\n",
       "Prediction     0     3     2     3     3     0     3     0     3     3     3   \n",
       "True           3     3     2     0     3     0     0     0     1     3     0   \n",
       "\n",
       "            236   542   846   661   94    407   412   376   887   488   793   \\\n",
       "Prediction     0     3     3     3     0     3     3     0     3     0     0   \n",
       "True           0     3     0     0     0     0     2     0     2     0     0   \n",
       "\n",
       "            611   982   121   551   166   191   560   575   782   668   315   \\\n",
       "Prediction     0     0     0     0     0     0     3     0     0     0     3   \n",
       "True           3     0     0     1     3     3     1     0     3     3     3   \n",
       "\n",
       "            6     219   735   689   614   134   959   742   514   248   710   \\\n",
       "Prediction     3     0     0     0     3     0     3     0     0     0     3   \n",
       "True           3     3     3     0     3     0     3     0     0     3     3   \n",
       "\n",
       "            633   933   481   916   667   700   144   320   392   608   788   \\\n",
       "Prediction     0     0     3     0     0     3     3     3     3     2     3   \n",
       "True           0     0     3     0     0     0     0     3     0     3     3   \n",
       "\n",
       "            683   374   475   229   655   347   695   444   911   857   899   \\\n",
       "Prediction     3     0     3     0     0     3     3     3     3     0     0   \n",
       "True           0     0     2     0     0     3     3     3     3     0     0   \n",
       "\n",
       "            649   884   781   972   533   724   565   897   510   974   42    \\\n",
       "Prediction     3     3     3     0     3     0     0     3     0     0     0   \n",
       "True           3     0     3     1     0     0     2     1     1     0     0   \n",
       "\n",
       "            321   762   935   185   64    276   628   987   993   828   647   \\\n",
       "Prediction     0     3     2     3     3     3     3     3     0     0     0   \n",
       "True           0     2     0     3     2     0     0     0     0     0     3   \n",
       "\n",
       "            283   328   805   329   187   773   973   95    741   779   631   \\\n",
       "Prediction     3     0     0     3     3     3     0     2     0     0     0   \n",
       "True           1     0     3     3     3     0     2     2     0     3     0   \n",
       "\n",
       "            115   270   960   294   656   616   364   35    577   648   681   \\\n",
       "Prediction     3     0     0     3     0     0     3     3     0     0     0   \n",
       "True           0     0     0     3     1     0     3     0     0     0     0   \n",
       "\n",
       "            360   419   72    440   478   334   836   151   17    523   728   \\\n",
       "Prediction     3     0     3     0     3     3     0     0     1     3     0   \n",
       "True           3     0     3     0     3     0     0     0     0     3     1   \n",
       "\n",
       "            460   671   297   613   670   57    650   727   308   635   672   \\\n",
       "Prediction     3     0     2     3     0     0     3     0     3     0     0   \n",
       "True           2     0     2     3     0     0     0     3     3     0     0   \n",
       "\n",
       "            716   791   22    1001  892   927   544   45    761   953   678   \\\n",
       "Prediction     0     0     0     3     3     0     0     3     3     3     0   \n",
       "True           3     3     1     3     3     3     3     0     3     3     0   \n",
       "\n",
       "            692   699   711   175   950   731   443   247   702   856   548   \\\n",
       "Prediction     0     3     0     3     3     3     3     0     3     0     0   \n",
       "True           3     0     0     3     3     0     3     0     0     3     0   \n",
       "\n",
       "            415   920   954   862   747   323   998   146   231   621   255   \\\n",
       "Prediction     2     3     0     3     0     3     2     3     0     0     3   \n",
       "True           2     3     0     0     0     0     3     1     0     0     1   \n",
       "\n",
       "            569   531   77    528   18    970   343   167   150   74    590   \\\n",
       "Prediction     3     0     0     2     0     3     0     0     0     3     3   \n",
       "True           3     2     3     2     3     3     3     3     0     0     3   \n",
       "\n",
       "            977   706   835   876   763   232   243   737   641   177   119   \\\n",
       "Prediction     3     3     0     3     3     3     0     0     3     2     3   \n",
       "True           3     3     3     3     0     3     2     0     0     3     3   \n",
       "\n",
       "            331   359   44    746   583   785   303   262   67    850   745   \\\n",
       "Prediction     0     0     0     3     0     3     0     0     0     0     2   \n",
       "True           0     0     0     0     0     3     3     3     0     3     2   \n",
       "\n",
       "            250   944   582   914   378   937   915   406   217   253   401   \\\n",
       "Prediction     0     3     0     0     0     3     3     3     0     0     2   \n",
       "True           0     3     0     0     0     3     0     3     0     0     2   \n",
       "\n",
       "            203   617   206   371   567   \n",
       "Prediction     0     3     0     3     3  \n",
       "True           0     0     0     0     1  "
      ]
     },
     "execution_count": 186,
     "metadata": {},
     "output_type": "execute_result"
    }
   ],
   "source": [
    "clf = OneVsRestClassifier(LogisticRegression(C=1, solver='liblinear',multi_class='ovr'))\n",
    "clf.fit(Xidf_train_r, yidf_train_r)\n",
    "pred_lr = clf.predict(Xidf_test_r)\n",
    "test_acc = accuracy_score(yidf_test_r, pred_lr)\n",
    "pd.set_option('display.max_columns',None)\n",
    "pd.DataFrame([pred_lr,yidf_test_r],index=['Prediction','True'],columns=yidf_test_r.index)"
   ]
  },
  {
   "cell_type": "code",
   "execution_count": 195,
   "metadata": {},
   "outputs": [
    {
     "data": {
      "text/plain": [
       "496"
      ]
     },
     "execution_count": 195,
     "metadata": {},
     "output_type": "execute_result"
    }
   ],
   "source": [
    "#personal reasons\n",
    "len(df_reason[df_reason['negative_reason']==0])"
   ]
  },
  {
   "cell_type": "code",
   "execution_count": 196,
   "metadata": {},
   "outputs": [
    {
     "data": {
      "text/plain": [
       "51"
      ]
     },
     "execution_count": 196,
     "metadata": {},
     "output_type": "execute_result"
    }
   ],
   "source": [
    "#economic reasons\n",
    "len(df_reason[df_reason['negative_reason']==1])"
   ]
  },
  {
   "cell_type": "code",
   "execution_count": 197,
   "metadata": {},
   "outputs": [
    {
     "data": {
      "text/plain": [
       "95"
      ]
     },
     "execution_count": 197,
     "metadata": {},
     "output_type": "execute_result"
    }
   ],
   "source": [
    "len(df_reason[df_reason['negative_reason']==2])"
   ]
  },
  {
   "cell_type": "code",
   "execution_count": 198,
   "metadata": {},
   "outputs": [
    {
     "data": {
      "text/plain": [
       "364"
      ]
     },
     "execution_count": 198,
     "metadata": {},
     "output_type": "execute_result"
    }
   ],
   "source": [
    "len(df_reason[df_reason['negative_reason']==3])"
   ]
  },
  {
   "cell_type": "code",
   "execution_count": 202,
   "metadata": {},
   "outputs": [
    {
     "data": {
      "text/plain": [
       "0.8548707753479126"
      ]
     },
     "execution_count": 202,
     "metadata": {},
     "output_type": "execute_result"
    }
   ],
   "source": [
    "(496+364)/(496+364+51+95)"
   ]
  },
  {
   "cell_type": "code",
   "execution_count": null,
   "metadata": {},
   "outputs": [],
   "source": []
  }
 ],
 "metadata": {
  "kernelspec": {
   "display_name": "Python 3",
   "language": "python",
   "name": "python3"
  },
  "language_info": {
   "codemirror_mode": {
    "name": "ipython",
    "version": 3
   },
   "file_extension": ".py",
   "mimetype": "text/x-python",
   "name": "python",
   "nbconvert_exporter": "python",
   "pygments_lexer": "ipython3",
   "version": "3.8.8"
  }
 },
 "nbformat": 4,
 "nbformat_minor": 4
}
