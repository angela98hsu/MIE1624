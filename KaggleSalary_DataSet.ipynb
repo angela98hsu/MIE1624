{
 "cells": [
  {
   "cell_type": "markdown",
   "metadata": {
    "colab_type": "text",
    "id": "CuG6XJ7KtT45"
   },
   "source": [
    "## Creating DataSet"
   ]
  },
  {
   "cell_type": "markdown",
   "metadata": {
    "colab_type": "text",
    "id": "7rBUkMvLjBtK"
   },
   "source": [
    "### Reading Input Data"
   ]
  },
  {
   "cell_type": "code",
   "execution_count": 1,
   "metadata": {
    "colab": {
     "base_uri": "https://localhost:8080/",
     "height": 678
    },
    "colab_type": "code",
    "id": "2piyHFvrtT48",
    "outputId": "8b393f24-2e81-47cf-d5fe-3ede4e325111"
   },
   "outputs": [
    {
     "data": {
      "text/html": [
       "<div>\n",
       "<style scoped>\n",
       "    .dataframe tbody tr th:only-of-type {\n",
       "        vertical-align: middle;\n",
       "    }\n",
       "\n",
       "    .dataframe tbody tr th {\n",
       "        vertical-align: top;\n",
       "    }\n",
       "\n",
       "    .dataframe thead th {\n",
       "        text-align: right;\n",
       "    }\n",
       "</style>\n",
       "<table border=\"1\" class=\"dataframe\">\n",
       "  <thead>\n",
       "    <tr style=\"text-align: right;\">\n",
       "      <th></th>\n",
       "      <th>Time from Start to Finish (seconds)</th>\n",
       "      <th>Q1</th>\n",
       "      <th>Q2</th>\n",
       "      <th>Q3</th>\n",
       "      <th>Q4</th>\n",
       "      <th>Q5</th>\n",
       "      <th>Q6</th>\n",
       "      <th>Q7_Part_1</th>\n",
       "      <th>Q7_Part_2</th>\n",
       "      <th>Q7_Part_3</th>\n",
       "      <th>...</th>\n",
       "      <th>Q35_B_Part_2</th>\n",
       "      <th>Q35_B_Part_3</th>\n",
       "      <th>Q35_B_Part_4</th>\n",
       "      <th>Q35_B_Part_5</th>\n",
       "      <th>Q35_B_Part_6</th>\n",
       "      <th>Q35_B_Part_7</th>\n",
       "      <th>Q35_B_Part_8</th>\n",
       "      <th>Q35_B_Part_9</th>\n",
       "      <th>Q35_B_Part_10</th>\n",
       "      <th>Q35_B_OTHER</th>\n",
       "    </tr>\n",
       "  </thead>\n",
       "  <tbody>\n",
       "    <tr>\n",
       "      <th>0</th>\n",
       "      <td>Duration (in seconds)</td>\n",
       "      <td>What is your age (# years)?</td>\n",
       "      <td>What is your gender? - Selected Choice</td>\n",
       "      <td>In which country do you currently reside?</td>\n",
       "      <td>What is the highest level of formal education ...</td>\n",
       "      <td>Select the title most similar to your current ...</td>\n",
       "      <td>For how many years have you been writing code ...</td>\n",
       "      <td>What programming languages do you use on a reg...</td>\n",
       "      <td>What programming languages do you use on a reg...</td>\n",
       "      <td>What programming languages do you use on a reg...</td>\n",
       "      <td>...</td>\n",
       "      <td>In the next 2 years, do you hope to become mor...</td>\n",
       "      <td>In the next 2 years, do you hope to become mor...</td>\n",
       "      <td>In the next 2 years, do you hope to become mor...</td>\n",
       "      <td>In the next 2 years, do you hope to become mor...</td>\n",
       "      <td>In the next 2 years, do you hope to become mor...</td>\n",
       "      <td>In the next 2 years, do you hope to become mor...</td>\n",
       "      <td>In the next 2 years, do you hope to become mor...</td>\n",
       "      <td>In the next 2 years, do you hope to become mor...</td>\n",
       "      <td>In the next 2 years, do you hope to become mor...</td>\n",
       "      <td>In the next 2 years, do you hope to become mor...</td>\n",
       "    </tr>\n",
       "    <tr>\n",
       "      <th>1</th>\n",
       "      <td>1838</td>\n",
       "      <td>35-39</td>\n",
       "      <td>Man</td>\n",
       "      <td>Colombia</td>\n",
       "      <td>Doctoral degree</td>\n",
       "      <td>Student</td>\n",
       "      <td>5-10 years</td>\n",
       "      <td>Python</td>\n",
       "      <td>R</td>\n",
       "      <td>SQL</td>\n",
       "      <td>...</td>\n",
       "      <td>NaN</td>\n",
       "      <td>NaN</td>\n",
       "      <td>NaN</td>\n",
       "      <td>TensorBoard</td>\n",
       "      <td>NaN</td>\n",
       "      <td>NaN</td>\n",
       "      <td>NaN</td>\n",
       "      <td>NaN</td>\n",
       "      <td>NaN</td>\n",
       "      <td>NaN</td>\n",
       "    </tr>\n",
       "    <tr>\n",
       "      <th>2</th>\n",
       "      <td>289287</td>\n",
       "      <td>30-34</td>\n",
       "      <td>Man</td>\n",
       "      <td>United States of America</td>\n",
       "      <td>Master’s degree</td>\n",
       "      <td>Data Engineer</td>\n",
       "      <td>5-10 years</td>\n",
       "      <td>Python</td>\n",
       "      <td>R</td>\n",
       "      <td>SQL</td>\n",
       "      <td>...</td>\n",
       "      <td>NaN</td>\n",
       "      <td>NaN</td>\n",
       "      <td>NaN</td>\n",
       "      <td>NaN</td>\n",
       "      <td>NaN</td>\n",
       "      <td>NaN</td>\n",
       "      <td>NaN</td>\n",
       "      <td>NaN</td>\n",
       "      <td>NaN</td>\n",
       "      <td>NaN</td>\n",
       "    </tr>\n",
       "    <tr>\n",
       "      <th>3</th>\n",
       "      <td>860</td>\n",
       "      <td>35-39</td>\n",
       "      <td>Man</td>\n",
       "      <td>Argentina</td>\n",
       "      <td>Bachelor’s degree</td>\n",
       "      <td>Software Engineer</td>\n",
       "      <td>10-20 years</td>\n",
       "      <td>NaN</td>\n",
       "      <td>NaN</td>\n",
       "      <td>NaN</td>\n",
       "      <td>...</td>\n",
       "      <td>NaN</td>\n",
       "      <td>NaN</td>\n",
       "      <td>NaN</td>\n",
       "      <td>NaN</td>\n",
       "      <td>NaN</td>\n",
       "      <td>NaN</td>\n",
       "      <td>NaN</td>\n",
       "      <td>NaN</td>\n",
       "      <td>None</td>\n",
       "      <td>NaN</td>\n",
       "    </tr>\n",
       "    <tr>\n",
       "      <th>4</th>\n",
       "      <td>507</td>\n",
       "      <td>30-34</td>\n",
       "      <td>Man</td>\n",
       "      <td>United States of America</td>\n",
       "      <td>Master’s degree</td>\n",
       "      <td>Data Scientist</td>\n",
       "      <td>5-10 years</td>\n",
       "      <td>Python</td>\n",
       "      <td>NaN</td>\n",
       "      <td>SQL</td>\n",
       "      <td>...</td>\n",
       "      <td>NaN</td>\n",
       "      <td>NaN</td>\n",
       "      <td>NaN</td>\n",
       "      <td>NaN</td>\n",
       "      <td>NaN</td>\n",
       "      <td>NaN</td>\n",
       "      <td>NaN</td>\n",
       "      <td>NaN</td>\n",
       "      <td>NaN</td>\n",
       "      <td>NaN</td>\n",
       "    </tr>\n",
       "  </tbody>\n",
       "</table>\n",
       "<p>5 rows × 355 columns</p>\n",
       "</div>"
      ],
      "text/plain": [
       "  Time from Start to Finish (seconds)                           Q1  \\\n",
       "0               Duration (in seconds)  What is your age (# years)?   \n",
       "1                                1838                        35-39   \n",
       "2                              289287                        30-34   \n",
       "3                                 860                        35-39   \n",
       "4                                 507                        30-34   \n",
       "\n",
       "                                       Q2  \\\n",
       "0  What is your gender? - Selected Choice   \n",
       "1                                     Man   \n",
       "2                                     Man   \n",
       "3                                     Man   \n",
       "4                                     Man   \n",
       "\n",
       "                                          Q3  \\\n",
       "0  In which country do you currently reside?   \n",
       "1                                   Colombia   \n",
       "2                   United States of America   \n",
       "3                                  Argentina   \n",
       "4                   United States of America   \n",
       "\n",
       "                                                  Q4  \\\n",
       "0  What is the highest level of formal education ...   \n",
       "1                                    Doctoral degree   \n",
       "2                                    Master’s degree   \n",
       "3                                  Bachelor’s degree   \n",
       "4                                    Master’s degree   \n",
       "\n",
       "                                                  Q5  \\\n",
       "0  Select the title most similar to your current ...   \n",
       "1                                            Student   \n",
       "2                                      Data Engineer   \n",
       "3                                  Software Engineer   \n",
       "4                                     Data Scientist   \n",
       "\n",
       "                                                  Q6  \\\n",
       "0  For how many years have you been writing code ...   \n",
       "1                                         5-10 years   \n",
       "2                                         5-10 years   \n",
       "3                                        10-20 years   \n",
       "4                                         5-10 years   \n",
       "\n",
       "                                           Q7_Part_1  \\\n",
       "0  What programming languages do you use on a reg...   \n",
       "1                                             Python   \n",
       "2                                             Python   \n",
       "3                                                NaN   \n",
       "4                                             Python   \n",
       "\n",
       "                                           Q7_Part_2  \\\n",
       "0  What programming languages do you use on a reg...   \n",
       "1                                                  R   \n",
       "2                                                  R   \n",
       "3                                                NaN   \n",
       "4                                                NaN   \n",
       "\n",
       "                                           Q7_Part_3  ...  \\\n",
       "0  What programming languages do you use on a reg...  ...   \n",
       "1                                                SQL  ...   \n",
       "2                                                SQL  ...   \n",
       "3                                                NaN  ...   \n",
       "4                                                SQL  ...   \n",
       "\n",
       "                                        Q35_B_Part_2  \\\n",
       "0  In the next 2 years, do you hope to become mor...   \n",
       "1                                                NaN   \n",
       "2                                                NaN   \n",
       "3                                                NaN   \n",
       "4                                                NaN   \n",
       "\n",
       "                                        Q35_B_Part_3  \\\n",
       "0  In the next 2 years, do you hope to become mor...   \n",
       "1                                                NaN   \n",
       "2                                                NaN   \n",
       "3                                                NaN   \n",
       "4                                                NaN   \n",
       "\n",
       "                                        Q35_B_Part_4  \\\n",
       "0  In the next 2 years, do you hope to become mor...   \n",
       "1                                                NaN   \n",
       "2                                                NaN   \n",
       "3                                                NaN   \n",
       "4                                                NaN   \n",
       "\n",
       "                                        Q35_B_Part_5  \\\n",
       "0  In the next 2 years, do you hope to become mor...   \n",
       "1                                       TensorBoard    \n",
       "2                                                NaN   \n",
       "3                                                NaN   \n",
       "4                                                NaN   \n",
       "\n",
       "                                        Q35_B_Part_6  \\\n",
       "0  In the next 2 years, do you hope to become mor...   \n",
       "1                                                NaN   \n",
       "2                                                NaN   \n",
       "3                                                NaN   \n",
       "4                                                NaN   \n",
       "\n",
       "                                        Q35_B_Part_7  \\\n",
       "0  In the next 2 years, do you hope to become mor...   \n",
       "1                                                NaN   \n",
       "2                                                NaN   \n",
       "3                                                NaN   \n",
       "4                                                NaN   \n",
       "\n",
       "                                        Q35_B_Part_8  \\\n",
       "0  In the next 2 years, do you hope to become mor...   \n",
       "1                                                NaN   \n",
       "2                                                NaN   \n",
       "3                                                NaN   \n",
       "4                                                NaN   \n",
       "\n",
       "                                        Q35_B_Part_9  \\\n",
       "0  In the next 2 years, do you hope to become mor...   \n",
       "1                                                NaN   \n",
       "2                                                NaN   \n",
       "3                                                NaN   \n",
       "4                                                NaN   \n",
       "\n",
       "                                       Q35_B_Part_10  \\\n",
       "0  In the next 2 years, do you hope to become mor...   \n",
       "1                                                NaN   \n",
       "2                                                NaN   \n",
       "3                                               None   \n",
       "4                                                NaN   \n",
       "\n",
       "                                         Q35_B_OTHER  \n",
       "0  In the next 2 years, do you hope to become mor...  \n",
       "1                                                NaN  \n",
       "2                                                NaN  \n",
       "3                                                NaN  \n",
       "4                                                NaN  \n",
       "\n",
       "[5 rows x 355 columns]"
      ]
     },
     "execution_count": 1,
     "metadata": {},
     "output_type": "execute_result"
    }
   ],
   "source": [
    "import pandas as pd\n",
    "Salaries = pd.read_csv(\"kaggle_survey_2020_responses.csv\", low_memory = False)\n",
    "Salaries.head()"
   ]
  },
  {
   "cell_type": "markdown",
   "metadata": {
    "colab_type": "text",
    "id": "5nds2VfJtT51"
   },
   "source": [
    "### Dropping rows with the missing target variable (Q24)"
   ]
  },
  {
   "cell_type": "code",
   "execution_count": 2,
   "metadata": {
    "colab": {},
    "colab_type": "code",
    "id": "vYwHep_8tT53"
   },
   "outputs": [],
   "source": [
    "Salaries.dropna(subset=['Q24'],inplace=True) "
   ]
  },
  {
   "cell_type": "code",
   "execution_count": 3,
   "metadata": {
    "colab": {
     "base_uri": "https://localhost:8080/",
     "height": 153
    },
    "colab_type": "code",
    "id": "ePsHEbmCtT6I",
    "outputId": "cba63111-d6eb-4906-8b91-a6de639874cc"
   },
   "outputs": [
    {
     "data": {
      "text/plain": [
       "array(['What is your current yearly compensation (approximate $USD)?',\n",
       "       '100,000-124,999', '15,000-19,999', '125,000-149,999',\n",
       "       '70,000-79,999', '30,000-39,999', '90,000-99,999', '1,000-1,999',\n",
       "       '$0-999', '10,000-14,999', '150,000-199,999', '60,000-69,999',\n",
       "       '4,000-4,999', '> $500,000', '300,000-500,000', '40,000-49,999',\n",
       "       '25,000-29,999', '80,000-89,999', '7,500-9,999', '50,000-59,999',\n",
       "       '250,000-299,999', '5,000-7,499', '2,000-2,999', '20,000-24,999',\n",
       "       '200,000-249,999', '3,000-3,999'], dtype=object)"
      ]
     },
     "execution_count": 3,
     "metadata": {},
     "output_type": "execute_result"
    }
   ],
   "source": [
    "Salaries.Q24.unique() "
   ]
  },
  {
   "cell_type": "markdown",
   "metadata": {
    "colab_type": "text",
    "id": "Gxl9mxhHtT6j"
   },
   "source": [
    "### Combining the salary buckets and label encoding them"
   ]
  },
  {
   "cell_type": "code",
   "execution_count": 4,
   "metadata": {
    "colab": {},
    "colab_type": "code",
    "id": "Sw45qTZca5Qz"
   },
   "outputs": [],
   "source": [
    "salary_buckets = {   '$0-999': '0-9,999',\n",
    "    '1,000-1,999': '0-9,999',\n",
    "    '2,000-2,999': '0-9,999', \n",
    "    '3,000-3,999': '0-9,999',\n",
    "    '4,000-4,999': '0-9,999',\n",
    "    '5,000-7,499': '0-9,999', \n",
    "    '7,500-9,999': '0-9,999',\n",
    "    '10,000-14,999': '10,000-19,999',\n",
    "    '15,000-19,999': '10,000-19,999', \n",
    "    '20,000-24,999': '20,000-29,999',\n",
    "    '25,000-29,999': '20,000-29,999',\n",
    "    '30,000-39,999': '30,000-39,999', \n",
    "    '40,000-49,999': '40,000-49,999', \n",
    "    '50,000-59,999': '50,000-59,999',\n",
    "    '60,000-69,999': '60,000-69,999',\n",
    "    '70,000-79,999': '70,000-79,999', \n",
    "    '80,000-89,999': '80,000-89,999', \n",
    "    '90,000-99,999': '90,000-99,999',\n",
    "    '100,000-124,999':'100,000-124,999',\n",
    "    '125,000-149,999':'125,000-149,9991',\n",
    "    '150,000-199,999':'150,000-199,999',\n",
    "    '200,000-249,999':'200,000-249,999',\n",
    "    '250,000-299,999':'>250,000',\n",
    "    '300,000-500,000':'>250,000',\n",
    "    '> $500,000':'>250,000'}"
   ]
  },
  {
   "cell_type": "code",
   "execution_count": 5,
   "metadata": {
    "colab": {},
    "colab_type": "code",
    "id": "z9Ah5ibIauPV"
   },
   "outputs": [],
   "source": [
    "salary_encode = {   '$0-999': 0,\n",
    "    '1,000-1,999': 0,\n",
    "    '2,000-2,999': 0, \n",
    "    '3,000-3,999': 0,\n",
    "    '4,000-4,999': 0,\n",
    "    '5,000-7,499': 0, \n",
    "    '7,500-9,999': 0,\n",
    "    '10,000-14,999': 1,\n",
    "    '15,000-19,999': 1, \n",
    "    '20,000-24,999': 2,\n",
    "    '25,000-29,999': 2,\n",
    "    '30,000-39,999': 3, \n",
    "    '40,000-49,999': 4, \n",
    "    '50,000-59,999': 5,\n",
    "    '60,000-69,999': 6,\n",
    "    '70,000-79,999': 7, \n",
    "    '80,000-89,999': 8, \n",
    "    '90,000-99,999': 9,\n",
    "    '100,000-124,999':10,\n",
    "    '125,000-149,999':11,\n",
    "    '150,000-199,999':12,\n",
    "    '200,000-249,999':13,\n",
    "    '250,000-299,999':14,\n",
    "    '300,000-500,000':14,\n",
    "    '> $500,000':14}"
   ]
  },
  {
   "cell_type": "code",
   "execution_count": 6,
   "metadata": {
    "colab": {
     "base_uri": "https://localhost:8080/",
     "height": 51
    },
    "colab_type": "code",
    "id": "TfNphdWtd_3i",
    "outputId": "2b29167f-b062-4717-d7ff-880f05775fe7"
   },
   "outputs": [
    {
     "data": {
      "text/plain": [
       "array([nan, 10.,  1., 11.,  7.,  3.,  9.,  0., 12.,  6., 14.,  4.,  2.,\n",
       "        8.,  5., 13.])"
      ]
     },
     "execution_count": 6,
     "metadata": {},
     "output_type": "execute_result"
    }
   ],
   "source": [
    "#Label Encoding the target variable\n",
    "Salaries.loc[1:,'Q24_Encoded'] = Salaries.loc[1:,'Q24'].map(salary_encode)\n",
    "Salaries.loc[1:,'Q24_Encoded']=Salaries.loc[1:,'Q24_Encoded'].astype(int)\n",
    "Salaries.Q24_Encoded.unique()"
   ]
  },
  {
   "cell_type": "code",
   "execution_count": 7,
   "metadata": {
    "colab": {
     "base_uri": "https://localhost:8080/",
     "height": 102
    },
    "colab_type": "code",
    "id": "lQeqkf8stT60",
    "outputId": "c60b7e84-38d6-45d2-ad3b-c670444a52ad"
   },
   "outputs": [
    {
     "data": {
      "text/plain": [
       "array([nan, '100,000-124,999', '10,000-19,999', '125,000-149,9991',\n",
       "       '70,000-79,999', '30,000-39,999', '90,000-99,999', '0-9,999',\n",
       "       '150,000-199,999', '60,000-69,999', '>250,000', '40,000-49,999',\n",
       "       '20,000-29,999', '80,000-89,999', '50,000-59,999',\n",
       "       '200,000-249,999'], dtype=object)"
      ]
     },
     "execution_count": 7,
     "metadata": {},
     "output_type": "execute_result"
    }
   ],
   "source": [
    "#Combining the salary buckets\n",
    "Salaries.loc[1:,'Q24_buckets'] = Salaries.loc[1:,'Q24'].map(salary_buckets)\n",
    "Salaries.Q24_buckets.unique()"
   ]
  },
  {
   "cell_type": "code",
   "execution_count": 8,
   "metadata": {
    "colab": {
     "base_uri": "https://localhost:8080/",
     "height": 746
    },
    "colab_type": "code",
    "id": "Sq8U8rkxe7Oo",
    "outputId": "c66e8ced-cf30-4881-8ae0-160f704d8708"
   },
   "outputs": [
    {
     "data": {
      "text/plain": [
       "(10730, 357)"
      ]
     },
     "execution_count": 8,
     "metadata": {},
     "output_type": "execute_result"
    }
   ],
   "source": [
    "Salaries.shape"
   ]
  },
  {
   "cell_type": "code",
   "execution_count": 9,
   "metadata": {
    "colab": {},
    "colab_type": "code",
    "id": "NV8yaUgOtT7P"
   },
   "outputs": [],
   "source": [
    "Salaries.to_csv(\"clean_kaggle_data_2020.csv\", index=False)"
   ]
  }
 ],
 "metadata": {
  "colab": {
   "name": "KaggleSalary-DataSet.ipynb",
   "provenance": [],
   "toc_visible": true
  },
  "kernelspec": {
   "display_name": "Python 3",
   "language": "python",
   "name": "python3"
  },
  "language_info": {
   "codemirror_mode": {
    "name": "ipython",
    "version": 3
   },
   "file_extension": ".py",
   "mimetype": "text/x-python",
   "name": "python",
   "nbconvert_exporter": "python",
   "pygments_lexer": "ipython3",
   "version": "3.8.3"
  }
 },
 "nbformat": 4,
 "nbformat_minor": 4
}
