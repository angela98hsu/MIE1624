{
 "cells": [
  {
   "cell_type": "markdown",
   "metadata": {
    "colab_type": "text",
    "id": "119mjGFhuVPX"
   },
   "source": [
    "# Queries from database using SQLite3 in python"
   ]
  },
  {
   "cell_type": "code",
   "execution_count": 1,
   "metadata": {
    "colab": {},
    "colab_type": "code",
    "id": "vi6eJ8DCtsYQ"
   },
   "outputs": [],
   "source": [
    "import sqlite3"
   ]
  },
  {
   "cell_type": "markdown",
   "metadata": {
    "colab_type": "text",
    "id": "Ux4bP7G_uoey"
   },
   "source": [
    "## Opening the existing database and creating new table"
   ]
  },
  {
   "cell_type": "code",
   "execution_count": 2,
   "metadata": {
    "colab": {},
    "colab_type": "code",
    "id": "_rnIEwunuiof"
   },
   "outputs": [],
   "source": [
    "dbase = sqlite3.connect('data.db') # Open a database File"
   ]
  },
  {
   "cell_type": "code",
   "execution_count": 3,
   "metadata": {
    "colab": {},
    "colab_type": "code",
    "id": "ALPDS9wauj95"
   },
   "outputs": [],
   "source": [
    "dbase.execute(''' CREATE TABLE IF NOT EXISTS employee_records(\n",
    "    ID TEXT PRIMARY KEY NOT NULL,\n",
    "    NAME TEXT NOT NULL,\n",
    "    DIVISION TEXT NOT NULL,\n",
    "    STARS INT NOT NULL) ''')\n",
    "dbase.commit()\n",
    "#(Name_variable, data_type, (mention if its a Primary key), Null/Not Null)\n",
    "# NULL implies the column can contain null value"
   ]
  },
  {
   "cell_type": "code",
   "execution_count": 4,
   "metadata": {
    "colab": {},
    "colab_type": "code",
    "id": "LpiW7MG7v7Jx"
   },
   "outputs": [],
   "source": [
    "#assign values to the table\n",
    "dbase.execute(''' INSERT INTO employee_records(ID,NAME,DIVISION,STARS)\n",
    "        VALUES('65814','James','Maintenance',4)''')\n",
    "dbase.commit()"
   ]
  },
  {
   "cell_type": "code",
   "execution_count": 5,
   "metadata": {
    "colab": {},
    "colab_type": "code",
    "id": "AoUf5VdBwSEO"
   },
   "outputs": [],
   "source": [
    "#function to add multiple records quickly\n",
    "def insert_record(ID,NAME,DIVISION,STARS):\n",
    "    dbase.execute(''' INSERT INTO employee_records(ID,NAME,DIVISION,STARS)\n",
    "            VALUES(?,?,?,?)''',(ID,NAME,DIVISION,STARS))\n",
    "  \n",
    "insert_record('7894','Bob','Hardware',4)\n",
    "insert_record('2256', 'John','IT', 5)\n",
    "dbase.commit()"
   ]
  },
  {
   "cell_type": "code",
   "execution_count": 6,
   "metadata": {
    "colab": {},
    "colab_type": "code",
    "id": "eRrhKH6nz8jK"
   },
   "outputs": [],
   "source": [
    "#create a cursor\n",
    "cursor = dbase.cursor()\n",
    "\n",
    "#A database cursor is an object that enables traversal over the rows of a result set.\n",
    "#It allows you to process individual row returned by a query."
   ]
  },
  {
   "cell_type": "code",
   "execution_count": 7,
   "metadata": {
    "colab": {
     "base_uri": "https://localhost:8080/",
     "height": 697
    },
    "colab_type": "code",
    "id": "zzyd_DbpzLkE",
    "outputId": "025b3b4e-77a7-4ba1-c419-a9f0f2fc7239"
   },
   "outputs": [
    {
     "name": "stdout",
     "output_type": "stream",
     "text": [
      "ID : 6\n",
      "NAME : Bob\n",
      "DIVISION : Hardware\n",
      "STARS : 4\n",
      "\n",
      "ID : 7894\n",
      "NAME : Bob\n",
      "DIVISION : Hardware\n",
      "STARS : 4\n",
      "\n",
      "ID : 2\n",
      "NAME : Cynthia\n",
      "DIVISION : hardware\n",
      "STARS : 3\n",
      "\n",
      "ID : 3\n",
      "NAME : Harrison\n",
      "DIVISION : Mechanics\n",
      "STARS : 4\n",
      "\n",
      "ID : 5\n",
      "NAME : James\n",
      "DIVISION : Maintenance\n",
      "STARS : 4\n",
      "\n",
      "ID : 65814\n",
      "NAME : James\n",
      "DIVISION : Maintenance\n",
      "STARS : 4\n",
      "\n",
      "ID : 4\n",
      "NAME : Joan\n",
      "DIVISION : Electronics\n",
      "STARS : 3\n",
      "\n",
      "ID : 2256\n",
      "NAME : John\n",
      "DIVISION : IT\n",
      "STARS : 5\n",
      "\n"
     ]
    }
   ],
   "source": [
    "#read data in a table\n",
    "data = cursor.execute(''' SELECT * FROM employee_records ORDER BY NAME''')\n",
    "for record in data:\n",
    "        print('ID : '+str(record[0]))\n",
    "        print('NAME : '+str(record[1]))\n",
    "        print('DIVISION : '+str(record[2]))\n",
    "        print('STARS : '+str(record[3])+'\\n')\n"
   ]
  },
  {
   "cell_type": "code",
   "execution_count": 8,
   "metadata": {
    "colab": {},
    "colab_type": "code",
    "id": "E-BQiAos1BZe"
   },
   "outputs": [],
   "source": [
    "dbase.execute(''' CREATE TABLE IF NOT EXISTS client_records(\n",
    "    ID TEXT PRIMARY KEY NOT NULL,\n",
    "    NAME TEXT NOT NULL,\n",
    "    CREDIT_LIMIT INT NOT NULL,\n",
    "    ADDRESS TEXT NOT NULL) ''')\n",
    "dbase.commit()"
   ]
  },
  {
   "cell_type": "code",
   "execution_count": 9,
   "metadata": {
    "colab": {},
    "colab_type": "code",
    "id": "xy3UuzZOzm5q"
   },
   "outputs": [],
   "source": [
    "def insert_record(ID,NAME,CREDIT_LIMIT,ADDRESS):\n",
    "    dbase.execute(''' INSERT INTO client_records(ID,NAME,CREDIT_LIMIT,ADDRESS)\n",
    "            VALUES(?,?,?,?)''',(ID,NAME,CREDIT_LIMIT,ADDRESS))"
   ]
  },
  {
   "cell_type": "code",
   "execution_count": 10,
   "metadata": {
    "colab": {},
    "colab_type": "code",
    "id": "O8BIJ6_r0urW"
   },
   "outputs": [],
   "source": [
    "insert_record('7894','Sam',50000,'Toronto')\n",
    "insert_record('2256', 'Sarah',6000, 'Montreal')\n",
    "dbase.commit()"
   ]
  },
  {
   "cell_type": "markdown",
   "metadata": {
    "colab_type": "text",
    "id": "SWYentRC44w6"
   },
   "source": [
    "## Queries"
   ]
  },
  {
   "cell_type": "code",
   "execution_count": 11,
   "metadata": {
    "colab": {
     "base_uri": "https://localhost:8080/",
     "height": 34
    },
    "colab_type": "code",
    "id": "J7QuuTka2EKT",
    "outputId": "afd7a160-de19-4bf2-e013-56165401e5b6"
   },
   "outputs": [
    {
     "data": {
      "text/plain": [
       "[('7894', 'Sam', 50000, 'Toronto'), ('2256', 'Sarah', 6000, 'Montreal')]"
      ]
     },
     "execution_count": 11,
     "metadata": {},
     "output_type": "execute_result"
    }
   ],
   "source": [
    "cursor.execute(\"SELECT * FROM client_records;\")\n",
    "cursor.fetchall()"
   ]
  },
  {
   "cell_type": "code",
   "execution_count": 12,
   "metadata": {
    "colab": {
     "base_uri": "https://localhost:8080/",
     "height": 51
    },
    "colab_type": "code",
    "id": "N4abCDdM2Kxj",
    "outputId": "9bf952c0-64d0-4b05-a6d3-8c318356bf0f"
   },
   "outputs": [
    {
     "data": {
      "text/plain": [
       "[('Sam', 'Toronto', 'Hardware', '7894', 'Bob'),\n",
       " ('Sarah', 'Montreal', 'IT', '2256', 'John')]"
      ]
     },
     "execution_count": 12,
     "metadata": {},
     "output_type": "execute_result"
    }
   ],
   "source": [
    "#Execute INNER JOIN on two tables\n",
    "cursor.execute(\"\"\"SELECT cr.NAME, cr.ADDRESS, er.DIVISION, cr.ID, er.NAME\n",
    "FROM client_records as cr\n",
    "INNER JOIN employee_records as er\n",
    "ON cr.ID = er.ID\"\"\")\n",
    "cursor.fetchall()"
   ]
  },
  {
   "cell_type": "code",
   "execution_count": null,
   "metadata": {
    "colab": {},
    "colab_type": "code",
    "id": "yLNeRb-6Eu6s"
   },
   "outputs": [],
   "source": []
  },
  {
   "cell_type": "code",
   "execution_count": null,
   "metadata": {},
   "outputs": [],
   "source": []
  }
 ],
 "metadata": {
  "colab": {
   "collapsed_sections": [],
   "name": "Python_SQLite.ipynb",
   "provenance": [],
   "toc_visible": true
  },
  "kernelspec": {
   "display_name": "Python 3",
   "language": "python",
   "name": "python3"
  },
  "language_info": {
   "codemirror_mode": {
    "name": "ipython",
    "version": 3
   },
   "file_extension": ".py",
   "mimetype": "text/x-python",
   "name": "python",
   "nbconvert_exporter": "python",
   "pygments_lexer": "ipython3",
   "version": "3.8.5"
  }
 },
 "nbformat": 4,
 "nbformat_minor": 1
}
